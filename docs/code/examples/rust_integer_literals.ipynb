{
 "cells": [
  {
   "cell_type": "markdown",
   "id": "bdeaa5a2",
   "metadata": {},
   "source": [
    "# Number literals in Rust\n",
    "\n",
    "This notebook demonstrates how to use a subset of the grammar that defines the programming language Rust in order to evolve different Rust number literals that all evaluate to the same decimal number.\n",
    "\n",
    "## References\n",
    "\n",
    "- [The Rust Reference](https://doc.rust-lang.org/reference)\n",
    "\n",
    "  - [Number literals](https://doc.rust-lang.org/reference/tokens.html#number-literals)\n",
    "\n",
    "    - [Integer literals](https://doc.rust-lang.org/reference/tokens.html#integer-literals)\n",
    "    - [Floating-point literals](https://doc.rust-lang.org/reference/tokens.html#floating-point-literals)\n",
    "\n",
    "- Wikipedia\n",
    "\n",
    "  - [Numeral system](https://en.wikipedia.org/wiki/Numeral_system)\n",
    "\n",
    "    - [Binary](https://en.wikipedia.org/wiki/Binary_number): base 2\n",
    "    - [Octal](https://en.wikipedia.org/wiki/Octal): base 8\n",
    "    - [Decimal](https://en.wikipedia.org/wiki/Decimal): base 10\n",
    "    - [Hexadecimal](https://en.wikipedia.org/wiki/Hexadecimal): base 16"
   ]
  },
  {
   "cell_type": "code",
   "execution_count": 1,
   "id": "fae4564f",
   "metadata": {},
   "outputs": [],
   "source": [
    "import os\n",
    "import subprocess\n",
    "import tempfile\n",
    "\n",
    "import alogos as al\n",
    "import unified_map as um"
   ]
  },
  {
   "cell_type": "markdown",
   "id": "e3307d3a",
   "metadata": {},
   "source": [
    "## Preparation"
   ]
  },
  {
   "cell_type": "markdown",
   "id": "ec7d71e9",
   "metadata": {},
   "source": [
    "### 1) Run shell commands\n",
    "\n",
    "This is needed to use the Rust compiler `rustc` and to execute the compiled binary file."
   ]
  },
  {
   "cell_type": "code",
   "execution_count": 2,
   "id": "c4ffde4a",
   "metadata": {},
   "outputs": [],
   "source": [
    "def run_shell_command(cmd, timeout_in_sec=1):\n",
    "    proc = subprocess.Popen(cmd, stdout=subprocess.PIPE, stderr=subprocess.DEVNULL, shell=True)\n",
    "    out, err = proc.communicate(timeout=timeout_in_sec)\n",
    "    return out.decode()[:-1]"
   ]
  },
  {
   "cell_type": "markdown",
   "id": "27b993d0",
   "metadata": {},
   "source": [
    "### 2) Compile and run Rust code from Python"
   ]
  },
  {
   "cell_type": "code",
   "execution_count": 3,
   "id": "2f3a6462",
   "metadata": {},
   "outputs": [],
   "source": [
    "rust_template = \"\"\"\n",
    "fn main() {{\n",
    "  let expr = {};\n",
    "  println!(\"{{}}\", expr);\n",
    "}}\n",
    "\"\"\"\n",
    "\n",
    "def compile_and_run_rust(code):\n",
    "    with tempfile.NamedTemporaryFile('w') as fp:\n",
    "        fp.write(code)\n",
    "        fp.flush()\n",
    "        src = fp.name\n",
    "        trg = src + '.out'\n",
    "        run_shell_command('rustc {} -o {} 2> /dev/null'.format(src, trg))\n",
    "        output = run_shell_command(trg)\n",
    "        os.remove(trg)\n",
    "    return output\n",
    "\n",
    "def exec_rust_expression(expr):\n",
    "    code = rust_template.format(expr)\n",
    "    output = compile_and_run_rust(code)\n",
    "    return output"
   ]
  },
  {
   "cell_type": "code",
   "execution_count": 4,
   "id": "29bea0d7",
   "metadata": {},
   "outputs": [
    {
     "data": {
      "text/plain": [
       "'2'"
      ]
     },
     "execution_count": 4,
     "metadata": {},
     "output_type": "execute_result"
    }
   ],
   "source": [
    "exec_rust_expression('0b10')"
   ]
  },
  {
   "cell_type": "code",
   "execution_count": 5,
   "id": "a06027d6",
   "metadata": {},
   "outputs": [
    {
     "data": {
      "text/plain": [
       "'8'"
      ]
     },
     "execution_count": 5,
     "metadata": {},
     "output_type": "execute_result"
    }
   ],
   "source": [
    "exec_rust_expression('0o10')"
   ]
  },
  {
   "cell_type": "code",
   "execution_count": 6,
   "id": "2ac86fa5",
   "metadata": {},
   "outputs": [
    {
     "data": {
      "text/plain": [
       "'10'"
      ]
     },
     "execution_count": 6,
     "metadata": {},
     "output_type": "execute_result"
    }
   ],
   "source": [
    "exec_rust_expression('10')"
   ]
  },
  {
   "cell_type": "code",
   "execution_count": 7,
   "id": "dcb6ee80",
   "metadata": {},
   "outputs": [
    {
     "data": {
      "text/plain": [
       "'16'"
      ]
     },
     "execution_count": 7,
     "metadata": {},
     "output_type": "execute_result"
    }
   ],
   "source": [
    "exec_rust_expression('0x10')"
   ]
  },
  {
   "cell_type": "markdown",
   "id": "339b1440",
   "metadata": {},
   "source": [
    "## Definition of search space and goal\n",
    "\n",
    "### 1) Grammar\n",
    "\n",
    "This grammar defines the search space: a Rust number literal as defined in the Rust Reference."
   ]
  },
  {
   "cell_type": "code",
   "execution_count": 8,
   "id": "d247908b",
   "metadata": {},
   "outputs": [],
   "source": [
    "ebnf_template = \"\"\"\n",
    "EXPRESSION = {chosen_expression}\n",
    "\n",
    "FLOAT_LITERAL = DEC_LITERAL \".\"\n",
    "   | DEC_LITERAL FLOAT_EXPONENT\n",
    "   | DEC_LITERAL \".\" DEC_LITERAL FLOAT_EXPONENT?\n",
    "   | DEC_LITERAL (\".\" DEC_LITERAL)? FLOAT_EXPONENT? FLOAT_SUFFIX\n",
    "FLOAT_EXPONENT = (\"e\"|\"E\") (\"+\"|\"-\")? (DEC_DIGIT|\"_\")* DEC_DIGIT (DEC_DIGIT|\"_\")*\n",
    "FLOAT_SUFFIX = \"f32\" | \"f64\"\n",
    "\n",
    "INTEGER_LITERAL = ( DEC_LITERAL | BIN_LITERAL | OCT_LITERAL | HEX_LITERAL ) INTEGER_SUFFIX?\n",
    "DEC_LITERAL = DEC_DIGIT (DEC_DIGIT|_)*\n",
    "BIN_LITERAL = \"0b\" (BIN_DIGIT|_)* BIN_DIGIT (BIN_DIGIT|_)*\n",
    "OCT_LITERAL = \"0o\" (OCT_DIGIT|_)* OCT_DIGIT (OCT_DIGIT|_)*\n",
    "HEX_LITERAL = \"0x\" (HEX_DIGIT|_)* HEX_DIGIT (HEX_DIGIT|_)*\n",
    "BIN_DIGIT = \"0\" | \"1\"\n",
    "OCT_DIGIT = \"0\" | \"1\" | \"2\" | \"3\" | \"4\" | \"5\" | \"6\" | \"7\" \n",
    "DEC_DIGIT = \"0\" | \"1\" | \"2\" | \"3\" | \"4\" | \"5\" | \"6\" | \"7\" | \"8\" | \"9\" \n",
    "HEX_DIGIT = \"0\" | \"1\" | \"2\" | \"3\" | \"4\" | \"5\" | \"6\" | \"7\" | \"8\" | \"9\" |\n",
    "            \"a\" | \"b\" | \"c\" | \"d\" | \"e\" | \"f\" |\n",
    "            \"A\" | \"B\" | \"C\" | \"D\" | \"E\" | \"F\"\n",
    "INTEGER_SUFFIX = \"u8\" | \"u16\" | \"u32\" | \"u64\" | \"u128\" | \"usize\" | \"i8\" | \"i16\" | \"i32\" | \"i64\" | \"i128\" | \"isize\"\n",
    "\"\"\"\n",
    "\n",
    "\n",
    "def generate_grammar(chosen_expression):\n",
    "    ebnf_text = ebnf_template.format(chosen_expression=chosen_expression)\n",
    "    grammar = al.Grammar(ebnf_text=ebnf_text)\n",
    "    return grammar\n",
    "\n",
    "\n",
    "grammar_num = generate_grammar(chosen_expression='INTEGER_LITERAL | FLOAT_LITERAL')\n",
    "\n",
    "grammar_float = generate_grammar(chosen_expression='FLOAT_LITERAL')\n",
    "grammar_int = generate_grammar(chosen_expression='INTEGER_LITERAL')\n",
    "\n",
    "grammar_dec = generate_grammar(chosen_expression='DEC_LITERAL')\n",
    "grammar_bin = generate_grammar(chosen_expression='BIN_LITERAL')\n",
    "grammar_oct = generate_grammar(chosen_expression='OCT_LITERAL')\n",
    "grammar_hex = generate_grammar(chosen_expression='HEX_LITERAL')"
   ]
  },
  {
   "cell_type": "markdown",
   "id": "987e015a",
   "metadata": {},
   "source": [
    "### 2) Objective function\n",
    "\n",
    "The objective function gets a candidate solution (=a string of the grammar's language) and returns a fitness value for it. This is done by 1) inserting the Rust number literal into a Rust program that prints the number 2) compile and run that Rust program, and 3) compute how much it deviate from a target number."
   ]
  },
  {
   "cell_type": "code",
   "execution_count": 9,
   "id": "e6110b41",
   "metadata": {},
   "outputs": [],
   "source": [
    "target = 42\n",
    "\n",
    "def objective_function(string):\n",
    "    number = float(exec_rust_expression(string))\n",
    "    return abs(number-target)"
   ]
  },
  {
   "cell_type": "markdown",
   "id": "fefc3975",
   "metadata": {},
   "source": [
    "## Generation of a random solution\n",
    "\n",
    "Check if grammar and objective function work as intended."
   ]
  },
  {
   "cell_type": "code",
   "execution_count": 10,
   "id": "7faae7c1",
   "metadata": {},
   "outputs": [
    {
     "name": "stdout",
     "output_type": "stream",
     "text": [
      "4e_454f64\n",
      "0o41u16\n",
      "271.41e+82\n",
      "0b10\n",
      "0x0E\n",
      "0b0010000i64\n",
      "90e6\n",
      "4u8\n",
      "0o3usize\n",
      "2\n"
     ]
    }
   ],
   "source": [
    "for _ in range(10):\n",
    "    random_string = grammar_num.generate_string()\n",
    "    print(random_string)"
   ]
  },
  {
   "cell_type": "code",
   "execution_count": 11,
   "id": "3d08a311",
   "metadata": {},
   "outputs": [
    {
     "data": {
      "text/plain": [
       "40.0"
      ]
     },
     "execution_count": 11,
     "metadata": {},
     "output_type": "execute_result"
    }
   ],
   "source": [
    "objective_function(random_string)"
   ]
  },
  {
   "cell_type": "markdown",
   "id": "c4a47967",
   "metadata": {},
   "source": [
    "## Search for an optimal solution\n",
    "\n",
    "Evolutionary optimization with random variation and non-random selection is used to find increasingly better candidate solutions.\n",
    "\n",
    "### Find a binary literal that evaluates to decimal 42"
   ]
  },
  {
   "cell_type": "code",
   "execution_count": 12,
   "id": "d102fe18",
   "metadata": {},
   "outputs": [
    {
     "name": "stdout",
     "output_type": "stream",
     "text": [
      "Progress         Generations      Evaluations      Runtime (sec)    Best fitness    \n",
      "..... ....\n",
      "\n",
      "Finished         9                55               3.8              0.0             \n"
     ]
    }
   ],
   "source": [
    "ea = al.EvolutionaryAlgorithm(\n",
    "    grammar_bin, objective_function, 'min', max_or_min_fitness=0.0, population_size=8, offspring_size=8,\n",
    "    verbose=True, evaluator=um.univariate.parallel.futures)\n",
    "best_ind = ea.run()"
   ]
  },
  {
   "cell_type": "code",
   "execution_count": 13,
   "id": "b5a4eacd",
   "metadata": {},
   "outputs": [
    {
     "name": "stdout",
     "output_type": "stream",
     "text": [
      "Rust expression: 0b101010\n"
     ]
    }
   ],
   "source": [
    "string = best_ind.phenotype\n",
    "print('Rust expression:', string)"
   ]
  },
  {
   "cell_type": "code",
   "execution_count": 14,
   "id": "088829a3",
   "metadata": {},
   "outputs": [
    {
     "name": "stdout",
     "output_type": "stream",
     "text": [
      "Rust program: \n",
      "fn main() {\n",
      "  let expr = 0b101010;\n",
      "  println!(\"{}\", expr);\n",
      "}\n",
      "\n"
     ]
    }
   ],
   "source": [
    "program = rust_template.format(string)\n",
    "print('Rust program:', program)"
   ]
  },
  {
   "cell_type": "markdown",
   "id": "c510afd6",
   "metadata": {},
   "source": [
    "### Find an octal literal that evaluates to decimal 42"
   ]
  },
  {
   "cell_type": "code",
   "execution_count": 15,
   "id": "3ea84944",
   "metadata": {},
   "outputs": [
    {
     "name": "stdout",
     "output_type": "stream",
     "text": [
      "Progress         Generations      Evaluations      Runtime (sec)    Best fitness    \n",
      "..... .....      10               79               2.3              39.0\n",
      "..... .....      20               129              6.8              3.0\n",
      "..... .....      30               158              10.1             1.0\n",
      "..... .....      40               183              12.8             1.0\n",
      "..... \n",
      "\n",
      "Finished         45               194              14.2             0.0             \n"
     ]
    }
   ],
   "source": [
    "ea = al.EvolutionaryAlgorithm(\n",
    "    grammar_oct, objective_function, 'min', max_or_min_fitness=0.0, population_size=8, offspring_size=8,\n",
    "    verbose=True, evaluator=um.univariate.parallel.futures)\n",
    "best_ind = ea.run()"
   ]
  },
  {
   "cell_type": "code",
   "execution_count": 16,
   "id": "775fce45",
   "metadata": {},
   "outputs": [
    {
     "name": "stdout",
     "output_type": "stream",
     "text": [
      "Rust expression: 0o52\n"
     ]
    }
   ],
   "source": [
    "string = best_ind.phenotype\n",
    "print('Rust expression:', string)"
   ]
  },
  {
   "cell_type": "code",
   "execution_count": 17,
   "id": "69df3a3e",
   "metadata": {},
   "outputs": [
    {
     "name": "stdout",
     "output_type": "stream",
     "text": [
      "Rust program: \n",
      "fn main() {\n",
      "  let expr = 0o52;\n",
      "  println!(\"{}\", expr);\n",
      "}\n",
      "\n"
     ]
    }
   ],
   "source": [
    "program = rust_template.format(string)\n",
    "print('Rust program:', program)"
   ]
  },
  {
   "cell_type": "markdown",
   "id": "e233a055",
   "metadata": {},
   "source": [
    "### Find a hexadecimal literal that evaluates to decimal 42"
   ]
  },
  {
   "cell_type": "code",
   "execution_count": 18,
   "id": "3125e6bb",
   "metadata": {},
   "outputs": [
    {
     "name": "stdout",
     "output_type": "stream",
     "text": [
      "Progress         Generations      Evaluations      Runtime (sec)    Best fitness    \n",
      "..... .....      10               76               1.9              3504.0\n",
      "..... .....      20               145              5.6              1.0\n",
      "....\n",
      "\n",
      "Finished         24               167              7.8              0.0             \n"
     ]
    }
   ],
   "source": [
    "ea = al.EvolutionaryAlgorithm(\n",
    "    grammar_hex, objective_function, 'min', max_or_min_fitness=0.0, population_size=8, offspring_size=8,\n",
    "    verbose=True, evaluator=um.univariate.parallel.futures)\n",
    "best_ind = ea.run()"
   ]
  },
  {
   "cell_type": "code",
   "execution_count": 19,
   "id": "894e4745",
   "metadata": {},
   "outputs": [
    {
     "name": "stdout",
     "output_type": "stream",
     "text": [
      "Rust expression: 0x2A\n"
     ]
    }
   ],
   "source": [
    "string = best_ind.phenotype\n",
    "print('Rust expression:', string)"
   ]
  },
  {
   "cell_type": "code",
   "execution_count": 20,
   "id": "3ef2af84",
   "metadata": {},
   "outputs": [
    {
     "name": "stdout",
     "output_type": "stream",
     "text": [
      "Rust program: \n",
      "fn main() {\n",
      "  let expr = 0x2A;\n",
      "  println!(\"{}\", expr);\n",
      "}\n",
      "\n"
     ]
    }
   ],
   "source": [
    "program = rust_template.format(string)\n",
    "print('Rust program:', program)"
   ]
  }
 ],
 "metadata": {
  "kernelspec": {
   "display_name": "Python 3 (ipykernel)",
   "language": "python",
   "name": "python3"
  },
  "language_info": {
   "codemirror_mode": {
    "name": "ipython",
    "version": 3
   },
   "file_extension": ".py",
   "mimetype": "text/x-python",
   "name": "python",
   "nbconvert_exporter": "python",
   "pygments_lexer": "ipython3",
   "version": "3.10.4"
  }
 },
 "nbformat": 4,
 "nbformat_minor": 5
}
