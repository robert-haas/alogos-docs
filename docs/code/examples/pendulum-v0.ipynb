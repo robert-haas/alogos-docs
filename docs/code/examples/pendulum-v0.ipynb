{
 "cells": [
  {
   "cell_type": "markdown",
   "id": "average-campaign",
   "metadata": {},
   "source": [
    "# OpenAI Gym: Pendulum-v0\n",
    "\n",
    "This notebook demonstrates how grammar-guided genetic programming (G3P) can be used to solve the Pendulum-v0 problem from OpenAI Gym. This is achieved by searching for a small program that defines an agent, who uses an algebraic expression of the observed variables to decide which action to take in each moment.\n",
    "\n",
    "Caution: This notebook was run with gym v0.20.0 (pip install gym==0.20.0) and pyglet v1.5.27 (pip install pyglet==1.5.27). Gym deprecated \"Pendulum-v0\" from v0.20.0 to v.0.21.0. Gym changed its API from v0.25.2 to v0.26.0. Pyglet changed its API from 1.5.27 to 2.0.0.\n",
    "\n",
    "\n",
    "## References\n",
    "\n",
    "- OpenAI Gym website\n",
    "\n",
    "  - [Classic problems from control theory](https://gym.openai.com/envs/#classic_control): an overview of environments\n",
    "  - [Pendulum-v0](https://gym.openai.com/envs/Pendulum-v0): the environment solved here\n",
    "\n",
    "- GitHub\n",
    "\n",
    "  - [Pendulum-v1](https://github.com/openai/gym/wiki/pendulum-v1): details on the next version of the environment solved here\n",
    "  - [Leaderboard](https://github.com/openai/gym/wiki/Leaderboard#pendulum-v0): community wiki to track user-provided solutions\n",
    "  - [Example solution](https://github.com/ZhiqingXiao/OpenAIGymSolution/tree/master/Pendulum-v0): a fixed policy written by Zhiqing Xiao"
   ]
  },
  {
   "cell_type": "code",
   "execution_count": 1,
   "id": "wound-nebraska",
   "metadata": {},
   "outputs": [],
   "source": [
    "import time\n",
    "import warnings\n",
    "\n",
    "import alogos as al\n",
    "import gym\n",
    "import numpy as np\n",
    "import unified_map as um"
   ]
  },
  {
   "cell_type": "code",
   "execution_count": 2,
   "id": "a4fd1e0e",
   "metadata": {},
   "outputs": [],
   "source": [
    "warnings.filterwarnings('ignore')"
   ]
  },
  {
   "cell_type": "markdown",
   "id": "a746bbec",
   "metadata": {},
   "source": [
    "## Preparation\n",
    "\n",
    "### 1) Environment\n",
    "\n",
    "Pendulum-v0: The aim is to swing up a frictionless pendulum and keep it standing upright there, starting from random position and velocity. The agent observes the current position and velocity of the pendulum. It can act by applying limited torque to the joint (continuous value between -2 to +2)"
   ]
  },
  {
   "cell_type": "code",
   "execution_count": 3,
   "id": "loaded-conditions",
   "metadata": {},
   "outputs": [],
   "source": [
    "env = gym.make('Pendulum-v0')"
   ]
  },
  {
   "cell_type": "markdown",
   "id": "connected-footwear",
   "metadata": {},
   "source": [
    "### 2) Functions to run single or multiple simulations\n",
    "\n",
    "It allows an agent to act in an environment and collect rewards until the environment signals it is done."
   ]
  },
  {
   "cell_type": "code",
   "execution_count": 4,
   "id": "saved-melissa",
   "metadata": {},
   "outputs": [],
   "source": [
    "def simulate_single_run(env, agent, render=False):\n",
    "    observation = env.reset()\n",
    "    episode_reward = 0.0\n",
    "    while True:\n",
    "        action = agent.decide(observation)\n",
    "        observation, reward, done, info = env.step(action)\n",
    "        episode_reward += reward\n",
    "        if render:\n",
    "            time.sleep(0.03)\n",
    "            env.render()\n",
    "        if done:\n",
    "            break\n",
    "    env.close()\n",
    "    return episode_reward"
   ]
  },
  {
   "cell_type": "code",
   "execution_count": 5,
   "id": "subtle-chart",
   "metadata": {},
   "outputs": [],
   "source": [
    "def simulate_multiple_runs(env, agent, n):\n",
    "    total_reward = sum(simulate_single_run(env, agent) for _ in range(n))\n",
    "    mean_reward = total_reward / n\n",
    "    return mean_reward"
   ]
  },
  {
   "cell_type": "markdown",
   "id": "handled-offer",
   "metadata": {},
   "source": [
    "## Example solutions"
   ]
  },
  {
   "cell_type": "code",
   "execution_count": 6,
   "id": "d181607e",
   "metadata": {},
   "outputs": [],
   "source": [
    "num_sim = 500"
   ]
  },
  {
   "cell_type": "markdown",
   "id": "70a89ef1",
   "metadata": {},
   "source": [
    "### 1) By Zhiqing Xiao"
   ]
  },
  {
   "cell_type": "code",
   "execution_count": 7,
   "id": "changed-caribbean",
   "metadata": {},
   "outputs": [
    {
     "data": {
      "text/plain": [
       "-146.6261378431444"
      ]
     },
     "execution_count": 7,
     "metadata": {},
     "output_type": "execute_result"
    }
   ],
   "source": [
    "class Agent:\n",
    "    def decide(self, observation):\n",
    "        x, y, angle_velocity = observation\n",
    "        flip = (y < 0.)\n",
    "        if flip:\n",
    "            y *= -1. # now y >= 0\n",
    "            angle_velocity *= -1.\n",
    "        angle = np.arcsin(y)\n",
    "        if x < 0.:\n",
    "            angle = np.pi - angle\n",
    "        if (angle < -0.3 * angle_velocity) or \\\n",
    "                (angle > 0.03 * (angle_velocity - 2.5) ** 2. + 1. and \\\n",
    "                angle < 0.15 * (angle_velocity + 3.) ** 2. + 2.):\n",
    "            force = 2.\n",
    "        else:\n",
    "            force = -2.\n",
    "        if flip:\n",
    "            force *= -1.\n",
    "        action = np.array([force,])\n",
    "        return action\n",
    "\n",
    "agent = Agent()\n",
    "simulate_multiple_runs(env, agent, num_sim)"
   ]
  },
  {
   "cell_type": "markdown",
   "id": "fourth-death",
   "metadata": {},
   "source": [
    "### 2) By previous runs of evolutionary optimization"
   ]
  },
  {
   "cell_type": "code",
   "execution_count": 8,
   "id": "designed-deficit",
   "metadata": {},
   "outputs": [
    {
     "data": {
      "text/plain": [
       "-185.80858672911128"
      ]
     },
     "execution_count": 8,
     "metadata": {},
     "output_type": "execute_result"
    }
   ],
   "source": [
    "class Agent:\n",
    "    def decide(self, observation):\n",
    "        x, y, angle_velocity = observation\n",
    "        output = (6.46/((4.45**(5.67/8.42))/((((y-y)*1.50)-(((x/x)/x)*angle_velocity))-((5.40*x)*y))))\n",
    "        action = [min(max(output, -2.0), 2.0)]\n",
    "        return action\n",
    "\n",
    "agent = Agent()\n",
    "simulate_multiple_runs(env, agent, num_sim)"
   ]
  },
  {
   "cell_type": "code",
   "execution_count": 9,
   "id": "ordered-wyoming",
   "metadata": {},
   "outputs": [
    {
     "data": {
      "text/plain": [
       "-216.15272672117865"
      ]
     },
     "execution_count": 9,
     "metadata": {},
     "output_type": "execute_result"
    }
   ],
   "source": [
    "class Agent:\n",
    "    def decide(self, observation):\n",
    "        x, y, angle_velocity = observation\n",
    "        output = ((x/(((2.29-4.83)+y)/(angle_velocity+(8.50*(9.86/0.28)))))*(y+angle_velocity))\n",
    "        action = [min(max(output, -2.0), 2.0)]\n",
    "        return action\n",
    "    \n",
    "agent = Agent()\n",
    "simulate_multiple_runs(env, agent, num_sim)"
   ]
  },
  {
   "cell_type": "code",
   "execution_count": 10,
   "id": "secret-entity",
   "metadata": {},
   "outputs": [
    {
     "data": {
      "text/plain": [
       "-264.6755941288853"
      ]
     },
     "execution_count": 10,
     "metadata": {},
     "output_type": "execute_result"
    }
   ],
   "source": [
    "class Agent:\n",
    "    def decide(self, observation):\n",
    "        x, y, angle_velocity = observation\n",
    "        output = (((((7.05/(x+(6.66/1.04)))-angle_velocity)-((y+y)+x))*3.04)/x)\n",
    "        action = [min(max(output, -2.0), 2.0)]\n",
    "        return action\n",
    "\n",
    "agent = Agent()\n",
    "simulate_multiple_runs(env, agent, num_sim)"
   ]
  },
  {
   "cell_type": "code",
   "execution_count": 11,
   "id": "above-edinburgh",
   "metadata": {},
   "outputs": [
    {
     "data": {
      "text/plain": [
       "-322.65006620221567"
      ]
     },
     "execution_count": 11,
     "metadata": {},
     "output_type": "execute_result"
    }
   ],
   "source": [
    "class Agent:\n",
    "    def decide(self, observation):\n",
    "        x, y, angle_velocity = observation\n",
    "        output = ((((2.05*x)-x)*((x-6.40)-(angle_velocity/y)))/y)\n",
    "        action = [min(max(output, -2.0), 2.0)]\n",
    "        return action\n",
    "\n",
    "agent = Agent()\n",
    "simulate_multiple_runs(env, agent, num_sim)"
   ]
  },
  {
   "cell_type": "markdown",
   "id": "level-livestock",
   "metadata": {},
   "source": [
    "## Definition of search space and goal\n",
    "\n",
    "### 1) Grammar\n",
    "\n",
    "This grammar defines the search space: a Python program that creates an Agent who uses an algebraic expression of the observed variables to decide how to act in each situation."
   ]
  },
  {
   "cell_type": "code",
   "execution_count": 12,
   "id": "center-penalty",
   "metadata": {},
   "outputs": [],
   "source": [
    "ebnf_text = \"\"\"\n",
    "program = L0 NL L1 NL L2 NL L3 NL L4 NL L5\n",
    "\n",
    "L0 = \"class Agent:\"\n",
    "L1 = \"    def decide(self, observation):\"\n",
    "L2 = \"        x, y, angle_velocity = observation\"\n",
    "L3 = \"        output = \" EXPR\n",
    "L4 = \"        action = [min(max(output, -2.0), 2.0)]\"\n",
    "L5 = \"        return action\"\n",
    "\n",
    "NL = \"\\n\"\n",
    "\n",
    "EXPR = VAR | CONST | \"(\" EXPR OP EXPR \")\"\n",
    "VAR = \"x\" | \"y\" | \"angle_velocity\"\n",
    "CONST = DIGIT \".\" DIGIT DIGIT\n",
    "OP = \"+\" | \"-\" | \"*\" | \"/\" | \"**\"\n",
    "DIGIT = \"0\" | \"1\" | \"2\" | \"3\" | \"4\" | \"5\" | \"6\" | \"7\" | \"8\" | \"9\"\n",
    "\"\"\"\n",
    "\n",
    "grammar = al.Grammar(ebnf_text=ebnf_text)"
   ]
  },
  {
   "cell_type": "markdown",
   "id": "prospective-ready",
   "metadata": {},
   "source": [
    "### 2) Objective function\n",
    "\n",
    "The objective function gets a candidate solution (=a string of the grammar's language) and returns a fitness value for it. This is done by 1) executing the string as a Python program, so that it creates an agent object, and then 2) using the agent in multiple simulations to see how good it can handle different situations: the higher the total reward, the better is the candidate."
   ]
  },
  {
   "cell_type": "code",
   "execution_count": 13,
   "id": "linear-persian",
   "metadata": {},
   "outputs": [],
   "source": [
    "def string_to_agent(string):\n",
    "    local_vars = dict()\n",
    "    exec(string, None, local_vars)\n",
    "    Agent = local_vars['Agent']\n",
    "    return Agent()\n",
    "\n",
    "\n",
    "def objective_function(string):\n",
    "    agent = string_to_agent(string)\n",
    "    avg_reward = simulate_multiple_runs(env, agent, 15)\n",
    "    return avg_reward"
   ]
  },
  {
   "cell_type": "markdown",
   "id": "f5289fc1",
   "metadata": {},
   "source": [
    "## Generation of a random solution\n",
    "\n",
    "Check if grammar and objective function work as intended."
   ]
  },
  {
   "cell_type": "code",
   "execution_count": 14,
   "id": "02ce68d0",
   "metadata": {},
   "outputs": [
    {
     "name": "stdout",
     "output_type": "stream",
     "text": [
      "class Agent:\n",
      "    def decide(self, observation):\n",
      "        x, y, angle_velocity = observation\n",
      "        output = ((angle_velocity/y)**angle_velocity)\n",
      "        action = [min(max(output, -2.0), 2.0)]\n",
      "        return action\n"
     ]
    }
   ],
   "source": [
    "random_string = grammar.generate_string()\n",
    "print(random_string)"
   ]
  },
  {
   "cell_type": "code",
   "execution_count": 15,
   "id": "235f0e3b",
   "metadata": {},
   "outputs": [
    {
     "data": {
      "text/plain": [
       "nan"
      ]
     },
     "execution_count": 15,
     "metadata": {},
     "output_type": "execute_result"
    }
   ],
   "source": [
    "objective_function(random_string)"
   ]
  },
  {
   "cell_type": "markdown",
   "id": "d20dd27c",
   "metadata": {},
   "source": [
    "## Search for an optimal solution\n",
    "\n",
    "Evolutionary optimization with random variation and non-random selection is used to find increasingly better candidate solutions.\n",
    "\n",
    "### 1) Parameterization"
   ]
  },
  {
   "cell_type": "code",
   "execution_count": 16,
   "id": "e0df788b",
   "metadata": {},
   "outputs": [],
   "source": [
    "ea = al.EvolutionaryAlgorithm(\n",
    "    grammar, objective_function, 'max',\n",
    "    max_or_min_fitness=-180, population_size=50, offspring_size=50,\n",
    "    evaluator=um.univariate.parallel.futures, verbose=True)"
   ]
  },
  {
   "cell_type": "markdown",
   "id": "a6f26854",
   "metadata": {},
   "source": [
    "### 2) Run"
   ]
  },
  {
   "cell_type": "code",
   "execution_count": 17,
   "id": "inside-florence",
   "metadata": {},
   "outputs": [
    {
     "name": "stdout",
     "output_type": "stream",
     "text": [
      "Progress         Generations      Evaluations      Runtime (sec)    Best fitness    \n",
      "..... .....      10               369              25.2             -1186.9689994988496\n",
      "..... .....      20               540              33.5             -727.2836108335539\n",
      "..... .....      30               836              47.9             -378.6647331268654\n",
      "..... .....      40               1193             67.7             -286.09358866928585\n",
      "..... .....      50               1465             81.4             -240.8040736173183\n",
      "..... .....      60               1780             97.0             -239.95336646733077\n",
      "..... ..\n",
      "\n",
      "Finished         67               1990             111.1            -173.8957367860315\n"
     ]
    }
   ],
   "source": [
    "best_ind = ea.run()"
   ]
  },
  {
   "cell_type": "markdown",
   "id": "212be541",
   "metadata": {},
   "source": [
    "### 3) Result"
   ]
  },
  {
   "cell_type": "code",
   "execution_count": 18,
   "id": "7314bc2d",
   "metadata": {},
   "outputs": [
    {
     "name": "stdout",
     "output_type": "stream",
     "text": [
      "class Agent:\n",
      "    def decide(self, observation):\n",
      "        x, y, angle_velocity = observation\n",
      "        output = (((y*((angle_velocity*8.64)-5.86))-y)-(angle_velocity/(0.05*x)))\n",
      "        action = [min(max(output, -2.0), 2.0)]\n",
      "        return action\n"
     ]
    }
   ],
   "source": [
    "string = best_ind.phenotype\n",
    "print(string)"
   ]
  },
  {
   "cell_type": "code",
   "execution_count": 19,
   "id": "602f3c5e",
   "metadata": {},
   "outputs": [
    {
     "data": {
      "text/plain": [
       "-232.48567351045173"
      ]
     },
     "execution_count": 19,
     "metadata": {},
     "output_type": "execute_result"
    }
   ],
   "source": [
    "agent = string_to_agent(string)\n",
    "simulate_multiple_runs(env, agent, 100)"
   ]
  },
  {
   "cell_type": "code",
   "execution_count": 20,
   "id": "fossil-deficit",
   "metadata": {},
   "outputs": [
    {
     "data": {
      "text/plain": [
       "-375.62393381779486"
      ]
     },
     "execution_count": 20,
     "metadata": {},
     "output_type": "execute_result"
    }
   ],
   "source": [
    "simulate_single_run(env, agent, render=True)"
   ]
  }
 ],
 "metadata": {
  "kernelspec": {
   "display_name": "Python 3 (ipykernel)",
   "language": "python",
   "name": "python3"
  },
  "language_info": {
   "codemirror_mode": {
    "name": "ipython",
    "version": 3
   },
   "file_extension": ".py",
   "mimetype": "text/x-python",
   "name": "python",
   "nbconvert_exporter": "python",
   "pygments_lexer": "ipython3",
   "version": "3.10.4"
  }
 },
 "nbformat": 4,
 "nbformat_minor": 5
}
