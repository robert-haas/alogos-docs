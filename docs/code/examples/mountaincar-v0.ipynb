{
 "cells": [
  {
   "cell_type": "markdown",
   "id": "cross-satisfaction",
   "metadata": {},
   "source": [
    "# OpenAI Gym: MountainCar-v0\n",
    "\n",
    "This notebook shows how grammar-guided genetic programming (G3P) can be used to solve the MountainCar-v0 problem from OpenAI Gym. This is achieved by searching for a small program that defines an agent, who uses an algebraic expression of the observed variables to decide which action to take in each moment.\n",
    "\n",
    "Caution: This notebook was run with gym v0.20.0 (pip install gym==0.20.0) and pyglet v1.5.27 (pip install pyglet==1.5.27). Gym deprecated \"Pendulum-v0\" from v0.20.0 to v.0.21.0. Gym changed its API from v0.25.2 to v0.26.0. Pyglet changed its API from 1.5.27 to 2.0.0.\n",
    "\n",
    "## References\n",
    "\n",
    "- OpenAI Gym website\n",
    "\n",
    "  - [Classic problems from control theory](https://gym.openai.com/envs/#classic_control): an overview of environments\n",
    "  - [MountainCar-v0](https://gym.openai.com/envs/MountainCar-v0): the environment solved here\n",
    "\n",
    "- GitHub\n",
    "\n",
    "  - [MountainCar-v0](https://github.com/openai/gym/wiki/MountainCar-v0): details on the environment solved here\n",
    "  - [Leaderboard](https://github.com/openai/gym/wiki/Leaderboard#mountaincar-v0): community wiki to track user-provided solutions\n",
    "  - [Example solution](https://github.com/ZhiqingXiao/OpenAIGymSolution/blob/master/MountainCar-v0_close_form/mountaincar_v0_close_form.ipynb): a fixed policy written by Zhiqing Xiao"
   ]
  },
  {
   "cell_type": "code",
   "execution_count": 1,
   "id": "basic-genetics",
   "metadata": {},
   "outputs": [],
   "source": [
    "import time\n",
    "import warnings\n",
    "\n",
    "import alogos as al\n",
    "import gym\n",
    "import unified_map as um"
   ]
  },
  {
   "cell_type": "code",
   "execution_count": 2,
   "id": "19c584e9",
   "metadata": {},
   "outputs": [],
   "source": [
    "warnings.filterwarnings('ignore')"
   ]
  },
  {
   "cell_type": "markdown",
   "id": "650c36df",
   "metadata": {},
   "source": [
    "## Preparation\n",
    "\n",
    "### 1) Environment\n",
    "\n",
    "MountainCar-v0: The aim is to drive a car up the right hill, but its engine is not strong\n",
    "enough, so it needs to build up momentum first. The agent observes the\n",
    "current position and velocity of the car. It can act by pushing the car to the\n",
    "left (value 0), applying no push (value 1), or pushing it to the right (value 2)."
   ]
  },
  {
   "cell_type": "code",
   "execution_count": 3,
   "id": "logical-hebrew",
   "metadata": {},
   "outputs": [],
   "source": [
    "env = gym.make('MountainCar-v0')"
   ]
  },
  {
   "cell_type": "markdown",
   "id": "0e7c7a81",
   "metadata": {},
   "source": [
    "### 2) Functions to run single or multiple simulations\n",
    "\n",
    "It allows an agent to act in an environment and collect rewards until the environment signals it is done."
   ]
  },
  {
   "cell_type": "code",
   "execution_count": 4,
   "id": "severe-recovery",
   "metadata": {},
   "outputs": [],
   "source": [
    "def simulate_single_run(env, agent, render=False):\n",
    "    observation = env.reset()\n",
    "    episode_reward = 0.0\n",
    "    while True:\n",
    "        action = agent.decide(observation)\n",
    "        observation, reward, done, info = env.step(action)\n",
    "        episode_reward += reward\n",
    "        if render:\n",
    "            time.sleep(0.025)\n",
    "            env.render()\n",
    "        if done:\n",
    "            break\n",
    "    env.close()\n",
    "    return episode_reward"
   ]
  },
  {
   "cell_type": "code",
   "execution_count": 5,
   "id": "extensive-encyclopedia",
   "metadata": {},
   "outputs": [],
   "source": [
    "def simulate_multiple_runs(env, agent, n):\n",
    "    total_reward = sum(simulate_single_run(env, agent) for _ in range(n))\n",
    "    mean_reward = total_reward / n\n",
    "    return mean_reward"
   ]
  },
  {
   "cell_type": "markdown",
   "id": "becoming-concern",
   "metadata": {},
   "source": [
    "## Example solutions"
   ]
  },
  {
   "cell_type": "code",
   "execution_count": 6,
   "id": "144452b9",
   "metadata": {},
   "outputs": [],
   "source": [
    "num_sim = 200"
   ]
  },
  {
   "cell_type": "markdown",
   "id": "304562c8",
   "metadata": {},
   "source": [
    "### 1) By Zhiqing Xiao"
   ]
  },
  {
   "cell_type": "code",
   "execution_count": 7,
   "id": "cheap-relief",
   "metadata": {},
   "outputs": [
    {
     "data": {
      "text/plain": [
       "-107.605"
      ]
     },
     "execution_count": 7,
     "metadata": {},
     "output_type": "execute_result"
    }
   ],
   "source": [
    "class Agent:\n",
    "    def decide(self, observation):\n",
    "        position, velocity = observation\n",
    "        lb = min(-0.09 * (position + 0.25) ** 2 + 0.03,\n",
    "                 0.3 * (position + 0.9) ** 4 - 0.008)\n",
    "        ub = -0.07 * (position + 0.38) ** 2 + 0.07\n",
    "        if lb < velocity < ub:\n",
    "            action = 2  # push right\n",
    "        else:\n",
    "            action = 0  # push left\n",
    "        return action\n",
    "\n",
    "agent = Agent()\n",
    "simulate_multiple_runs(env, agent, num_sim)"
   ]
  },
  {
   "cell_type": "markdown",
   "id": "economic-beatles",
   "metadata": {},
   "source": [
    "### 2) By previous runs of evolutionary optimization"
   ]
  },
  {
   "cell_type": "code",
   "execution_count": 8,
   "id": "proper-translation",
   "metadata": {},
   "outputs": [
    {
     "data": {
      "text/plain": [
       "-119.285"
      ]
     },
     "execution_count": 8,
     "metadata": {},
     "output_type": "execute_result"
    }
   ],
   "source": [
    "class Agent:\n",
    "    def decide(self, observation):\n",
    "        position, velocity = observation\n",
    "        output = (7.83**velocity)\n",
    "        action = 0 if output < 1.0 else 2\n",
    "        return action\n",
    "\n",
    "agent = Agent()\n",
    "simulate_multiple_runs(env, agent, num_sim)"
   ]
  },
  {
   "cell_type": "code",
   "execution_count": 9,
   "id": "challenging-smoke",
   "metadata": {},
   "outputs": [
    {
     "data": {
      "text/plain": [
       "-119.75"
      ]
     },
     "execution_count": 9,
     "metadata": {},
     "output_type": "execute_result"
    }
   ],
   "source": [
    "class Agent:\n",
    "    def decide(self, observation):\n",
    "        position, velocity = observation\n",
    "        output = (4.59/(3.35*velocity))\n",
    "        action = 0 if output < 1.0 else 2\n",
    "        return action\n",
    "\n",
    "agent = Agent()\n",
    "simulate_multiple_runs(env, agent, num_sim)"
   ]
  },
  {
   "cell_type": "code",
   "execution_count": 10,
   "id": "threaded-rating",
   "metadata": {},
   "outputs": [
    {
     "data": {
      "text/plain": [
       "-115.635"
      ]
     },
     "execution_count": 10,
     "metadata": {},
     "output_type": "execute_result"
    }
   ],
   "source": [
    "class Agent:\n",
    "    def decide(self, observation):\n",
    "        position, velocity = observation\n",
    "        output = (((((2.18/velocity)-velocity)-((((velocity/7.27)/position)+(velocity*(position-position)))*(((2.64+(8.48*velocity))+(5.86*position))*9.40)))+((5.59*position)+(((0.19*(((velocity-(velocity*4.62))+1.42)+(((0.09-position)**6.40)*5.21)))**((4.09/(7.32/6.71))/5.33))**((position*(position*(1.69+(3.20-3.13))))**8.44))))/(velocity/velocity))\n",
    "        action = 0 if output < 1.0 else 2\n",
    "        return action\n",
    "\n",
    "agent = Agent()\n",
    "simulate_multiple_runs(env, agent, num_sim)"
   ]
  },
  {
   "cell_type": "markdown",
   "id": "beffd46f",
   "metadata": {},
   "source": [
    "## Definition of search space and goal"
   ]
  },
  {
   "cell_type": "markdown",
   "id": "driven-bumper",
   "metadata": {},
   "source": [
    "### 1) Grammar\n",
    "\n",
    "This grammar defines the search space: a Python program that creates an Agent who uses an algebraic expression of the observed variables to decide how to act in each situation."
   ]
  },
  {
   "cell_type": "code",
   "execution_count": 11,
   "id": "daily-latitude",
   "metadata": {},
   "outputs": [],
   "source": [
    "ebnf_text = \"\"\"\n",
    "PROGRAM = L0 NL L1 NL L2 NL L3 NL L4 NL L5\n",
    "\n",
    "L0 = \"class Agent:\"\n",
    "L1 = \"    def decide(self, observation):\"\n",
    "L2 = \"        position, velocity = observation\"\n",
    "L3 = \"        output = \" EXPR\n",
    "L4 = \"        action = 0 if output < 1.0 else 2\"\n",
    "L5 = \"        return action\"\n",
    "\n",
    "NL = \"\\n\"\n",
    "\n",
    "EXPR = VAR | CONST | \"(\" EXPR OP EXPR \")\"\n",
    "VAR = \"position\" | \"velocity\"\n",
    "CONST = DIGIT \".\" DIGIT DIGIT\n",
    "OP = \"+\" | \"-\" | \"*\" | \"/\" | \"**\"\n",
    "DIGIT = \"0\" | \"1\" | \"2\" | \"3\" | \"4\" | \"5\" | \"6\" | \"7\" | \"8\" | \"9\"\n",
    "\"\"\"\n",
    "\n",
    "grammar = al.Grammar(ebnf_text=ebnf_text)"
   ]
  },
  {
   "cell_type": "markdown",
   "id": "2be83d3b",
   "metadata": {},
   "source": [
    "### 2) Objective function\n",
    "\n",
    "The objective function gets a candidate solution (=a string of the grammar's language) and returns a fitness value for it. This is done by 1) executing the string as a Python program, so that it creates an agent object, and then 2) using the agent in multiple simulations to see how good it can handle different situations: the higher the total reward, the better is the candidate."
   ]
  },
  {
   "cell_type": "code",
   "execution_count": 12,
   "id": "82a85887",
   "metadata": {},
   "outputs": [],
   "source": [
    "def string_to_agent(string):\n",
    "    local_vars = dict()\n",
    "    exec(string, None, local_vars)\n",
    "    Agent = local_vars['Agent']\n",
    "    return Agent()\n",
    "\n",
    "\n",
    "def objective_function(string):\n",
    "    agent = string_to_agent(string)\n",
    "    avg_reward = simulate_multiple_runs(env, agent, 10)\n",
    "    return avg_reward"
   ]
  },
  {
   "cell_type": "markdown",
   "id": "937dd61f",
   "metadata": {},
   "source": [
    "## Generation of a random solution\n",
    "\n",
    "Check if grammar and objective function work as intended."
   ]
  },
  {
   "cell_type": "code",
   "execution_count": 13,
   "id": "0a58ce0d",
   "metadata": {},
   "outputs": [
    {
     "name": "stdout",
     "output_type": "stream",
     "text": [
      "class Agent:\n",
      "    def decide(self, observation):\n",
      "        position, velocity = observation\n",
      "        output = (9.65*(6.93/velocity))\n",
      "        action = 0 if output < 1.0 else 2\n",
      "        return action\n"
     ]
    }
   ],
   "source": [
    "random_string = grammar.generate_string()\n",
    "print(random_string)"
   ]
  },
  {
   "cell_type": "code",
   "execution_count": 14,
   "id": "a20c7f6b",
   "metadata": {},
   "outputs": [
    {
     "data": {
      "text/plain": [
       "-116.8"
      ]
     },
     "execution_count": 14,
     "metadata": {},
     "output_type": "execute_result"
    }
   ],
   "source": [
    "objective_function(random_string)"
   ]
  },
  {
   "cell_type": "markdown",
   "id": "encouraging-manitoba",
   "metadata": {},
   "source": [
    "## Search for an optimal solution\n",
    "\n",
    "Evolutionary optimization with random variation and non-random selection is used to find increasingly better candidate solutions.\n",
    "\n",
    "### 1) Parameterization"
   ]
  },
  {
   "cell_type": "code",
   "execution_count": 15,
   "id": "vanilla-robert",
   "metadata": {},
   "outputs": [],
   "source": [
    "ea = al.EvolutionaryAlgorithm(\n",
    "    grammar, objective_function, 'max',\n",
    "    max_or_min_fitness=-100, population_size=200, offspring_size=200,\n",
    "    evaluator=um.univariate.parallel.futures, verbose=True)"
   ]
  },
  {
   "cell_type": "markdown",
   "id": "4246353d",
   "metadata": {},
   "source": [
    "### 2) Run"
   ]
  },
  {
   "cell_type": "code",
   "execution_count": 16,
   "id": "384da9f0",
   "metadata": {},
   "outputs": [
    {
     "name": "stdout",
     "output_type": "stream",
     "text": [
      "Progress         Generations      Evaluations      Runtime (sec)    Best fitness    \n",
      "..... .....      10               1941             70.5             -114.7\n",
      "..... .....      20               3831             125.6            -114.6\n",
      "..... .....      30               5707             173.9            -114.6\n",
      "..... .....      40               7524             216.8            -114.5\n",
      "..... .....      50               9333             257.8            -114.5\n",
      "..... .....      60               11179            303.2            -112.2\n",
      "..... .....      70               13071            355.0            -111.6\n",
      "..... .....      80               14957            400.4            -111.3\n",
      "..... .....      90               16838            453.7            -107.0\n",
      "..... .....      100              18732            508.5            -107.0\n",
      "..... ..\n",
      "\n",
      "Finished         107              20044            545.0            -98.8           \n"
     ]
    }
   ],
   "source": [
    "best_ind = ea.run()"
   ]
  },
  {
   "cell_type": "markdown",
   "id": "5f736150",
   "metadata": {},
   "source": [
    "### 3) Result"
   ]
  },
  {
   "cell_type": "code",
   "execution_count": 17,
   "id": "34b83c4c",
   "metadata": {},
   "outputs": [
    {
     "name": "stdout",
     "output_type": "stream",
     "text": [
      "class Agent:\n",
      "    def decide(self, observation):\n",
      "        position, velocity = observation\n",
      "        output = (((velocity/(((position-2.19)*velocity)**(((((8.60-(velocity-2.19))**(position/(velocity-2.19)))**(6.80+velocity))+velocity)-(4.97*6.80))))/(8.98+(3.95*3.36)))-(((2.97+velocity)/2.88)**(velocity/((2.97+velocity)/position))))\n",
      "        action = 0 if output < 1.0 else 2\n",
      "        return action\n"
     ]
    }
   ],
   "source": [
    "string = best_ind.phenotype\n",
    "print(string)"
   ]
  },
  {
   "cell_type": "code",
   "execution_count": 18,
   "id": "2735c06b",
   "metadata": {},
   "outputs": [
    {
     "data": {
      "text/plain": [
       "-108.02"
      ]
     },
     "execution_count": 18,
     "metadata": {},
     "output_type": "execute_result"
    }
   ],
   "source": [
    "agent = string_to_agent(string)\n",
    "simulate_multiple_runs(env, agent, 100)"
   ]
  },
  {
   "cell_type": "code",
   "execution_count": 19,
   "id": "4b10c450",
   "metadata": {},
   "outputs": [
    {
     "data": {
      "text/plain": [
       "-114.0"
      ]
     },
     "execution_count": 19,
     "metadata": {},
     "output_type": "execute_result"
    }
   ],
   "source": [
    "simulate_single_run(env, agent, render=True)"
   ]
  }
 ],
 "metadata": {
  "kernelspec": {
   "display_name": "Python 3 (ipykernel)",
   "language": "python",
   "name": "python3"
  },
  "language_info": {
   "codemirror_mode": {
    "name": "ipython",
    "version": 3
   },
   "file_extension": ".py",
   "mimetype": "text/x-python",
   "name": "python",
   "nbconvert_exporter": "python",
   "pygments_lexer": "ipython3",
   "version": "3.10.4"
  }
 },
 "nbformat": 4,
 "nbformat_minor": 5
}
