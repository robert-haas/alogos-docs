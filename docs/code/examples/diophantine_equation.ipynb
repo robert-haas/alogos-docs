{
 "cells": [
  {
   "cell_type": "markdown",
   "metadata": {},
   "source": [
    "# Diophantine equation\n",
    "\n",
    "This notebook contains an example of solving a discrete optimization problem. The task is to search for integer solution of a simple Diophantine equation: $ x^2 + y^2 = z^2 $\n",
    "\n",
    "## References\n",
    "\n",
    "- Wikipedia:\n",
    "\n",
    "  - [Discrete optimization](https://en.wikipedia.org/wiki/Discrete_optimization)\n",
    "  - [Diophantine equations](https://en.wikipedia.org/wiki/Diophantine_equation)\n",
    "\n",
    "- Articles:\n",
    "\n",
    "  - [Methods for optimization of nonlinear problems with discrete variables (1994)](https://doi.org/10.1007/BF01743302)"
   ]
  },
  {
   "cell_type": "code",
   "execution_count": 1,
   "metadata": {},
   "outputs": [],
   "source": [
    "import alogos as al"
   ]
  },
  {
   "cell_type": "markdown",
   "metadata": {},
   "source": [
    "## Search space\n",
    "\n",
    "### Define a grammar\n",
    "\n",
    "The grammar describes a language of strings that represent a triple of integer numbers."
   ]
  },
  {
   "cell_type": "code",
   "execution_count": 2,
   "metadata": {},
   "outputs": [],
   "source": [
    "ebnf_text = \"\"\"\n",
    "triple = \"(\" integer \", \" integer \", \" integer \")\"\n",
    "integer = nonzero_digit digit+\n",
    "nonzero_digit = \"1\" | \"2\" | \"3\" | \"4\" | \"5\" | \"6\" | \"7\" | \"8\" | \"9\"\n",
    "digit = \"0\" | \"1\" | \"2\" | \"3\" | \"4\" | \"5\" | \"6\" | \"7\" | \"8\" | \"9\"\n",
    "\"\"\"\n",
    "\n",
    "grammar = al.Grammar(ebnf_text=ebnf_text)"
   ]
  },
  {
   "cell_type": "markdown",
   "metadata": {},
   "source": [
    "### Generate random strings"
   ]
  },
  {
   "cell_type": "code",
   "execution_count": 3,
   "metadata": {},
   "outputs": [
    {
     "name": "stdout",
     "output_type": "stream",
     "text": [
      "(84, 4571, 106)\n",
      "(44, 224, 94)\n",
      "(43, 25, 5103)\n",
      "(227, 48, 52)\n",
      "(7014, 393, 84)\n",
      "(14, 85, 245251)\n",
      "(518, 556, 57)\n",
      "(94998, 73, 262)\n",
      "(769, 3608, 26)\n",
      "(56, 2618, 47)\n"
     ]
    }
   ],
   "source": [
    "for _ in range(10):\n",
    "    print(grammar.generate_string())"
   ]
  },
  {
   "cell_type": "markdown",
   "metadata": {},
   "source": [
    "## Search goal\n",
    "\n",
    "The problem of finding $ x, y, z $ such that $ x^2 + y^2 = z^2 $ can be expressed as a minimization problem in following way:\n",
    "\n",
    "- $ f(x, y, z) = \\left| \\; z^2 - (x^2 + y^2) \\; \\right| $\n",
    "\n",
    "- $ \\min f(x, y, z) $"
   ]
  },
  {
   "cell_type": "markdown",
   "metadata": {},
   "source": [
    "### Define an objective function"
   ]
  },
  {
   "cell_type": "code",
   "execution_count": 4,
   "metadata": {},
   "outputs": [],
   "source": [
    "def objective_function(string):\n",
    "    x, y, z = eval(string)\n",
    "    deviation = abs(z**2 - (x**2 + y**2))\n",
    "    return deviation"
   ]
  },
  {
   "cell_type": "markdown",
   "metadata": {},
   "source": [
    "### Test it on a random string"
   ]
  },
  {
   "cell_type": "code",
   "execution_count": 5,
   "metadata": {},
   "outputs": [
    {
     "name": "stdout",
     "output_type": "stream",
     "text": [
      "(73, 96, 880)\n",
      "759855\n"
     ]
    }
   ],
   "source": [
    "string = grammar.generate_string()\n",
    "fitness = objective_function(string)\n",
    "\n",
    "print(string)\n",
    "print(fitness)"
   ]
  },
  {
   "cell_type": "markdown",
   "metadata": {},
   "source": [
    "## Search for an optimal string"
   ]
  },
  {
   "cell_type": "markdown",
   "metadata": {},
   "source": [
    "### Parameterize the search"
   ]
  },
  {
   "cell_type": "code",
   "execution_count": 6,
   "metadata": {},
   "outputs": [],
   "source": [
    "ea = al.EvolutionaryAlgorithm(grammar, objective_function, 'min', verbose=True, max_or_min_fitness=0)"
   ]
  },
  {
   "cell_type": "markdown",
   "metadata": {},
   "source": [
    "### Search for an optimal string"
   ]
  },
  {
   "cell_type": "code",
   "execution_count": 7,
   "metadata": {},
   "outputs": [
    {
     "name": "stdout",
     "output_type": "stream",
     "text": [
      "Progress         Generations      Evaluations      Runtime (sec)    Best fitness    \n",
      "..... .....      10               990              0.5              28.0\n",
      "..... .....      20               1908             0.6              7.0\n",
      "..... .....      30               2706             0.7              6.0\n",
      "..... .....      40               3485             0.8              4.0\n",
      "..... .....      50               4227             0.9              4.0\n",
      "..... .....      60               4888             1.0              1.0\n",
      "..... .....      70               5621             1.1              1.0\n",
      "..... ..\n",
      "\n",
      "Finished         77               6180             1.2              0.0             \n",
      "(30, 16, 34)\n"
     ]
    }
   ],
   "source": [
    "best_individual = ea.run()\n",
    "\n",
    "print(best_individual.phenotype)"
   ]
  },
  {
   "cell_type": "markdown",
   "metadata": {},
   "source": [
    "### Analyze the result"
   ]
  },
  {
   "cell_type": "code",
   "execution_count": 8,
   "metadata": {},
   "outputs": [
    {
     "name": "stdout",
     "output_type": "stream",
     "text": [
      "Diophantine equation: 30^2 + 16^2 = 34^2\n",
      "\n",
      "x^2 = 30^2 = 900\n",
      "y^2 = 16^2 = 256\n",
      "z^2 = 34^2 = 1156\n"
     ]
    }
   ],
   "source": [
    "x, y, z = eval(best_individual.phenotype)\n",
    "rest = int(best_individual.fitness)\n",
    "\n",
    "print('Diophantine equation: {}^2 + {}^2 = {}^2'.format(x, y, z))\n",
    "print()\n",
    "print('x^2 = {}^2 = {}'.format(x, x**2))\n",
    "print('y^2 = {}^2 = {}'.format(y, y**2))\n",
    "print('z^2 = {}^2 = {}'.format(z, z**2))"
   ]
  }
 ],
 "metadata": {
  "kernelspec": {
   "display_name": "Python 3 (ipykernel)",
   "language": "python",
   "name": "python3"
  },
  "language_info": {
   "codemirror_mode": {
    "name": "ipython",
    "version": 3
   },
   "file_extension": ".py",
   "mimetype": "text/x-python",
   "name": "python",
   "nbconvert_exporter": "python",
   "pygments_lexer": "ipython3",
   "version": "3.10.4"
  }
 },
 "nbformat": 4,
 "nbformat_minor": 2
}
