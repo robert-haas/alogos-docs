{
 "cells": [
  {
   "cell_type": "markdown",
   "id": "711da3f4",
   "metadata": {},
   "source": [
    "# OneMax Problem\n",
    "\n",
    "This notebook provides a short solution to a classical test problem in evolutionary computation known as OneMax problem. The goal is to maximize the number of 1 symbols in a bitstring with fixed length.\n",
    "\n",
    "## References\n",
    "\n",
    "- Gigùere, Goldberg (1998): [Population Sizing for Optimum Sampling with Genetic Algorithms:\n",
    "A Case Study of the Onemax Problem](https://www.semanticscholar.org/paper/Population-Sizing-for-Optimum-Sampling-with-Genetic-Gigu%C3%A8re/19c4f8fde7e996992027ed1e2aac14682b044cd1), see [pdf](https://citeseerx.ist.psu.edu/document?repid=rep1&type=pdf&doi=19c4f8fde7e996992027ed1e2aac14682b044cd1)\n",
    "\n",
    "  - \"The OneMax problem is a bit-counting problem where the fitness value of each binary string (individual) is equal to the number of one bits in it.\""
   ]
  },
  {
   "cell_type": "code",
   "execution_count": 1,
   "id": "7b0d475c",
   "metadata": {},
   "outputs": [
    {
     "name": "stdout",
     "output_type": "stream",
     "text": [
      "Progress         Generations      Evaluations      Runtime (sec)    Best fitness    \n",
      "..... .....      10               803              0.5              67.0\n",
      "..... .....      20               1573             0.6              77.0\n",
      "..... .....      30               2266             0.7              89.0\n",
      "..... .....      40               2877             0.8              93.0\n",
      "..... .....      50               3404             0.9              96.0\n",
      "\n",
      "\n",
      "Finished         50               3404             0.9              96.0            \n"
     ]
    }
   ],
   "source": [
    "import alogos as al\n",
    "\n",
    "ebnf = \"\"\"\n",
    "S = BYTE BYTE BYTE BYTE BYTE BYTE BYTE BYTE BYTE BYTE BYTE BYTE\n",
    "BYTE = BIT BIT BIT BIT BIT BIT BIT BIT\n",
    "BIT = \"0\" | \"1\"\n",
    "\"\"\"\n",
    "grammar = al.Grammar(ebnf_text=ebnf)\n",
    "\n",
    "def obj_func(string):\n",
    "    return string.count('1')\n",
    "\n",
    "ea = al.EvolutionaryAlgorithm(grammar, obj_func, 'max', verbose=True, max_or_min_fitness=12*8)\n",
    "best_individual = ea.run()"
   ]
  },
  {
   "cell_type": "code",
   "execution_count": 2,
   "id": "028851bc",
   "metadata": {},
   "outputs": [
    {
     "name": "stdout",
     "output_type": "stream",
     "text": [
      "CFG-GP-ST individual:\n",
      "- Genotype: ((0,1,2,4,2,4,2,4,2,4,2,4,2,4,2,4,2,4,1,2,4,2,4,2,4,2,4,2,4,2,4,2,4,2,4,1,2,4,2,4,2,4,2,4,2,4,2,4,2,4,2,4,1,2,4,2,4,2,4,2,4,2,4,2,4,2,4,2,4,1,2,4,2,4,2,4,2,4,2,4,2,4,2,4,2,4,1,2,4,2,4,2,4,2,4,2,4,2,4,2,4,2,4,1,2,4,2,4,2,4,2,4,2,4,2,4,2,4,2,4,1,2,4,2,4,2,4,2,4,2,4,2,4,2,4,2,4,1,2,4,2,4,2,4,2,4,2,4,2,4,2,4,2,4,1,2,4,2,4,2,4,2,4,2,4,2,4,2,4,2,4,1,2,4,2,4,2,4,2,4,2,4,2,4,2,4,2,4,1,2,4,2,4,2,4,2,4,2,4,2,4,2,4,2,4),(12,8,1,0,1,0,1,0,1,0,1,0,1,0,1,0,1,0,8,1,0,1,0,1,0,1,0,1,0,1,0,1,0,1,0,8,1,0,1,0,1,0,1,0,1,0,1,0,1,0,1,0,8,1,0,1,0,1,0,1,0,1,0,1,0,1,0,1,0,8,1,0,1,0,1,0,1,0,1,0,1,0,1,0,1,0,8,1,0,1,0,1,0,1,0,1,0,1,0,1,0,1,0,8,1,0,1,0,1,0,1,0,1,0,1,0,1,0,1,0,8,1,0,1,0,1,0,1,0,1,0,1,0,1,0,1,0,8,1,0,1,0,1,0,1,0,1,0,1,0,1,0,1,0,8,1,0,1,0,1,0,1,0,1,0,1,0,1,0,1,0,8,1,0,1,0,1,0,1,0,1,0,1,0,1,0,1,0,8,1,0,1,0,1,0,1,0,1,0,1,0,1,0,1,0))\n",
      "- Phenotype: 111111111111111111111111111111111111111111111111111111111111111111111111111111111111111111111111\n",
      "- Fitness: 96.0\n"
     ]
    }
   ],
   "source": [
    "print(best_individual)"
   ]
  },
  {
   "cell_type": "code",
   "execution_count": 3,
   "id": "bd5a1b66",
   "metadata": {},
   "outputs": [
    {
     "name": "stdout",
     "output_type": "stream",
     "text": [
      "111111111111111111111111111111111111111111111111111111111111111111111111111111111111111111111111\n"
     ]
    }
   ],
   "source": [
    "print(best_individual.phenotype)"
   ]
  }
 ],
 "metadata": {
  "kernelspec": {
   "display_name": "Python 3 (ipykernel)",
   "language": "python",
   "name": "python3"
  },
  "language_info": {
   "codemirror_mode": {
    "name": "ipython",
    "version": 3
   },
   "file_extension": ".py",
   "mimetype": "text/x-python",
   "name": "python",
   "nbconvert_exporter": "python",
   "pygments_lexer": "ipython3",
   "version": "3.10.4"
  }
 },
 "nbformat": 4,
 "nbformat_minor": 5
}
