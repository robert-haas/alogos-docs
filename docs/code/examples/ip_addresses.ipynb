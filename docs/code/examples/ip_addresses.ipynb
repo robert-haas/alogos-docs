{
 "cells": [
  {
   "cell_type": "markdown",
   "metadata": {},
   "source": [
    "# IPv4 addresses\n",
    "\n",
    "This notebook shows how IPv4 addresses can be described, generated and recognized with a grammar.\n",
    "\n",
    "## References\n",
    "\n",
    "- Wikipedia\n",
    "  - [IP address](https://en.wikipedia.org/wiki/IP_address): (IPv4) defines an IP address as a 32-bit number [...] written and displayed in human-readable notations\n",
    "  - [IPv4](https://en.wikipedia.org/wiki/IPv4): 32-bit address space which provides 4,294,967,296 (2^32) unique addresses"
   ]
  },
  {
   "cell_type": "code",
   "execution_count": 1,
   "metadata": {},
   "outputs": [],
   "source": [
    "import random\n",
    "import subprocess\n",
    "\n",
    "import alogos as al"
   ]
  },
  {
   "cell_type": "markdown",
   "metadata": {},
   "source": [
    "## Grammar"
   ]
  },
  {
   "cell_type": "code",
   "execution_count": 2,
   "metadata": {},
   "outputs": [],
   "source": [
    "bnf_text = \"\"\"\n",
    "<ip> ::= <number>.<number>.<number>.<number>\n",
    "<number> ::= <digit> | <non-zero><digit> | 1<digit><digit> | 2<zero-four><digit> | 25<zero-five>\n",
    "<digit> ::= 0 | 1 | 2 | 3 | 4 | 5 | 6 | 7 | 8 | 9\n",
    "<non-zero> ::= 1 | 2 | 3 | 4 | 5 | 6 | 7 | 8 | 9\n",
    "<zero-four> ::= 0 | 1 | 2 | 3 | 4\n",
    "<zero-five> ::= 0 | 1 | 2 | 3 | 4 | 5\n",
    "\"\"\"\n",
    "\n",
    "grammar = al.Grammar(bnf_text=bnf_text)"
   ]
  },
  {
   "cell_type": "markdown",
   "metadata": {},
   "source": [
    "## Generate random IPv4 addresses\n",
    "\n",
    "### 1) With Python's random.choice"
   ]
  },
  {
   "cell_type": "code",
   "execution_count": 3,
   "metadata": {},
   "outputs": [],
   "source": [
    "def generate_random_ip():\n",
    "    allowed_numbers = list(range(256))\n",
    "    random_numbers = [random.choice(allowed_numbers) for _ in range(4)]\n",
    "    ip = '{}.{}.{}.{}'.format(*random_numbers)\n",
    "    return ip"
   ]
  },
  {
   "cell_type": "code",
   "execution_count": 4,
   "metadata": {},
   "outputs": [
    {
     "data": {
      "text/plain": [
       "'186.174.7.182'"
      ]
     },
     "execution_count": 4,
     "metadata": {},
     "output_type": "execute_result"
    }
   ],
   "source": [
    "generate_random_ip()"
   ]
  },
  {
   "cell_type": "markdown",
   "metadata": {},
   "source": [
    "### 2) With the grammar"
   ]
  },
  {
   "cell_type": "code",
   "execution_count": 5,
   "metadata": {},
   "outputs": [
    {
     "data": {
      "text/plain": [
       "'105.253.133.42'"
      ]
     },
     "execution_count": 5,
     "metadata": {},
     "output_type": "execute_result"
    }
   ],
   "source": [
    "grammar.generate_string()"
   ]
  },
  {
   "cell_type": "markdown",
   "metadata": {},
   "source": [
    "#### Is there a response?\n",
    "\n",
    "Use [ping](https://en.wikipedia.org/wiki/Ping_(networking_utility)) to see if there's a server responding to an ICMP ECHO_REQUEST at some random addresses"
   ]
  },
  {
   "cell_type": "code",
   "execution_count": 6,
   "metadata": {
    "scrolled": false
   },
   "outputs": [
    {
     "name": "stdout",
     "output_type": "stream",
     "text": [
      " 0:  IP: 229.251.245.241  Response: no\n",
      " 1:  IP: 254.252.249.170  Response: no\n",
      " 2:  IP: 250.187.20.130   Response: no\n",
      " 3:  IP: 5.67.40.31       Response: yes\n",
      " 4:  IP: 165.223.188.244  Response: no\n",
      " 5:  IP: 1.255.175.170    Response: yes\n",
      " 6:  IP: 42.237.190.17    Response: no\n",
      " 7:  IP: 116.9.255.136    Response: no\n",
      " 8:  IP: 47.2.230.4       Response: no\n",
      " 9:  IP: 201.2.6.217      Response: yes\n",
      "10:  IP: 46.211.5.190     Response: no\n",
      "11:  IP: 242.242.255.7    Response: no\n",
      "12:  IP: 5.34.12.253      Response: no\n",
      "13:  IP: 255.0.251.175    Response: no\n",
      "14:  IP: 143.38.69.0      Response: no\n",
      "15:  IP: 22.172.7.132     Response: no\n",
      "16:  IP: 229.253.41.9     Response: no\n",
      "17:  IP: 236.4.104.253    Response: no\n",
      "18:  IP: 244.143.57.5     Response: no\n",
      "19:  IP: 1.30.247.243     Response: no\n",
      "20:  IP: 22.233.46.46     Response: no\n",
      "21:  IP: 220.1.0.252      Response: no\n",
      "22:  IP: 255.98.33.2      Response: no\n",
      "23:  IP: 250.48.48.8      Response: no\n",
      "24:  IP: 64.254.254.75    Response: no\n"
     ]
    }
   ],
   "source": [
    "for i in range(25):\n",
    "    ip_address = grammar.generate_string()\n",
    "    returned = subprocess.call(['ping', '-W', '1', '-c', '1', ip_address], stdout=subprocess.DEVNULL)\n",
    "    print('{:2}:  IP: {:16} Response: {}'.format(i, ip_address, 'yes' if returned==0 else 'no')) "
   ]
  },
  {
   "cell_type": "markdown",
   "metadata": {},
   "source": [
    "## Parse and recognize IPv4 addresses"
   ]
  },
  {
   "cell_type": "code",
   "execution_count": 7,
   "metadata": {},
   "outputs": [
    {
     "data": {
      "text/html": [
       "<svg width=\"526pt\" height=\"260pt\" viewBox=\"0.00 0.00 526.00 260.00\" xmlns=\"http://www.w3.org/2000/svg\" xmlns:xlink=\"http://www.w3.org/1999/xlink\"><g id=\"graph0\" class=\"graph\" transform=\"scale(1 1) rotate(0) translate(4 256)\"><title>%3</title><polygon fill=\"white\" stroke=\"transparent\" points=\"-4,4 -4,-256 522,-256 522,4 -4,4\"/><!-- 0 --><g id=\"node1\" class=\"node\"><title>0</title><polygon fill=\"white\" stroke=\"black\" points=\"286,-252 232,-252 232,-216 286,-216 286,-252\"/><text text-anchor=\"middle\" x=\"259\" y=\"-230.9\" font-family=\"Mono\" font-size=\"12.00\">ip</text></g><!-- 1 --><g id=\"node2\" class=\"node\"><title>1</title><polygon fill=\"white\" stroke=\"black\" points=\"62,-180 0,-180 0,-144 62,-144 62,-180\"/><text text-anchor=\"middle\" x=\"31\" y=\"-158.9\" font-family=\"Mono\" font-size=\"12.00\">number</text></g><!-- 0&#45;&gt;1 --><g id=\"edge1\" class=\"edge\"><title>0&#45;&gt;1</title><path fill=\"none\" stroke=\"black\" d=\"M231.89,-226.51C196.85,-217.88 133.84,-201.51 71.83,-180.08\"/><polygon fill=\"black\" stroke=\"black\" points=\"72.89,-176.75 62.29,-176.75 70.58,-183.35 72.89,-176.75\"/></g><!-- 2 --><g id=\"node3\" class=\"node\"><title>2</title><ellipse fill=\"#00864b\" stroke=\"black\" cx=\"107\" cy=\"-162\" rx=\"27\" ry=\"18\"/><text text-anchor=\"middle\" x=\"107\" y=\"-158.9\" font-family=\"Mono\" font-size=\"12.00\" fill=\"white\">.</text></g><!-- 0&#45;&gt;2 --><g id=\"edge2\" class=\"edge\"><title>0&#45;&gt;2</title><path fill=\"none\" stroke=\"black\" d=\"M231.77,-220.67C208.23,-209.99 173.32,-194.09 143,-180 141.21,-179.17 139.38,-178.31 137.53,-177.45\"/><polygon fill=\"black\" stroke=\"black\" points=\"138.84,-174.2 128.3,-173.11 135.86,-180.53 138.84,-174.2\"/></g><!-- 3 --><g id=\"node4\" class=\"node\"><title>3</title><polygon fill=\"white\" stroke=\"black\" points=\"214,-180 152,-180 152,-144 214,-144 214,-180\"/><text text-anchor=\"middle\" x=\"183\" y=\"-158.9\" font-family=\"Mono\" font-size=\"12.00\">number</text></g><!-- 0&#45;&gt;3 --><g id=\"edge3\" class=\"edge\"><title>0&#45;&gt;3</title><path fill=\"none\" stroke=\"black\" d=\"M240.21,-215.7C230.83,-207.05 219.32,-196.45 209.09,-187.03\"/><polygon fill=\"black\" stroke=\"black\" points=\"211.3,-184.3 201.57,-180.1 206.55,-189.45 211.3,-184.3\"/></g><!-- 4 --><g id=\"node5\" class=\"node\"><title>4</title><ellipse fill=\"#00864b\" stroke=\"black\" cx=\"259\" cy=\"-162\" rx=\"27\" ry=\"18\"/><text text-anchor=\"middle\" x=\"259\" y=\"-158.9\" font-family=\"Mono\" font-size=\"12.00\" fill=\"white\">.</text></g><!-- 0&#45;&gt;4 --><g id=\"edge4\" class=\"edge\"><title>0&#45;&gt;4</title><path fill=\"none\" stroke=\"black\" d=\"M259,-215.7C259,-207.98 259,-198.71 259,-190.11\"/><polygon fill=\"black\" stroke=\"black\" points=\"262.5,-190.1 259,-180.1 255.5,-190.1 262.5,-190.1\"/></g><!-- 5 --><g id=\"node6\" class=\"node\"><title>5</title><polygon fill=\"white\" stroke=\"black\" points=\"366,-180 304,-180 304,-144 366,-144 366,-180\"/><text text-anchor=\"middle\" x=\"335\" y=\"-158.9\" font-family=\"Mono\" font-size=\"12.00\">number</text></g><!-- 0&#45;&gt;5 --><g id=\"edge5\" class=\"edge\"><title>0&#45;&gt;5</title><path fill=\"none\" stroke=\"black\" d=\"M277.79,-215.7C287.17,-207.05 298.68,-196.45 308.91,-187.03\"/><polygon fill=\"black\" stroke=\"black\" points=\"311.45,-189.45 316.43,-180.1 306.7,-184.3 311.45,-189.45\"/></g><!-- 6 --><g id=\"node7\" class=\"node\"><title>6</title><ellipse fill=\"#00864b\" stroke=\"black\" cx=\"411\" cy=\"-162\" rx=\"27\" ry=\"18\"/><text text-anchor=\"middle\" x=\"411\" y=\"-158.9\" font-family=\"Mono\" font-size=\"12.00\" fill=\"white\">.</text></g><!-- 0&#45;&gt;6 --><g id=\"edge6\" class=\"edge\"><title>0&#45;&gt;6</title><path fill=\"none\" stroke=\"black\" d=\"M286.23,-220.67C309.77,-209.99 344.68,-194.09 375,-180 376.79,-179.17 378.62,-178.31 380.47,-177.45\"/><polygon fill=\"black\" stroke=\"black\" points=\"382.14,-180.53 389.7,-173.11 379.16,-174.2 382.14,-180.53\"/></g><!-- 7 --><g id=\"node8\" class=\"node\"><title>7</title><polygon fill=\"white\" stroke=\"black\" points=\"518,-180 456,-180 456,-144 518,-144 518,-180\"/><text text-anchor=\"middle\" x=\"487\" y=\"-158.9\" font-family=\"Mono\" font-size=\"12.00\">number</text></g><!-- 0&#45;&gt;7 --><g id=\"edge7\" class=\"edge\"><title>0&#45;&gt;7</title><path fill=\"none\" stroke=\"black\" d=\"M286.11,-226.51C321.15,-217.88 384.16,-201.51 446.17,-180.08\"/><polygon fill=\"black\" stroke=\"black\" points=\"447.42,-183.35 455.71,-176.75 445.11,-176.75 447.42,-183.35\"/></g><!-- 8 --><g id=\"node9\" class=\"node\"><title>8</title><polygon fill=\"white\" stroke=\"black\" points=\"58,-108 4,-108 4,-72 58,-72 58,-108\"/><text text-anchor=\"middle\" x=\"31\" y=\"-86.9\" font-family=\"Mono\" font-size=\"12.00\">digit</text></g><!-- 1&#45;&gt;8 --><g id=\"edge8\" class=\"edge\"><title>1&#45;&gt;8</title><path fill=\"none\" stroke=\"black\" d=\"M31,-143.7C31,-135.98 31,-126.71 31,-118.11\"/><polygon fill=\"black\" stroke=\"black\" points=\"34.5,-118.1 31,-108.1 27.5,-118.1 34.5,-118.1\"/></g><!-- 10 --><g id=\"node11\" class=\"node\"><title>10</title><polygon fill=\"white\" stroke=\"black\" points=\"210,-108 156,-108 156,-72 210,-72 210,-108\"/><text text-anchor=\"middle\" x=\"183\" y=\"-86.9\" font-family=\"Mono\" font-size=\"12.00\">digit</text></g><!-- 3&#45;&gt;10 --><g id=\"edge10\" class=\"edge\"><title>3&#45;&gt;10</title><path fill=\"none\" stroke=\"black\" d=\"M183,-143.7C183,-135.98 183,-126.71 183,-118.11\"/><polygon fill=\"black\" stroke=\"black\" points=\"186.5,-118.1 183,-108.1 179.5,-118.1 186.5,-118.1\"/></g><!-- 12 --><g id=\"node13\" class=\"node\"><title>12</title><polygon fill=\"white\" stroke=\"black\" points=\"362,-108 308,-108 308,-72 362,-72 362,-108\"/><text text-anchor=\"middle\" x=\"335\" y=\"-86.9\" font-family=\"Mono\" font-size=\"12.00\">digit</text></g><!-- 5&#45;&gt;12 --><g id=\"edge12\" class=\"edge\"><title>5&#45;&gt;12</title><path fill=\"none\" stroke=\"black\" d=\"M335,-143.7C335,-135.98 335,-126.71 335,-118.11\"/><polygon fill=\"black\" stroke=\"black\" points=\"338.5,-118.1 335,-108.1 331.5,-118.1 338.5,-118.1\"/></g><!-- 14 --><g id=\"node15\" class=\"node\"><title>14</title><polygon fill=\"white\" stroke=\"black\" points=\"514,-108 460,-108 460,-72 514,-72 514,-108\"/><text text-anchor=\"middle\" x=\"487\" y=\"-86.9\" font-family=\"Mono\" font-size=\"12.00\">digit</text></g><!-- 7&#45;&gt;14 --><g id=\"edge14\" class=\"edge\"><title>7&#45;&gt;14</title><path fill=\"none\" stroke=\"black\" d=\"M487,-143.7C487,-135.98 487,-126.71 487,-118.11\"/><polygon fill=\"black\" stroke=\"black\" points=\"490.5,-118.1 487,-108.1 483.5,-118.1 490.5,-118.1\"/></g><!-- 9 --><g id=\"node10\" class=\"node\"><title>9</title><ellipse fill=\"#00864b\" stroke=\"black\" cx=\"31\" cy=\"-18\" rx=\"27\" ry=\"18\"/><text text-anchor=\"middle\" x=\"31\" y=\"-14.9\" font-family=\"Mono\" font-size=\"12.00\" fill=\"white\">0</text></g><!-- 8&#45;&gt;9 --><g id=\"edge9\" class=\"edge\"><title>8&#45;&gt;9</title><path fill=\"none\" stroke=\"black\" d=\"M31,-71.7C31,-63.98 31,-54.71 31,-46.11\"/><polygon fill=\"black\" stroke=\"black\" points=\"34.5,-46.1 31,-36.1 27.5,-46.1 34.5,-46.1\"/></g><!-- 11 --><g id=\"node12\" class=\"node\"><title>11</title><ellipse fill=\"#00864b\" stroke=\"black\" cx=\"183\" cy=\"-18\" rx=\"27\" ry=\"18\"/><text text-anchor=\"middle\" x=\"183\" y=\"-14.9\" font-family=\"Mono\" font-size=\"12.00\" fill=\"white\">1</text></g><!-- 10&#45;&gt;11 --><g id=\"edge11\" class=\"edge\"><title>10&#45;&gt;11</title><path fill=\"none\" stroke=\"black\" d=\"M183,-71.7C183,-63.98 183,-54.71 183,-46.11\"/><polygon fill=\"black\" stroke=\"black\" points=\"186.5,-46.1 183,-36.1 179.5,-46.1 186.5,-46.1\"/></g><!-- 13 --><g id=\"node14\" class=\"node\"><title>13</title><ellipse fill=\"#00864b\" stroke=\"black\" cx=\"335\" cy=\"-18\" rx=\"27\" ry=\"18\"/><text text-anchor=\"middle\" x=\"335\" y=\"-14.9\" font-family=\"Mono\" font-size=\"12.00\" fill=\"white\">2</text></g><!-- 12&#45;&gt;13 --><g id=\"edge13\" class=\"edge\"><title>12&#45;&gt;13</title><path fill=\"none\" stroke=\"black\" d=\"M335,-71.7C335,-63.98 335,-54.71 335,-46.11\"/><polygon fill=\"black\" stroke=\"black\" points=\"338.5,-46.1 335,-36.1 331.5,-46.1 338.5,-46.1\"/></g><!-- 15 --><g id=\"node16\" class=\"node\"><title>15</title><ellipse fill=\"#00864b\" stroke=\"black\" cx=\"487\" cy=\"-18\" rx=\"27\" ry=\"18\"/><text text-anchor=\"middle\" x=\"487\" y=\"-14.9\" font-family=\"Mono\" font-size=\"12.00\" fill=\"white\">3</text></g><!-- 14&#45;&gt;15 --><g id=\"edge15\" class=\"edge\"><title>14&#45;&gt;15</title><path fill=\"none\" stroke=\"black\" d=\"M487,-71.7C487,-63.98 487,-54.71 487,-46.11\"/><polygon fill=\"black\" stroke=\"black\" points=\"490.5,-46.1 487,-36.1 483.5,-46.1 490.5,-46.1\"/></g></g></svg>"
      ],
      "text/plain": [
       "(<ip>(<number>(<digit>(0)).<number>(<digit>(1)).<number>(<digit>(2)).<number>(<digit>(3))))"
      ]
     },
     "execution_count": 7,
     "metadata": {},
     "output_type": "execute_result"
    }
   ],
   "source": [
    "parse_tree = grammar.parse_string('0.1.2.3')\n",
    "parse_tree"
   ]
  },
  {
   "cell_type": "code",
   "execution_count": 8,
   "metadata": {},
   "outputs": [
    {
     "data": {
      "text/html": [
       "<svg width=\"842pt\" height=\"260pt\" viewBox=\"0.00 0.00 842.00 260.00\" xmlns=\"http://www.w3.org/2000/svg\" xmlns:xlink=\"http://www.w3.org/1999/xlink\"><g id=\"graph0\" class=\"graph\" transform=\"scale(1 1) rotate(0) translate(4 256)\"><title>%3</title><polygon fill=\"white\" stroke=\"transparent\" points=\"-4,4 -4,-256 838,-256 838,4 -4,4\"/><!-- 0 --><g id=\"node1\" class=\"node\"><title>0</title><polygon fill=\"white\" stroke=\"black\" points=\"454,-252 400,-252 400,-216 454,-216 454,-252\"/><text text-anchor=\"middle\" x=\"427\" y=\"-230.9\" font-family=\"Mono\" font-size=\"12.00\">ip</text></g><!-- 1 --><g id=\"node2\" class=\"node\"><title>1</title><polygon fill=\"white\" stroke=\"black\" points=\"162,-180 100,-180 100,-144 162,-144 162,-180\"/><text text-anchor=\"middle\" x=\"131\" y=\"-158.9\" font-family=\"Mono\" font-size=\"12.00\">number</text></g><!-- 0&#45;&gt;1 --><g id=\"edge1\" class=\"edge\"><title>0&#45;&gt;1</title><path fill=\"none\" stroke=\"black\" d=\"M399.95,-226.6C347.9,-214.29 233.54,-187.25 172.05,-172.71\"/><polygon fill=\"black\" stroke=\"black\" points=\"172.83,-169.3 162.29,-170.4 171.22,-176.11 172.83,-169.3\"/></g><!-- 2 --><g id=\"node3\" class=\"node\"><title>2</title><ellipse fill=\"#00864b\" stroke=\"black\" cx=\"275\" cy=\"-162\" rx=\"27\" ry=\"18\"/><text text-anchor=\"middle\" x=\"275\" y=\"-158.9\" font-family=\"Mono\" font-size=\"12.00\" fill=\"white\">.</text></g><!-- 0&#45;&gt;2 --><g id=\"edge2\" class=\"edge\"><title>0&#45;&gt;2</title><path fill=\"none\" stroke=\"black\" d=\"M399.77,-220.67C376.23,-209.99 341.32,-194.09 311,-180 309.21,-179.17 307.38,-178.31 305.53,-177.45\"/><polygon fill=\"black\" stroke=\"black\" points=\"306.84,-174.2 296.3,-173.11 303.86,-180.53 306.84,-174.2\"/></g><!-- 3 --><g id=\"node4\" class=\"node\"><title>3</title><polygon fill=\"white\" stroke=\"black\" points=\"382,-180 320,-180 320,-144 382,-144 382,-180\"/><text text-anchor=\"middle\" x=\"351\" y=\"-158.9\" font-family=\"Mono\" font-size=\"12.00\">number</text></g><!-- 0&#45;&gt;3 --><g id=\"edge3\" class=\"edge\"><title>0&#45;&gt;3</title><path fill=\"none\" stroke=\"black\" d=\"M408.21,-215.7C398.83,-207.05 387.32,-196.45 377.09,-187.03\"/><polygon fill=\"black\" stroke=\"black\" points=\"379.3,-184.3 369.57,-180.1 374.55,-189.45 379.3,-184.3\"/></g><!-- 4 --><g id=\"node5\" class=\"node\"><title>4</title><ellipse fill=\"#00864b\" stroke=\"black\" cx=\"427\" cy=\"-162\" rx=\"27\" ry=\"18\"/><text text-anchor=\"middle\" x=\"427\" y=\"-158.9\" font-family=\"Mono\" font-size=\"12.00\" fill=\"white\">.</text></g><!-- 0&#45;&gt;4 --><g id=\"edge4\" class=\"edge\"><title>0&#45;&gt;4</title><path fill=\"none\" stroke=\"black\" d=\"M427,-215.7C427,-207.98 427,-198.71 427,-190.11\"/><polygon fill=\"black\" stroke=\"black\" points=\"430.5,-190.1 427,-180.1 423.5,-190.1 430.5,-190.1\"/></g><!-- 5 --><g id=\"node6\" class=\"node\"><title>5</title><polygon fill=\"white\" stroke=\"black\" points=\"534,-180 472,-180 472,-144 534,-144 534,-180\"/><text text-anchor=\"middle\" x=\"503\" y=\"-158.9\" font-family=\"Mono\" font-size=\"12.00\">number</text></g><!-- 0&#45;&gt;5 --><g id=\"edge5\" class=\"edge\"><title>0&#45;&gt;5</title><path fill=\"none\" stroke=\"black\" d=\"M445.79,-215.7C455.17,-207.05 466.68,-196.45 476.91,-187.03\"/><polygon fill=\"black\" stroke=\"black\" points=\"479.45,-189.45 484.43,-180.1 474.7,-184.3 479.45,-189.45\"/></g><!-- 6 --><g id=\"node7\" class=\"node\"><title>6</title><ellipse fill=\"#00864b\" stroke=\"black\" cx=\"579\" cy=\"-162\" rx=\"27\" ry=\"18\"/><text text-anchor=\"middle\" x=\"579\" y=\"-158.9\" font-family=\"Mono\" font-size=\"12.00\" fill=\"white\">.</text></g><!-- 0&#45;&gt;6 --><g id=\"edge6\" class=\"edge\"><title>0&#45;&gt;6</title><path fill=\"none\" stroke=\"black\" d=\"M454.23,-220.67C477.77,-209.99 512.68,-194.09 543,-180 544.79,-179.17 546.62,-178.31 548.47,-177.45\"/><polygon fill=\"black\" stroke=\"black\" points=\"550.14,-180.53 557.7,-173.11 547.16,-174.2 550.14,-180.53\"/></g><!-- 7 --><g id=\"node8\" class=\"node\"><title>7</title><polygon fill=\"white\" stroke=\"black\" points=\"736,-180 674,-180 674,-144 736,-144 736,-180\"/><text text-anchor=\"middle\" x=\"705\" y=\"-158.9\" font-family=\"Mono\" font-size=\"12.00\">number</text></g><!-- 0&#45;&gt;7 --><g id=\"edge7\" class=\"edge\"><title>0&#45;&gt;7</title><path fill=\"none\" stroke=\"black\" d=\"M454.16,-226.16C503.14,-213.83 606.5,-187.8 664.08,-173.3\"/><polygon fill=\"black\" stroke=\"black\" points=\"665.09,-176.66 673.93,-170.82 663.38,-169.87 665.09,-176.66\"/></g><!-- 8 --><g id=\"node9\" class=\"node\"><title>8</title><ellipse fill=\"#00864b\" stroke=\"black\" cx=\"27\" cy=\"-90\" rx=\"27\" ry=\"18\"/><text text-anchor=\"middle\" x=\"27\" y=\"-86.9\" font-family=\"Mono\" font-size=\"12.00\" fill=\"white\">1</text></g><!-- 1&#45;&gt;8 --><g id=\"edge8\" class=\"edge\"><title>1&#45;&gt;8</title><path fill=\"none\" stroke=\"black\" d=\"M105.56,-143.88C89.83,-133.29 69.67,-119.72 53.71,-108.98\"/><polygon fill=\"black\" stroke=\"black\" points=\"55.58,-106.02 45.33,-103.34 51.67,-111.83 55.58,-106.02\"/></g><!-- 9 --><g id=\"node10\" class=\"node\"><title>9</title><polygon fill=\"white\" stroke=\"black\" points=\"126,-108 72,-108 72,-72 126,-72 126,-108\"/><text text-anchor=\"middle\" x=\"99\" y=\"-86.9\" font-family=\"Mono\" font-size=\"12.00\">digit</text></g><!-- 1&#45;&gt;9 --><g id=\"edge9\" class=\"edge\"><title>1&#45;&gt;9</title><path fill=\"none\" stroke=\"black\" d=\"M123.09,-143.7C119.45,-135.73 115.05,-126.1 111.01,-117.26\"/><polygon fill=\"black\" stroke=\"black\" points=\"114.16,-115.74 106.82,-108.1 107.79,-118.65 114.16,-115.74\"/></g><!-- 10 --><g id=\"node11\" class=\"node\"><title>10</title><polygon fill=\"white\" stroke=\"black\" points=\"198,-108 144,-108 144,-72 198,-72 198,-108\"/><text text-anchor=\"middle\" x=\"171\" y=\"-86.9\" font-family=\"Mono\" font-size=\"12.00\">digit</text></g><!-- 1&#45;&gt;10 --><g id=\"edge10\" class=\"edge\"><title>1&#45;&gt;10</title><path fill=\"none\" stroke=\"black\" d=\"M140.89,-143.7C145.49,-135.64 151.06,-125.89 156.15,-116.98\"/><polygon fill=\"black\" stroke=\"black\" points=\"159.3,-118.52 161.23,-108.1 153.23,-115.05 159.3,-118.52\"/></g><!-- 13 --><g id=\"node14\" class=\"node\"><title>13</title><ellipse fill=\"#00864b\" stroke=\"black\" cx=\"243\" cy=\"-90\" rx=\"27\" ry=\"18\"/><text text-anchor=\"middle\" x=\"243\" y=\"-86.9\" font-family=\"Mono\" font-size=\"12.00\" fill=\"white\">1</text></g><!-- 3&#45;&gt;13 --><g id=\"edge13\" class=\"edge\"><title>3&#45;&gt;13</title><path fill=\"none\" stroke=\"black\" d=\"M324.58,-143.88C308.14,-133.22 287.04,-119.54 270.42,-108.77\"/><polygon fill=\"black\" stroke=\"black\" points=\"272,-105.62 261.7,-103.12 268.19,-111.5 272,-105.62\"/></g><!-- 14 --><g id=\"node15\" class=\"node\"><title>14</title><polygon fill=\"white\" stroke=\"black\" points=\"342,-108 288,-108 288,-72 342,-72 342,-108\"/><text text-anchor=\"middle\" x=\"315\" y=\"-86.9\" font-family=\"Mono\" font-size=\"12.00\">digit</text></g><!-- 3&#45;&gt;14 --><g id=\"edge14\" class=\"edge\"><title>3&#45;&gt;14</title><path fill=\"none\" stroke=\"black\" d=\"M342.1,-143.7C338,-135.73 333.05,-126.1 328.51,-117.26\"/><polygon fill=\"black\" stroke=\"black\" points=\"331.48,-115.4 323.8,-108.1 325.26,-118.6 331.48,-115.4\"/></g><!-- 15 --><g id=\"node16\" class=\"node\"><title>15</title><polygon fill=\"white\" stroke=\"black\" points=\"414,-108 360,-108 360,-72 414,-72 414,-108\"/><text text-anchor=\"middle\" x=\"387\" y=\"-86.9\" font-family=\"Mono\" font-size=\"12.00\">digit</text></g><!-- 3&#45;&gt;15 --><g id=\"edge15\" class=\"edge\"><title>3&#45;&gt;15</title><path fill=\"none\" stroke=\"black\" d=\"M359.9,-143.7C364,-135.73 368.95,-126.1 373.49,-117.26\"/><polygon fill=\"black\" stroke=\"black\" points=\"376.74,-118.6 378.2,-108.1 370.52,-115.4 376.74,-118.6\"/></g><!-- 18 --><g id=\"node19\" class=\"node\"><title>18</title><ellipse fill=\"#00864b\" stroke=\"black\" cx=\"459\" cy=\"-90\" rx=\"27\" ry=\"18\"/><text text-anchor=\"middle\" x=\"459\" y=\"-86.9\" font-family=\"Mono\" font-size=\"12.00\" fill=\"white\">2</text></g><!-- 5&#45;&gt;18 --><g id=\"edge18\" class=\"edge\"><title>5&#45;&gt;18</title><path fill=\"none\" stroke=\"black\" d=\"M492.12,-143.7C486.8,-135.23 480.3,-124.89 474.47,-115.61\"/><polygon fill=\"black\" stroke=\"black\" points=\"477.43,-113.75 469.15,-107.14 471.51,-117.47 477.43,-113.75\"/></g><!-- 19 --><g id=\"node20\" class=\"node\"><title>19</title><polygon fill=\"white\" stroke=\"black\" points=\"588,-108 504,-108 504,-72 588,-72 588,-108\"/><text text-anchor=\"middle\" x=\"546\" y=\"-86.9\" font-family=\"Mono\" font-size=\"12.00\">zero&#45;four</text></g><!-- 5&#45;&gt;19 --><g id=\"edge19\" class=\"edge\"><title>5&#45;&gt;19</title><path fill=\"none\" stroke=\"black\" d=\"M513.63,-143.7C518.63,-135.56 524.69,-125.69 530.21,-116.7\"/><polygon fill=\"black\" stroke=\"black\" points=\"533.24,-118.46 535.49,-108.1 527.28,-114.79 533.24,-118.46\"/></g><!-- 20 --><g id=\"node21\" class=\"node\"><title>20</title><polygon fill=\"white\" stroke=\"black\" points=\"660,-108 606,-108 606,-72 660,-72 660,-108\"/><text text-anchor=\"middle\" x=\"633\" y=\"-86.9\" font-family=\"Mono\" font-size=\"12.00\">digit</text></g><!-- 5&#45;&gt;20 --><g id=\"edge20\" class=\"edge\"><title>5&#45;&gt;20</title><path fill=\"none\" stroke=\"black\" d=\"M534.14,-144.23C552.94,-134.11 577,-121.16 596.67,-110.56\"/><polygon fill=\"black\" stroke=\"black\" points=\"598.5,-113.55 605.64,-105.73 595.18,-107.39 598.5,-113.55\"/></g><!-- 23 --><g id=\"node24\" class=\"node\"><title>23</title><ellipse fill=\"#00864b\" stroke=\"black\" cx=\"705\" cy=\"-90\" rx=\"27\" ry=\"18\"/><text text-anchor=\"middle\" x=\"705\" y=\"-86.9\" font-family=\"Mono\" font-size=\"12.00\" fill=\"white\">25</text></g><!-- 7&#45;&gt;23 --><g id=\"edge23\" class=\"edge\"><title>7&#45;&gt;23</title><path fill=\"none\" stroke=\"black\" d=\"M705,-143.7C705,-135.98 705,-126.71 705,-118.11\"/><polygon fill=\"black\" stroke=\"black\" points=\"708.5,-118.1 705,-108.1 701.5,-118.1 708.5,-118.1\"/></g><!-- 24 --><g id=\"node25\" class=\"node\"><title>24</title><polygon fill=\"white\" stroke=\"black\" points=\"834,-108 750,-108 750,-72 834,-72 834,-108\"/><text text-anchor=\"middle\" x=\"792\" y=\"-86.9\" font-family=\"Mono\" font-size=\"12.00\">zero&#45;five</text></g><!-- 7&#45;&gt;24 --><g id=\"edge24\" class=\"edge\"><title>7&#45;&gt;24</title><path fill=\"none\" stroke=\"black\" d=\"M726.51,-143.7C737.46,-134.88 750.95,-124.03 762.82,-114.47\"/><polygon fill=\"black\" stroke=\"black\" points=\"765.14,-117.1 770.74,-108.1 760.76,-111.65 765.14,-117.1\"/></g><!-- 11 --><g id=\"node12\" class=\"node\"><title>11</title><ellipse fill=\"#00864b\" stroke=\"black\" cx=\"99\" cy=\"-18\" rx=\"27\" ry=\"18\"/><text text-anchor=\"middle\" x=\"99\" y=\"-14.9\" font-family=\"Mono\" font-size=\"12.00\" fill=\"white\">9</text></g><!-- 9&#45;&gt;11 --><g id=\"edge11\" class=\"edge\"><title>9&#45;&gt;11</title><path fill=\"none\" stroke=\"black\" d=\"M99,-71.7C99,-63.98 99,-54.71 99,-46.11\"/><polygon fill=\"black\" stroke=\"black\" points=\"102.5,-46.1 99,-36.1 95.5,-46.1 102.5,-46.1\"/></g><!-- 12 --><g id=\"node13\" class=\"node\"><title>12</title><ellipse fill=\"#00864b\" stroke=\"black\" cx=\"171\" cy=\"-18\" rx=\"27\" ry=\"18\"/><text text-anchor=\"middle\" x=\"171\" y=\"-14.9\" font-family=\"Mono\" font-size=\"12.00\" fill=\"white\">2</text></g><!-- 10&#45;&gt;12 --><g id=\"edge12\" class=\"edge\"><title>10&#45;&gt;12</title><path fill=\"none\" stroke=\"black\" d=\"M171,-71.7C171,-63.98 171,-54.71 171,-46.11\"/><polygon fill=\"black\" stroke=\"black\" points=\"174.5,-46.1 171,-36.1 167.5,-46.1 174.5,-46.1\"/></g><!-- 16 --><g id=\"node17\" class=\"node\"><title>16</title><ellipse fill=\"#00864b\" stroke=\"black\" cx=\"315\" cy=\"-18\" rx=\"27\" ry=\"18\"/><text text-anchor=\"middle\" x=\"315\" y=\"-14.9\" font-family=\"Mono\" font-size=\"12.00\" fill=\"white\">6</text></g><!-- 14&#45;&gt;16 --><g id=\"edge16\" class=\"edge\"><title>14&#45;&gt;16</title><path fill=\"none\" stroke=\"black\" d=\"M315,-71.7C315,-63.98 315,-54.71 315,-46.11\"/><polygon fill=\"black\" stroke=\"black\" points=\"318.5,-46.1 315,-36.1 311.5,-46.1 318.5,-46.1\"/></g><!-- 17 --><g id=\"node18\" class=\"node\"><title>17</title><ellipse fill=\"#00864b\" stroke=\"black\" cx=\"387\" cy=\"-18\" rx=\"27\" ry=\"18\"/><text text-anchor=\"middle\" x=\"387\" y=\"-14.9\" font-family=\"Mono\" font-size=\"12.00\" fill=\"white\">8</text></g><!-- 15&#45;&gt;17 --><g id=\"edge17\" class=\"edge\"><title>15&#45;&gt;17</title><path fill=\"none\" stroke=\"black\" d=\"M387,-71.7C387,-63.98 387,-54.71 387,-46.11\"/><polygon fill=\"black\" stroke=\"black\" points=\"390.5,-46.1 387,-36.1 383.5,-46.1 390.5,-46.1\"/></g><!-- 21 --><g id=\"node22\" class=\"node\"><title>21</title><ellipse fill=\"#00864b\" stroke=\"black\" cx=\"546\" cy=\"-18\" rx=\"27\" ry=\"18\"/><text text-anchor=\"middle\" x=\"546\" y=\"-14.9\" font-family=\"Mono\" font-size=\"12.00\" fill=\"white\">4</text></g><!-- 19&#45;&gt;21 --><g id=\"edge21\" class=\"edge\"><title>19&#45;&gt;21</title><path fill=\"none\" stroke=\"black\" d=\"M546,-71.7C546,-63.98 546,-54.71 546,-46.11\"/><polygon fill=\"black\" stroke=\"black\" points=\"549.5,-46.1 546,-36.1 542.5,-46.1 549.5,-46.1\"/></g><!-- 22 --><g id=\"node23\" class=\"node\"><title>22</title><ellipse fill=\"#00864b\" stroke=\"black\" cx=\"633\" cy=\"-18\" rx=\"27\" ry=\"18\"/><text text-anchor=\"middle\" x=\"633\" y=\"-14.9\" font-family=\"Mono\" font-size=\"12.00\" fill=\"white\">9</text></g><!-- 20&#45;&gt;22 --><g id=\"edge22\" class=\"edge\"><title>20&#45;&gt;22</title><path fill=\"none\" stroke=\"black\" d=\"M633,-71.7C633,-63.98 633,-54.71 633,-46.11\"/><polygon fill=\"black\" stroke=\"black\" points=\"636.5,-46.1 633,-36.1 629.5,-46.1 636.5,-46.1\"/></g><!-- 25 --><g id=\"node26\" class=\"node\"><title>25</title><ellipse fill=\"#00864b\" stroke=\"black\" cx=\"792\" cy=\"-18\" rx=\"27\" ry=\"18\"/><text text-anchor=\"middle\" x=\"792\" y=\"-14.9\" font-family=\"Mono\" font-size=\"12.00\" fill=\"white\">5</text></g><!-- 24&#45;&gt;25 --><g id=\"edge25\" class=\"edge\"><title>24&#45;&gt;25</title><path fill=\"none\" stroke=\"black\" d=\"M792,-71.7C792,-63.98 792,-54.71 792,-46.11\"/><polygon fill=\"black\" stroke=\"black\" points=\"795.5,-46.1 792,-36.1 788.5,-46.1 795.5,-46.1\"/></g></g></svg>"
      ],
      "text/plain": [
       "(<ip>(<number>(1<digit>(9)<digit>(2)).<number>(1<digit>(6)<digit>(8)).<number>(2<zero-four>(4)<digit>(9)).<number>(25<zero-five>(5))))"
      ]
     },
     "execution_count": 8,
     "metadata": {},
     "output_type": "execute_result"
    }
   ],
   "source": [
    "parse_tree = grammar.parse_string('192.168.249.255')\n",
    "parse_tree"
   ]
  },
  {
   "cell_type": "code",
   "execution_count": 9,
   "metadata": {},
   "outputs": [],
   "source": [
    "# Check that 2000 randomly generated IPv4 addresses are recognized as part of the language\n",
    "for _ in range(2000):\n",
    "    random_ip = generate_random_ip()\n",
    "    if not grammar.recognize_string(random_ip):\n",
    "        print('Valid IP was not recognized:', random_ip)\n",
    "\n",
    "# Check that some invalid addresses are not part of the language\n",
    "for invalid_address in ['255.255.255.256', '0.0.0.09', '13.014.22.101', '300.1.2.3']:\n",
    "    if grammar.recognize_string(invalid_address):\n",
    "        print('Invalid IP was recognized:', random_ip)"
   ]
  },
  {
   "cell_type": "markdown",
   "metadata": {},
   "source": [
    "## Optimization\n",
    "\n",
    "### Try to find the smallest and largest IPv4 addresses\n",
    "\n",
    "Size of the search space: 4,294,967,296 elements"
   ]
  },
  {
   "cell_type": "code",
   "execution_count": 10,
   "metadata": {},
   "outputs": [
    {
     "name": "stdout",
     "output_type": "stream",
     "text": [
      "Number of IPv4 addresses: 2^32 = 4,294,967,296 or equivalently 256^4 = 4,294,967,296\n"
     ]
    }
   ],
   "source": [
    "print('Number of IPv4 addresses: 2^32 = {:,} or equivalently 256^4 = {:,}'.format(2**32, 256**4))"
   ]
  },
  {
   "cell_type": "code",
   "execution_count": 11,
   "metadata": {},
   "outputs": [],
   "source": [
    "def objective_function(string):\n",
    "    numbers = [int(s) for s in string.split('.')]\n",
    "    return sum(numbers)"
   ]
  },
  {
   "cell_type": "code",
   "execution_count": 12,
   "metadata": {},
   "outputs": [
    {
     "name": "stdout",
     "output_type": "stream",
     "text": [
      "0.0.0.0\n"
     ]
    }
   ],
   "source": [
    "ea = al.EvolutionaryAlgorithm(grammar, objective_function, 'min', max_generations=50)\n",
    "best_individual = ea.run()\n",
    "print(best_individual.phenotype)"
   ]
  },
  {
   "cell_type": "code",
   "execution_count": 13,
   "metadata": {},
   "outputs": [
    {
     "name": "stdout",
     "output_type": "stream",
     "text": [
      "255.255.255.255\n"
     ]
    }
   ],
   "source": [
    "ea = al.EvolutionaryAlgorithm(grammar, objective_function, 'max', max_generations=50)\n",
    "best_individual = ea.run()\n",
    "print(best_individual.phenotype)"
   ]
  }
 ],
 "metadata": {
  "kernelspec": {
   "display_name": "Python 3 (ipykernel)",
   "language": "python",
   "name": "python3"
  },
  "language_info": {
   "codemirror_mode": {
    "name": "ipython",
    "version": 3
   },
   "file_extension": ".py",
   "mimetype": "text/x-python",
   "name": "python",
   "nbconvert_exporter": "python",
   "pygments_lexer": "ipython3",
   "version": "3.10.4"
  }
 },
 "nbformat": 4,
 "nbformat_minor": 4
}
