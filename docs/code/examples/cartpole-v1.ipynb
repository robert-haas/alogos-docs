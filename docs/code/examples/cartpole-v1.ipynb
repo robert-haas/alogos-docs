{
 "cells": [
  {
   "cell_type": "markdown",
   "id": "settled-blind",
   "metadata": {},
   "source": [
    "# OpenAI Gym: CartPole-v1\n",
    "\n",
    "This notebook demonstrates how grammar-guided genetic programming (G3P) can be used to solve the CartPole-v1 problem from OpenAI Gym. This is achieved by searching for a small program that defines an agent, who uses an algebraic expression of the observed variables to decide which action to take in each moment.\n",
    "\n",
    "Caution: This notebook was run with gym v0.20.0 (pip install gym==0.20.0) and pyglet v1.5.27 (pip install pyglet==1.5.27). Gym deprecated \"Pendulum-v0\" from v0.20.0 to v.0.21.0. Gym changed its API from v0.25.2 to v0.26.0. Pyglet changed its API from 1.5.27 to 2.0.0.\n",
    "\n",
    "## References\n",
    "\n",
    "- OpenAI Gym website\n",
    "\n",
    "  - [Classic problems from control theory](https://gym.openai.com/envs/#classic_control): an overview of environments\n",
    "  - [CartPole-v1](https://gym.openai.com/envs/CartPole-v1): the environment solved here\n",
    "\n",
    "- GitHub\n",
    "\n",
    "  - [CartPole-v0](https://github.com/openai/gym/wiki/CartPole-v0): details on the previous version of the environment solved here\n",
    "  - [Leaderboard](https://github.com/openai/gym/wiki/Leaderboard#cartpole-v0): community wiki to track user-provided solutions\n",
    "  - [Example solution](https://github.com/ZhiqingXiao/OpenAIGymSolution/tree/master/CartPole-v0): a fixed policy written by Zhiqing Xiao"
   ]
  },
  {
   "cell_type": "code",
   "execution_count": 1,
   "id": "wound-nebraska",
   "metadata": {},
   "outputs": [],
   "source": [
    "import time\n",
    "import warnings\n",
    "\n",
    "import alogos as al\n",
    "import gym\n",
    "import unified_map as um"
   ]
  },
  {
   "cell_type": "code",
   "execution_count": 2,
   "id": "fa65f0a2",
   "metadata": {},
   "outputs": [],
   "source": [
    "warnings.filterwarnings('ignore')"
   ]
  },
  {
   "cell_type": "markdown",
   "id": "b60b13f9",
   "metadata": {},
   "source": [
    "## Preparation\n",
    "\n",
    "### 1) Environment\n",
    "\n",
    "CartPole-v1: The aim is to move a cart (black) such that it balances a pendulum (brown) without moving too far from the center. The agent observes current position and velocity of the cart, as well as angle and velocity of the pole. It can act by pushing the cart to the left (value 0) or to the right (value 1)."
   ]
  },
  {
   "cell_type": "code",
   "execution_count": 3,
   "id": "b5b313a3",
   "metadata": {},
   "outputs": [],
   "source": [
    "env = gym.make('CartPole-v1')"
   ]
  },
  {
   "cell_type": "markdown",
   "id": "aec742cb",
   "metadata": {},
   "source": [
    "### 2) Functions to run single or multiple simulations\n",
    "\n",
    "It allows an agent to act in an environment and collect rewards until the environment signals it is done."
   ]
  },
  {
   "cell_type": "code",
   "execution_count": 4,
   "id": "competent-invalid",
   "metadata": {},
   "outputs": [],
   "source": [
    "def simulate_single_run(env, agent, render=False):\n",
    "    observation = env.reset()\n",
    "    episode_reward = 0.0\n",
    "    while True:\n",
    "        action = agent.decide(observation)\n",
    "        observation, reward, done, info = env.step(action)\n",
    "        episode_reward += reward\n",
    "        if render:\n",
    "            time.sleep(0.03)\n",
    "            env.render()\n",
    "        if done:\n",
    "            break\n",
    "    env.close()\n",
    "    return episode_reward"
   ]
  },
  {
   "cell_type": "code",
   "execution_count": 5,
   "id": "subtle-chart",
   "metadata": {},
   "outputs": [],
   "source": [
    "def simulate_multiple_runs(env, agent, n):\n",
    "    total_reward = sum(simulate_single_run(env, agent) for _ in range(n))\n",
    "    mean_reward = total_reward / n\n",
    "    return mean_reward"
   ]
  },
  {
   "cell_type": "markdown",
   "id": "a7afdfc7",
   "metadata": {},
   "source": [
    "## Example solutions"
   ]
  },
  {
   "cell_type": "code",
   "execution_count": 6,
   "id": "34acefb1",
   "metadata": {},
   "outputs": [],
   "source": [
    "num_sim = 200"
   ]
  },
  {
   "cell_type": "markdown",
   "id": "handled-offer",
   "metadata": {},
   "source": [
    "### 1) By Zhiqing Xiao"
   ]
  },
  {
   "cell_type": "code",
   "execution_count": 7,
   "id": "changed-caribbean",
   "metadata": {},
   "outputs": [
    {
     "data": {
      "text/plain": [
       "500.0"
      ]
     },
     "execution_count": 7,
     "metadata": {},
     "output_type": "execute_result"
    }
   ],
   "source": [
    "class Agent:\n",
    "    def decide(self, observation):\n",
    "        position, velocity, angle, angle_velocity = observation\n",
    "        action = int(3. * angle + angle_velocity > 0.)\n",
    "        return action\n",
    "\n",
    "agent = Agent()\n",
    "simulate_multiple_runs(env, agent, num_sim)"
   ]
  },
  {
   "cell_type": "markdown",
   "id": "fourth-death",
   "metadata": {},
   "source": [
    "### 2) By previous runs of evolutionary optimization"
   ]
  },
  {
   "cell_type": "code",
   "execution_count": 8,
   "id": "virgin-governor",
   "metadata": {},
   "outputs": [
    {
     "data": {
      "text/plain": [
       "500.0"
      ]
     },
     "execution_count": 8,
     "metadata": {},
     "output_type": "execute_result"
    }
   ],
   "source": [
    "class Agent:\n",
    "    def decide(self, observation):\n",
    "        position, velocity, angle, angle_velocity = observation\n",
    "        output = (((1.00+angle)+velocity)+angle_velocity)\n",
    "        action = int(output)\n",
    "        return action\n",
    "\n",
    "agent = Agent()\n",
    "simulate_multiple_runs(env, agent, num_sim)"
   ]
  },
  {
   "cell_type": "code",
   "execution_count": 9,
   "id": "paperback-processing",
   "metadata": {},
   "outputs": [
    {
     "data": {
      "text/plain": [
       "500.0"
      ]
     },
     "execution_count": 9,
     "metadata": {},
     "output_type": "execute_result"
    }
   ],
   "source": [
    "class Agent:\n",
    "    def decide(self, observation):\n",
    "        position, velocity, angle, angle_velocity = observation\n",
    "        output = ((1.00+(1.92*angle))+(1.12*angle_velocity))\n",
    "        action = int(output)\n",
    "        return action\n",
    "\n",
    "agent = Agent()\n",
    "simulate_multiple_runs(env, agent, num_sim)"
   ]
  },
  {
   "cell_type": "code",
   "execution_count": 10,
   "id": "irish-survivor",
   "metadata": {},
   "outputs": [
    {
     "data": {
      "text/plain": [
       "500.0"
      ]
     },
     "execution_count": 10,
     "metadata": {},
     "output_type": "execute_result"
    }
   ],
   "source": [
    "class Agent:\n",
    "    def decide(self, observation):\n",
    "        position, velocity, angle, angle_velocity = observation\n",
    "        output = ((1.25**angle_velocity)+angle)\n",
    "        action = int(output)\n",
    "        return action\n",
    "\n",
    "agent = Agent()\n",
    "simulate_multiple_runs(env, agent, num_sim)"
   ]
  },
  {
   "cell_type": "markdown",
   "id": "level-livestock",
   "metadata": {},
   "source": [
    "## Definition of search space and goal"
   ]
  },
  {
   "cell_type": "markdown",
   "id": "84816680",
   "metadata": {},
   "source": [
    "### 1) Grammar\n",
    "\n",
    "This grammar defines the search space: a Python program that creates an Agent who uses an algebraic expression of the observed variables to decide how to act in each situation."
   ]
  },
  {
   "cell_type": "code",
   "execution_count": 11,
   "id": "peaceful-rachel",
   "metadata": {},
   "outputs": [],
   "source": [
    "ebnf_text = \"\"\"\n",
    "PROGRAM = L0 NL L1 NL L2 NL L3 NL L4 NL L5\n",
    "\n",
    "L0 = \"class Agent:\"\n",
    "L1 = \"    def decide(self, observation):\"\n",
    "L2 = \"        position, velocity, angle, angle_velocity = observation\"\n",
    "L3 = \"        output = \" EXPR\n",
    "L4 = \"        action = 0 if output < 0.0 else 1\"\n",
    "L5 = \"        return action\"\n",
    "\n",
    "NL = \"\\n\"\n",
    "\n",
    "EXPR = VAR | CONST | \"(\" EXPR OP EXPR \")\"\n",
    "VAR = \"position\" | \"velocity\" | \"angle\" | \"angle_velocity\"\n",
    "CONST = DIGIT \".\" DIGIT DIGIT\n",
    "OP = \"+\" | \"-\" | \"*\" | \"/\" | \"**\"\n",
    "DIGIT = \"0\" | \"1\" | \"2\" | \"3\" | \"4\" | \"5\" | \"6\" | \"7\" | \"8\" | \"9\"\n",
    "\"\"\"\n",
    "\n",
    "grammar = al.Grammar(ebnf_text=ebnf_text)"
   ]
  },
  {
   "cell_type": "markdown",
   "id": "prospective-ready",
   "metadata": {},
   "source": [
    "### 2) Objective function\n",
    "\n",
    "The objective function gets a candidate solution (=a string of the grammar's language) and returns a fitness value for it. This is done by 1) executing the string as a Python program, so that it creates an agent object, and then 2) using the agent in multiple simulations to see how good it can handle different situations: the higher the total reward, the better is the candidate."
   ]
  },
  {
   "cell_type": "code",
   "execution_count": 12,
   "id": "liked-manual",
   "metadata": {},
   "outputs": [],
   "source": [
    "def string_to_agent(string):\n",
    "    local_vars = dict()\n",
    "    exec(string, None, local_vars)\n",
    "    Agent = local_vars['Agent']\n",
    "    return Agent()\n",
    "\n",
    "\n",
    "def objective_function(string):\n",
    "    agent = string_to_agent(string)\n",
    "    avg_reward = simulate_multiple_runs(env, agent, 30)\n",
    "    return avg_reward"
   ]
  },
  {
   "cell_type": "markdown",
   "id": "4d125223",
   "metadata": {},
   "source": [
    "## Generation of a random solution\n",
    "\n",
    "Check if grammar and objective function work as intended."
   ]
  },
  {
   "cell_type": "code",
   "execution_count": 13,
   "id": "c7dd79af",
   "metadata": {},
   "outputs": [
    {
     "name": "stdout",
     "output_type": "stream",
     "text": [
      "class Agent:\n",
      "    def decide(self, observation):\n",
      "        position, velocity, angle, angle_velocity = observation\n",
      "        output = 4.96\n",
      "        action = 0 if output < 0.0 else 1\n",
      "        return action\n"
     ]
    }
   ],
   "source": [
    "random_string = grammar.generate_string()\n",
    "print(random_string)"
   ]
  },
  {
   "cell_type": "code",
   "execution_count": 14,
   "id": "01467b8b",
   "metadata": {},
   "outputs": [
    {
     "data": {
      "text/plain": [
       "9.366666666666667"
      ]
     },
     "execution_count": 14,
     "metadata": {},
     "output_type": "execute_result"
    }
   ],
   "source": [
    "objective_function(random_string)"
   ]
  },
  {
   "cell_type": "markdown",
   "id": "sustainable-hopkins",
   "metadata": {},
   "source": [
    "## Search for an optimal solution\n",
    "\n",
    "Evolutionary optimization with random variation and non-random selection is used to find increasingly better candidate solutions.\n",
    "\n",
    "### 1) Parameterization"
   ]
  },
  {
   "cell_type": "code",
   "execution_count": 15,
   "id": "0e46a49e",
   "metadata": {},
   "outputs": [],
   "source": [
    "num_ind = 100\n",
    "\n",
    "ea = al.EvolutionaryAlgorithm(\n",
    "    grammar, objective_function, 'max', max_or_min_fitness=500,\n",
    "    population_size=num_ind, offspring_size=num_ind,\n",
    "    evaluator=um.univariate.parallel.futures, verbose=True)"
   ]
  },
  {
   "cell_type": "markdown",
   "id": "fb5d1132",
   "metadata": {},
   "source": [
    "### 2) Run"
   ]
  },
  {
   "cell_type": "code",
   "execution_count": 16,
   "id": "c8b44b11",
   "metadata": {},
   "outputs": [
    {
     "name": "stdout",
     "output_type": "stream",
     "text": [
      "Progress         Generations      Evaluations      Runtime (sec)    Best fitness    \n",
      "..... .....      10               920              8.2              238.33333333333334\n",
      "..... .....      20               1398             13.9             238.33333333333334\n",
      "..... .....      30               2021             21.4             238.33333333333334\n",
      "..... .....      40               2694             29.5             493.6666666666667\n",
      "..... .....      50               3395             38.3             493.6666666666667\n",
      "..... .....      60               4126             46.9             493.6666666666667\n",
      "..... .....      70               4809             53.7             493.6666666666667\n",
      "..... .....      80               5563             62.7             500.0\n",
      "\n",
      "\n",
      "Finished         80               5563             64.0             500.0           \n"
     ]
    }
   ],
   "source": [
    "best_ind = ea.run()"
   ]
  },
  {
   "cell_type": "markdown",
   "id": "1c0bc65f",
   "metadata": {},
   "source": [
    "### 3) Result"
   ]
  },
  {
   "cell_type": "code",
   "execution_count": 17,
   "id": "3c47645d",
   "metadata": {},
   "outputs": [
    {
     "name": "stdout",
     "output_type": "stream",
     "text": [
      "class Agent:\n",
      "    def decide(self, observation):\n",
      "        position, velocity, angle, angle_velocity = observation\n",
      "        output = (angle-((velocity*angle)+(((((velocity-(angle_velocity/angle))*angle)+((velocity/9.45)/5.94))/6.45)/4.32)))\n",
      "        action = 0 if output < 0.0 else 1\n",
      "        return action\n"
     ]
    }
   ],
   "source": [
    "string = best_ind.phenotype\n",
    "print(string)"
   ]
  },
  {
   "cell_type": "code",
   "execution_count": 18,
   "id": "inside-florence",
   "metadata": {},
   "outputs": [
    {
     "data": {
      "text/plain": [
       "500.0"
      ]
     },
     "execution_count": 18,
     "metadata": {},
     "output_type": "execute_result"
    }
   ],
   "source": [
    "agent = string_to_agent(string)\n",
    "simulate_multiple_runs(env, agent, 100)"
   ]
  },
  {
   "cell_type": "code",
   "execution_count": 19,
   "id": "chinese-flower",
   "metadata": {},
   "outputs": [
    {
     "data": {
      "text/plain": [
       "500.0"
      ]
     },
     "execution_count": 19,
     "metadata": {},
     "output_type": "execute_result"
    }
   ],
   "source": [
    "simulate_single_run(env, agent, render=True)"
   ]
  }
 ],
 "metadata": {
  "kernelspec": {
   "display_name": "Python 3 (ipykernel)",
   "language": "python",
   "name": "python3"
  },
  "language_info": {
   "codemirror_mode": {
    "name": "ipython",
    "version": 3
   },
   "file_extension": ".py",
   "mimetype": "text/x-python",
   "name": "python",
   "nbconvert_exporter": "python",
   "pygments_lexer": "ipython3",
   "version": "3.10.4"
  }
 },
 "nbformat": 4,
 "nbformat_minor": 5
}
