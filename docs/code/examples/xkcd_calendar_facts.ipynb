{
 "cells": [
  {
   "cell_type": "markdown",
   "metadata": {},
   "source": [
    "# Calendar facts by xkcd\n",
    "\n",
    "This notebook implements a neat example of a context-free grammar defined in Extended Backus-Naur Form and shows how it can be used to generate strings. The webcomic https://xkcd.com/1930 contains a [syntax diagram (railroad diagram)](https://en.wikipedia.org/wiki/Syntax_diagram) that describes a grammar for generating \"calendar facts\". The website also shows a tooltip, when hovering over the image with the cursor, which adds another sentence at the end of the grammar."
   ]
  },
  {
   "cell_type": "code",
   "execution_count": 1,
   "metadata": {},
   "outputs": [],
   "source": [
    "import alogos as al"
   ]
  },
  {
   "cell_type": "markdown",
   "metadata": {},
   "source": [
    "## Specify the grammar\n",
    "\n",
    "Use a text in [Extended Backus-Naur Form](https://en.wikipedia.org/wiki/Extended_Backus%E2%80%93Naur_form) to capture the syntax diagram."
   ]
  },
  {
   "cell_type": "code",
   "execution_count": 2,
   "metadata": {
    "scrolled": false
   },
   "outputs": [],
   "source": [
    "ebnf_text = \"\"\"\n",
    "START = \"Did you know that \" SUBJECT PREDOBJ \"because of \" REASON \"? Apparently \" EXPLAN CONSEQ\n",
    "\n",
    "SUBJECT = \"the \" (\"fall \" | \"spring \") \"equinox \"\n",
    "        | \"the \" (\"winter \" | \"summer \") (\"solstice \" | \"olympics \")\n",
    "        | \"the \" (\"earliest \" | \"latest \") (\"sunrise \" | \"sunset \")\n",
    "        | \"daylight \" (\"saving \" | \"savings \") \"time \"\n",
    "        | \"leap \" (\"day \" | \"year \")\n",
    "        | \"easter \"\n",
    "        | \"the \" (\"harvest \" | \"super \" | \"blood \") \"moon \"\n",
    "        | \"Toyota truck month \"\n",
    "        | \"shark week \"\n",
    "\n",
    "PREDOBJ = \"happens \" (\"earlier \" | \"later \" | \"at the wrong time \") \"every year \"\n",
    "        | \"drifts out of sync with the \" H1\n",
    "        | \"might \" (\"not happen \" | \"happen twice \") \"this year \"\n",
    "H1 = \"sun \"\n",
    "   | \"moon \"\n",
    "   | \"zodiac \"\n",
    "   | (\"gregorian \" | \"mayan \" | \"lunar \" | \"iPhone \") \"calendar \"\n",
    "   | \"atomic clock in Colorado \"\n",
    "\n",
    "REASON = \"time zone legislation in \" (\"Indiana\" | \"Arizona\" | \"Russia\")\n",
    "       | \"a decree by the pope in the 1500s\"\n",
    "       | H2 \"of the \" H3\n",
    "       | \"magnetic field reversal\"\n",
    "       | \"an arbitrary decision by \" (\"Benjamin Franklin\" | \"Isaac Newton\" | \"FDR\")\n",
    "H2 = \"precession \" | \"libration \" | \"nutation \" | \"libation \" | \"eccentricity \" | \"obliquity \"\n",
    "H3 = \"moon\" | \"sun\" | \"earth's axis\" | \"equator\" | \"prime meridian\"\n",
    "   | (\"international date \" | \"Mason-Dixon \") \"line\"\n",
    "\n",
    "EXPLAN = \"it causes a predictable increase in car accidents. \"\n",
    "       | \"that's why we have leap seconds. \"\n",
    "       | \"scientists are really worried. \"\n",
    "       | \"it was even more extreme during the \" (\"bronze age. \" | \"ice age. \" | \"cretacedus. \" | \"1990s. \")\n",
    "       | \"there's a proposal to fix it, but it \" H4\n",
    "       | \"it's getting worse and no one knows why. \"\n",
    "H4 = \"will never happen. \"\n",
    "   | \"actually makes things worse. \"\n",
    "   | \"is stalled in congress. \"\n",
    "   | \"might be unconstitutional. \"\n",
    "\n",
    "CONSEQ = \"While it may seem like trivia, it \" H5\n",
    "H5 = \"causes huge headaches for software developers.\"\n",
    "   | \"is taken advantage of by high-speed traders.\"\n",
    "   | \"tiggered the 2003 Northeast Blackout.\"\n",
    "   | \"has to be corrected for by GPS satellites.\"\n",
    "   | \"is now recognized as a major cause of World War I.\"\n",
    "\"\"\"\n",
    "\n",
    "grammar = al.Grammar(ebnf_text=ebnf_text)"
   ]
  },
  {
   "cell_type": "markdown",
   "metadata": {},
   "source": [
    "## Use the grammar generatively\n",
    "\n",
    "### a) Generate random strings of the grammar's language"
   ]
  },
  {
   "cell_type": "code",
   "execution_count": 3,
   "metadata": {},
   "outputs": [
    {
     "name": "stdout",
     "output_type": "stream",
     "text": [
      "Some random strings and their length:\n",
      "\n",
      "249\n",
      "Did you know that the latest sunset drifts out of sync with the mayan calendar because of an arbitrary decision by Isaac Newton? Apparently scientists are really worried. While it may seem like trivia, it is taken advantage of by high-speed traders.\n",
      "\n",
      "235\n",
      "Did you know that easter happens earlier every year because of time zone legislation in Indiana? Apparently it causes a predictable increase in car accidents. While it may seem like trivia, it has to be corrected for by GPS satellites.\n",
      "\n",
      "266\n",
      "Did you know that shark week drifts out of sync with the atomic clock in Colorado because of time zone legislation in Arizona? Apparently it was even more extreme during the bronze age. While it may seem like trivia, it causes huge headaches for software developers.\n",
      "\n",
      "261\n",
      "Did you know that shark week happens earlier every year because of an arbitrary decision by Isaac Newton? Apparently there's a proposal to fix it, but it might be unconstitutional. While it may seem like trivia, it causes huge headaches for software developers.\n",
      "\n",
      "236\n",
      "Did you know that the fall equinox drifts out of sync with the zodiac because of a decree by the pope in the 1500s? Apparently scientists are really worried. While it may seem like trivia, it is taken advantage of by high-speed traders.\n",
      "\n"
     ]
    }
   ],
   "source": [
    "print('Some random strings and their length:')\n",
    "print()\n",
    "for _ in range(5):\n",
    "    string = grammar.generate_string()\n",
    "    print(len(string))\n",
    "    print(string)\n",
    "    print()"
   ]
  },
  {
   "cell_type": "markdown",
   "metadata": {},
   "source": [
    "### b) Generate all strings of the grammar's language\n",
    "\n",
    "- For a **finite language**, as it is the case here, it is possible to generate all strings.\n",
    "- For an **infinite language** the construction process needs to be limited with `max_steps` to only get simple strings that can be generated with a few derivation steps from the start symbol."
   ]
  },
  {
   "cell_type": "code",
   "execution_count": 4,
   "metadata": {},
   "outputs": [
    {
     "name": "stdout",
     "output_type": "stream",
     "text": [
      "The grammar describes a formal language consisting of 780000 strings.\n",
      "\n",
      "Shortest string with 195 characters:\n",
      "Did you know that easter happens later every year because of nutation of the sun? Apparently scientists are really worried. While it may seem like trivia, it tiggered the 2003 Northeast Blackout.\n",
      "\n",
      "Longest string with 310 characters:\n",
      "Did you know that daylight savings time drifts out of sync with the atomic clock in Colorado because of eccentricity of the international date line? Apparently there's a proposal to fix it, but it actually makes things worse. While it may seem like trivia, it is now recognized as a major cause of World War I.\n"
     ]
    }
   ],
   "source": [
    "language = grammar.generate_language()\n",
    "shortest_string = min(language, key=len)\n",
    "longest_string = max(language, key=len)\n",
    "print('The grammar describes a formal language consisting of {} strings.'.format(len(language)))\n",
    "\n",
    "print()\n",
    "print('Shortest string with {} characters:'.format(len(shortest_string)))\n",
    "print(shortest_string)\n",
    "\n",
    "print()\n",
    "print('Longest string with {} characters:'.format(len(longest_string)))\n",
    "print(longest_string)"
   ]
  },
  {
   "cell_type": "markdown",
   "metadata": {},
   "source": [
    "### c) Search for certain strings with an evolutionary algorithm\n",
    "\n",
    "Grammar-guided genetic programming allows to search for optimal strings within a finite or infinite language. An objective function defines what is optimal. It takes a string as input (a member of the language) and returns a number as output (the objective value or fitness value of that string)."
   ]
  },
  {
   "cell_type": "code",
   "execution_count": 5,
   "metadata": {},
   "outputs": [],
   "source": [
    "def objective_function(string):\n",
    "    return len(string)"
   ]
  },
  {
   "cell_type": "code",
   "execution_count": 6,
   "metadata": {},
   "outputs": [
    {
     "name": "stdout",
     "output_type": "stream",
     "text": [
      "A short string with 195 characters:\n",
      "Did you know that easter happens later every year because of nutation of the sun? Apparently scientists are really worried. While it may seem like trivia, it tiggered the 2003 Northeast Blackout.\n"
     ]
    }
   ],
   "source": [
    "ea = al.EvolutionaryAlgorithm(grammar, objective_function, 'min', max_generations=50)\n",
    "best_individual = ea.run()\n",
    "\n",
    "string = best_individual.phenotype\n",
    "print('A short string with {} characters:'.format(len(string)))\n",
    "print(string)"
   ]
  },
  {
   "cell_type": "code",
   "execution_count": 7,
   "metadata": {},
   "outputs": [
    {
     "name": "stdout",
     "output_type": "stream",
     "text": [
      "A long string with 310 characters:\n",
      "Did you know that daylight savings time drifts out of sync with the atomic clock in Colorado because of eccentricity of the international date line? Apparently there's a proposal to fix it, but it actually makes things worse. While it may seem like trivia, it is now recognized as a major cause of World War I.\n"
     ]
    }
   ],
   "source": [
    "ea = al.EvolutionaryAlgorithm(grammar, objective_function, 'max', max_generations=50)\n",
    "best_individual = ea.run()\n",
    "\n",
    "string = best_individual.phenotype\n",
    "print('A long string with {} characters:'.format(len(string)))\n",
    "print(string)"
   ]
  }
 ],
 "metadata": {
  "kernelspec": {
   "display_name": "Python 3 (ipykernel)",
   "language": "python",
   "name": "python3"
  },
  "language_info": {
   "codemirror_mode": {
    "name": "ipython",
    "version": 3
   },
   "file_extension": ".py",
   "mimetype": "text/x-python",
   "name": "python",
   "nbconvert_exporter": "python",
   "pygments_lexer": "ipython3",
   "version": "3.10.4"
  }
 },
 "nbformat": 4,
 "nbformat_minor": 2
}
