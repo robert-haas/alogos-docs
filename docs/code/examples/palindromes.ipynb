{
 "cells": [
  {
   "cell_type": "markdown",
   "metadata": {},
   "source": [
    "# Palindromes\n",
    "\n",
    "This notebook shows how a grammar can be used to specify the language of all palindromes over the alphabet `{a, b}`. It includes strings that are identical to their reverse, e.g. `a`, `bb`, `aba`, `abba`, or `babab`.\n",
    "\n",
    "## References\n",
    "\n",
    "- Wikipedia\n",
    "\n",
    "  - [Palindrome](https://en.wikipedia.org/wiki/Palindrome): \"a word, number, phrase, or other sequence of characters which reads the same backward as forward, such as madam or racecar or the number 10801\".\n",
    "  - [CFG examples](https://en.wikipedia.org/wiki/Context-free_grammar#Examples): Words concatenated with their reverse"
   ]
  },
  {
   "cell_type": "code",
   "execution_count": 1,
   "metadata": {},
   "outputs": [],
   "source": [
    "import alogos as al"
   ]
  },
  {
   "cell_type": "markdown",
   "metadata": {},
   "source": [
    "## Specify the grammar\n",
    "\n",
    "Use a text in [Backus-Naur form (BNF)](https://en.wikipedia.org/wiki/Backus%E2%80%93Naur_form) to capture the production rules shown on the website. This generates the set of all palindromes over the alphabet {a, b}."
   ]
  },
  {
   "cell_type": "code",
   "execution_count": 2,
   "metadata": {
    "scrolled": false
   },
   "outputs": [],
   "source": [
    "bnf_text = \"\"\"\n",
    "<S> ::= a<S>a\n",
    "<S> ::= b<S>b\n",
    "<S> ::= a | b\n",
    "\"\"\"\n",
    "\n",
    "grammar = al.Grammar(bnf_text=bnf_text)"
   ]
  },
  {
   "cell_type": "markdown",
   "metadata": {},
   "source": [
    "### Inspect how the grammar was recognized"
   ]
  },
  {
   "cell_type": "code",
   "execution_count": 3,
   "metadata": {},
   "outputs": [
    {
     "data": {
      "text/html": [
       "\n",
       "<style>\n",
       "  .rd-title {\n",
       "    font: 14px monospace;\n",
       "    white-space: pre;\n",
       "    margin-top: 1ex;\n",
       "    font-weight: bold;\n",
       "  }\n",
       "  svg.rd text {\n",
       "    font: 14px monospace;\n",
       "    white-space: pre;\n",
       "    text-anchor: middle;\n",
       "  }\n",
       "  svg.rd path {\n",
       "    stroke-width: 1;\n",
       "    stroke: black;\n",
       "    fill: rgba(0,0,0,0);\n",
       "  }\n",
       "  svg.rd rect {\n",
       "    stroke-width: 1;\n",
       "    stroke: black;\n",
       "  }\n",
       "  svg.rd g.non-terminal rect {\n",
       "    fill: white;\n",
       "  }\n",
       "  svg.rd g.non-terminal a {\n",
       "    text-decoration: none;\n",
       "  }\n",
       "  svg.rd g.non-terminal a text:hover {\n",
       "    font-weight:bold;\n",
       "  }\n",
       "  svg.rd g.terminal rect {\n",
       "    fill: #00864b;\n",
       "  }\n",
       "  svg.rd g.terminal text {\n",
       "    fill: white;\n",
       "  }\n",
       "</style>\n",
       "<div class=\"rd-title\" id=\"S_rOzbaBCFVOf5efZ9V3UMC7wml1moCrT49\">S:</div><svg class=\"rd\" height=\"160\" viewBox=\"0 0 251.5 160\" width=\"251.5\" xmlns=\"http://www.w3.org/2000/svg\" xmlns:xlink=\"http://www.w3.org/1999/xlink\">\n",
       "<g transform=\"translate(.5 .5)\">\n",
       "<g>\n",
       "<path d=\"M15 16v20m0 -10h20\"></path></g><g>\n",
       "<path d=\"M35 26h0.0\"></path><path d=\"M216.5 26h0.0\"></path><path d=\"M35.0 26h28\"></path><g>\n",
       "<path d=\"M63.0 26h0.0\"></path><path d=\"M188.5 26h0.0\"></path><g class=\"terminal \">\n",
       "<path d=\"M63.0 26h0.0\"></path><path d=\"M91.5 26h0.0\"></path><rect height=\"22\" rx=\"10\" ry=\"10\" width=\"28.5\" x=\"63.0\" y=\"15\"></rect><text x=\"77.25\" y=\"30\">a</text></g><path d=\"M91.5 26h10\"></path><path d=\"M101.5 26h10\"></path><g class=\"non-terminal \">\n",
       "<path d=\"M111.5 26h0.0\"></path><path d=\"M140.0 26h0.0\"></path><rect height=\"22\" width=\"28.5\" x=\"111.5\" y=\"15\"></rect><a xlink:href=\"#S&#95;rOzbaBCFVOf5efZ9V3UMC7wml1moCrT49\"><text x=\"125.75\" y=\"30\">S</text><text x=\"125.75\" y=\"30\">S</text></a></g><path d=\"M140.0 26h10\"></path><path d=\"M150.0 26h10\"></path><g class=\"terminal \">\n",
       "<path d=\"M160.0 26h0.0\"></path><path d=\"M188.5 26h0.0\"></path><rect height=\"22\" rx=\"10\" ry=\"10\" width=\"28.5\" x=\"160.0\" y=\"15\"></rect><text x=\"174.25\" y=\"30\">a</text></g></g><path d=\"M188.5 26h28\"></path><path d=\"M35.0 26a14 14 0 0 1 14 14v8a14 14 0 0 0 14 14\"></path><g>\n",
       "<path d=\"M63.0 62h0.0\"></path><path d=\"M188.5 62h0.0\"></path><g class=\"terminal \">\n",
       "<path d=\"M63.0 62h0.0\"></path><path d=\"M91.5 62h0.0\"></path><rect height=\"22\" rx=\"10\" ry=\"10\" width=\"28.5\" x=\"63.0\" y=\"51\"></rect><text x=\"77.25\" y=\"66\">b</text></g><path d=\"M91.5 62h10\"></path><path d=\"M101.5 62h10\"></path><g class=\"non-terminal \">\n",
       "<path d=\"M111.5 62h0.0\"></path><path d=\"M140.0 62h0.0\"></path><rect height=\"22\" width=\"28.5\" x=\"111.5\" y=\"51\"></rect><a xlink:href=\"#S&#95;rOzbaBCFVOf5efZ9V3UMC7wml1moCrT49\"><text x=\"125.75\" y=\"66\">S</text><text x=\"125.75\" y=\"66\">S</text></a></g><path d=\"M140.0 62h10\"></path><path d=\"M150.0 62h10\"></path><g class=\"terminal \">\n",
       "<path d=\"M160.0 62h0.0\"></path><path d=\"M188.5 62h0.0\"></path><rect height=\"22\" rx=\"10\" ry=\"10\" width=\"28.5\" x=\"160.0\" y=\"51\"></rect><text x=\"174.25\" y=\"66\">b</text></g></g><path d=\"M188.5 62a14 14 0 0 0 14 -14v-8a14 14 0 0 1 14 -14\"></path><path d=\"M35.0 26a14 14 0 0 1 14 14v44a14 14 0 0 0 14 14\"></path><g>\n",
       "<path d=\"M63.0 98h48.5\"></path><path d=\"M140.0 98h48.5\"></path><g class=\"terminal \">\n",
       "<path d=\"M111.5 98h0.0\"></path><path d=\"M140.0 98h0.0\"></path><rect height=\"22\" rx=\"10\" ry=\"10\" width=\"28.5\" x=\"111.5\" y=\"87\"></rect><text x=\"125.75\" y=\"102\">a</text></g></g><path d=\"M188.5 98a14 14 0 0 0 14 -14v-44a14 14 0 0 1 14 -14\"></path><path d=\"M35.0 26a14 14 0 0 1 14 14v80a14 14 0 0 0 14 14\"></path><g>\n",
       "<path d=\"M63.0 134h48.5\"></path><path d=\"M140.0 134h48.5\"></path><g class=\"terminal \">\n",
       "<path d=\"M111.5 134h0.0\"></path><path d=\"M140.0 134h0.0\"></path><rect height=\"22\" rx=\"10\" ry=\"10\" width=\"28.5\" x=\"111.5\" y=\"123\"></rect><text x=\"125.75\" y=\"138\">b</text></g></g><path d=\"M188.5 134a14 14 0 0 0 14 -14v-80a14 14 0 0 1 14 -14\"></path></g><path d=\"M 216.5 26 h 20 m 0 -10 v 20\"></path></g></svg>"
      ],
      "text/plain": [
       "Nonterminal symbols:\n",
       "  0: NT('S')\n",
       "\n",
       "Terminal symbols:\n",
       "  0: T('a')\n",
       "  1: T('b')\n",
       "\n",
       "Start symbol:\n",
       "  NT('S')\n",
       "\n",
       "Production rules:\n",
       "  0: NT('S') -> T('a') NT('S') T('a')\n",
       "  1: NT('S') -> T('b') NT('S') T('b')\n",
       "  2: NT('S') -> T('a')\n",
       "  3: NT('S') -> T('b')"
      ]
     },
     "execution_count": 3,
     "metadata": {},
     "output_type": "execute_result"
    }
   ],
   "source": [
    "grammar"
   ]
  },
  {
   "cell_type": "code",
   "execution_count": 4,
   "metadata": {
    "scrolled": false
   },
   "outputs": [
    {
     "name": "stdout",
     "output_type": "stream",
     "text": [
      "Nonterminal symbols:\n",
      "  0: NT('S')\n",
      "\n",
      "Terminal symbols:\n",
      "  0: T('a')\n",
      "  1: T('b')\n",
      "\n",
      "Start symbol:\n",
      "  NT('S')\n",
      "\n",
      "Production rules:\n",
      "  0: NT('S') -> T('a') NT('S') T('a')\n",
      "  1: NT('S') -> T('b') NT('S') T('b')\n",
      "  2: NT('S') -> T('a')\n",
      "  3: NT('S') -> T('b')\n"
     ]
    }
   ],
   "source": [
    "print(grammar)"
   ]
  },
  {
   "cell_type": "markdown",
   "metadata": {},
   "source": [
    "## Use the grammar generatively\n",
    "\n",
    "### a) Generate random strings of the grammar's language"
   ]
  },
  {
   "cell_type": "code",
   "execution_count": 5,
   "metadata": {},
   "outputs": [
    {
     "name": "stdout",
     "output_type": "stream",
     "text": [
      "Random string with 3 characters: aaa\n",
      "Random string with 5 characters: aaaaa\n",
      "Random string with 1 characters: a\n",
      "Random string with 11 characters: aabaabaabaa\n",
      "Random string with 5 characters: bbabb\n",
      "Random string with 1 characters: b\n",
      "Random string with 3 characters: aaa\n",
      "Random string with 3 characters: aba\n",
      "Random string with 1 characters: b\n",
      "Random string with 1 characters: b\n",
      "Random string with 1 characters: b\n",
      "Random string with 1 characters: b\n",
      "Random string with 3 characters: aaa\n",
      "Random string with 1 characters: b\n",
      "Random string with 13 characters: aaabbbabbbaaa\n"
     ]
    }
   ],
   "source": [
    "for _ in range(15):\n",
    "    string = grammar.generate_string()\n",
    "    print('Random string with {} characters: {}'.format(len(string), string))"
   ]
  },
  {
   "cell_type": "markdown",
   "metadata": {},
   "source": [
    "### b) Generate a finite subset of the grammar's infinite language\n",
    "\n",
    "- For a **finite language** it is possible to generate all strings, at least in theory.\n",
    "- For an **infinite language**, as it is the case here, the construction process needs to be limited with `max_steps` to only get simple strings that can be generated with a few derivation steps from the start symbol."
   ]
  },
  {
   "cell_type": "code",
   "execution_count": 6,
   "metadata": {},
   "outputs": [
    {
     "name": "stdout",
     "output_type": "stream",
     "text": [
      "The grammar describes an infinite formal language, of which 2046 simple strings were generated.\n",
      "\n",
      "Shortest string with 1 characters:\n",
      "a\n",
      "\n",
      "Longest string with 19 characters:\n",
      "aaaaaaaaaaaaaaaaaaa\n",
      "\n",
      "String nr. 42 with 9 characters:\n",
      "abbaaabba\n"
     ]
    }
   ],
   "source": [
    "language = grammar.generate_language(max_steps=10, sort_order='shortlex')\n",
    "\n",
    "shortest_string = min(language, key=len)\n",
    "longest_string = max(language, key=len)\n",
    "print('The grammar describes an infinite formal language, '\n",
    "      'of which {} simple strings were generated.'.format(len(language)))\n",
    "\n",
    "print()\n",
    "print('Shortest string with {} characters:'.format(len(shortest_string)))\n",
    "print(shortest_string)\n",
    "\n",
    "print()\n",
    "print('Longest string with {} characters:'.format(len(longest_string)))\n",
    "print(longest_string)\n",
    "\n",
    "print()\n",
    "idx = 42\n",
    "print('String nr. {} with {} characters:'.format(idx, len(language[idx])))\n",
    "print(language[idx])"
   ]
  },
  {
   "cell_type": "markdown",
   "metadata": {},
   "source": [
    "### c) Search for a long string with an evolutionary algorithm\n",
    "\n",
    "**Grammatical evolution** allows to search for optimal strings within a finite or infinite language. An **objective function** defines what is optimal. It takes a string as input (a member of the language) and returns a number as output (the objective value or fitness value of that string)."
   ]
  },
  {
   "cell_type": "code",
   "execution_count": 7,
   "metadata": {},
   "outputs": [
    {
     "name": "stdout",
     "output_type": "stream",
     "text": [
      "A long string with 809 characters:\n",
      "aaaaaaaaaabbbbaabbbbabbaabbaaabbaabbaaaaababbaaabaaaaabbbbaabbabaabbabaababababbabaaaabaaabbaabaaabbaaaabbabbabbbabaabbaabbbbbbaaabbbbbabaabbaabaaaaaaababbbaabaabbabbaaaaaabaaaaaaabbabbbbaababaaabbbaaabaababbabababbbaaaababbbabbbbbababababaaabbbbbbbbaaabababaaabbbbbbbaaaababababaabaaaabbbababbbbaaaabaabaabbbbaaabbababbbbaaabbbabbababaaaaaabbbbbbbbbaabbabaaaaaaabbbbabbababbbbaaaabaabaaabbbabbbbbabbbbaaaaabbbbabbbbbabbbaaabaabaaaabbbbababbabbbbaaaaaaababbaabbbbbbbbbaaaaaabababbabbbaaabbbbababbaaabbbbaabaabaaaabbbbababbbaaaabaababababaaaabbbbbbbaaabababaaabbbbbbbbaaabababababbbbbabbbabaaaabbbabababbabaabaaabbbaaababaabbbbabbaaaaaaabaaaaaabbabbaabaabbbabaaaaaaabaabbaababbbbbaaabbbbbbaabbaababbbabbabbaaaabbaaabaabbaaabaaaababbabababaababbaababbaabbbbaaaaabaaabbabaaaaabbaabbaaabbaabbabbbbaabbbbaaaaaaaaaa\n"
     ]
    }
   ],
   "source": [
    "def objective_function(string):\n",
    "    if '_' in string:\n",
    "        # give strings containing a '_' character a low objective value\n",
    "        # to prevent them from dominating the search\n",
    "        return 0\n",
    "    return len(string)\n",
    "\n",
    "\n",
    "ea = al.EvolutionaryAlgorithm(grammar, objective_function, 'max', max_generations=5)\n",
    "best_individual = ea.run()\n",
    "\n",
    "string = best_individual.phenotype\n",
    "print('A long string with {} characters:'.format(len(string)))\n",
    "print(string)"
   ]
  },
  {
   "cell_type": "markdown",
   "metadata": {},
   "source": [
    "## Use the grammar for parsing\n",
    "\n",
    "### a) Check if a string is part of the language"
   ]
  },
  {
   "cell_type": "code",
   "execution_count": 8,
   "metadata": {},
   "outputs": [
    {
     "name": "stdout",
     "output_type": "stream",
     "text": [
      "Is string \"a\" part of the language? True\n",
      "Is string \"aa\" part of the language? False\n",
      "Is string \"aaa\" part of the language? True\n",
      "Is string \"aba\" part of the language? True\n",
      "Is string \"ab\" part of the language? False\n"
     ]
    }
   ],
   "source": [
    "strings = ['a', 'aa', 'aaa', 'aba', 'ab']\n",
    "\n",
    "for string in strings:\n",
    "    result = grammar.recognize_string(string)\n",
    "    print('Is string \"{}\" part of the language? {}'.format(string, result))"
   ]
  },
  {
   "cell_type": "markdown",
   "metadata": {},
   "source": [
    "### b) Parse a string"
   ]
  },
  {
   "cell_type": "code",
   "execution_count": 9,
   "metadata": {},
   "outputs": [],
   "source": [
    "parse_tree = grammar.parse_string('baabaab')"
   ]
  },
  {
   "cell_type": "markdown",
   "metadata": {},
   "source": [
    "#### Inspect the parse tree"
   ]
  },
  {
   "cell_type": "code",
   "execution_count": 10,
   "metadata": {},
   "outputs": [
    {
     "name": "stdout",
     "output_type": "stream",
     "text": [
      "(<S>(b<S>(a<S>(a<S>(b)a)a)b))\n"
     ]
    }
   ],
   "source": [
    "print(parse_tree)"
   ]
  },
  {
   "cell_type": "code",
   "execution_count": 11,
   "metadata": {},
   "outputs": [
    {
     "name": "stdout",
     "output_type": "stream",
     "text": [
      "<S>\n",
      " b\n",
      " <S>\n",
      "  a\n",
      "  <S>\n",
      "   a\n",
      "   <S>\n",
      "    b\n",
      "   a\n",
      "  a\n",
      " b\n"
     ]
    }
   ],
   "source": [
    "print(parse_tree.to_tree_notation())"
   ]
  },
  {
   "cell_type": "code",
   "execution_count": 12,
   "metadata": {},
   "outputs": [
    {
     "data": {
      "text/html": [
       "<svg width=\"206pt\" height=\"332pt\" viewBox=\"0.00 0.00 206.00 332.00\" xmlns=\"http://www.w3.org/2000/svg\" xmlns:xlink=\"http://www.w3.org/1999/xlink\"><g id=\"graph0\" class=\"graph\" transform=\"scale(1 1) rotate(0) translate(4 328)\"><title>%3</title><polygon fill=\"white\" stroke=\"transparent\" points=\"-4,4 -4,-328 202,-328 202,4 -4,4\"/><!-- 0 --><g id=\"node1\" class=\"node\"><title>0</title><polygon fill=\"white\" stroke=\"black\" points=\"126,-324 72,-324 72,-288 126,-288 126,-324\"/><text text-anchor=\"middle\" x=\"99\" y=\"-302.9\" font-family=\"Mono\" font-size=\"12.00\">S</text></g><!-- 1 --><g id=\"node2\" class=\"node\"><title>1</title><ellipse fill=\"#00864b\" stroke=\"black\" cx=\"27\" cy=\"-234\" rx=\"27\" ry=\"18\"/><text text-anchor=\"middle\" x=\"27\" y=\"-230.9\" font-family=\"Mono\" font-size=\"12.00\" fill=\"white\">b</text></g><!-- 0&#45;&gt;1 --><g id=\"edge1\" class=\"edge\"><title>0&#45;&gt;1</title><path fill=\"none\" stroke=\"black\" d=\"M81.2,-287.7C71.51,-278.28 59.44,-266.53 49.14,-256.53\"/><polygon fill=\"black\" stroke=\"black\" points=\"51.3,-253.74 41.69,-249.28 46.42,-258.76 51.3,-253.74\"/></g><!-- 2 --><g id=\"node3\" class=\"node\"><title>2</title><polygon fill=\"white\" stroke=\"black\" points=\"126,-252 72,-252 72,-216 126,-216 126,-252\"/><text text-anchor=\"middle\" x=\"99\" y=\"-230.9\" font-family=\"Mono\" font-size=\"12.00\">S</text></g><!-- 0&#45;&gt;2 --><g id=\"edge2\" class=\"edge\"><title>0&#45;&gt;2</title><path fill=\"none\" stroke=\"black\" d=\"M99,-287.7C99,-279.98 99,-270.71 99,-262.11\"/><polygon fill=\"black\" stroke=\"black\" points=\"102.5,-262.1 99,-252.1 95.5,-262.1 102.5,-262.1\"/></g><!-- 3 --><g id=\"node4\" class=\"node\"><title>3</title><ellipse fill=\"#00864b\" stroke=\"black\" cx=\"171\" cy=\"-234\" rx=\"27\" ry=\"18\"/><text text-anchor=\"middle\" x=\"171\" y=\"-230.9\" font-family=\"Mono\" font-size=\"12.00\" fill=\"white\">b</text></g><!-- 0&#45;&gt;3 --><g id=\"edge3\" class=\"edge\"><title>0&#45;&gt;3</title><path fill=\"none\" stroke=\"black\" d=\"M116.8,-287.7C126.49,-278.28 138.56,-266.53 148.86,-256.53\"/><polygon fill=\"black\" stroke=\"black\" points=\"151.58,-258.76 156.31,-249.28 146.7,-253.74 151.58,-258.76\"/></g><!-- 4 --><g id=\"node5\" class=\"node\"><title>4</title><ellipse fill=\"#00864b\" stroke=\"black\" cx=\"27\" cy=\"-162\" rx=\"27\" ry=\"18\"/><text text-anchor=\"middle\" x=\"27\" y=\"-158.9\" font-family=\"Mono\" font-size=\"12.00\" fill=\"white\">a</text></g><!-- 2&#45;&gt;4 --><g id=\"edge4\" class=\"edge\"><title>2&#45;&gt;4</title><path fill=\"none\" stroke=\"black\" d=\"M81.2,-215.7C71.51,-206.28 59.44,-194.53 49.14,-184.53\"/><polygon fill=\"black\" stroke=\"black\" points=\"51.3,-181.74 41.69,-177.28 46.42,-186.76 51.3,-181.74\"/></g><!-- 5 --><g id=\"node6\" class=\"node\"><title>5</title><polygon fill=\"white\" stroke=\"black\" points=\"126,-180 72,-180 72,-144 126,-144 126,-180\"/><text text-anchor=\"middle\" x=\"99\" y=\"-158.9\" font-family=\"Mono\" font-size=\"12.00\">S</text></g><!-- 2&#45;&gt;5 --><g id=\"edge5\" class=\"edge\"><title>2&#45;&gt;5</title><path fill=\"none\" stroke=\"black\" d=\"M99,-215.7C99,-207.98 99,-198.71 99,-190.11\"/><polygon fill=\"black\" stroke=\"black\" points=\"102.5,-190.1 99,-180.1 95.5,-190.1 102.5,-190.1\"/></g><!-- 6 --><g id=\"node7\" class=\"node\"><title>6</title><ellipse fill=\"#00864b\" stroke=\"black\" cx=\"171\" cy=\"-162\" rx=\"27\" ry=\"18\"/><text text-anchor=\"middle\" x=\"171\" y=\"-158.9\" font-family=\"Mono\" font-size=\"12.00\" fill=\"white\">a</text></g><!-- 2&#45;&gt;6 --><g id=\"edge6\" class=\"edge\"><title>2&#45;&gt;6</title><path fill=\"none\" stroke=\"black\" d=\"M116.8,-215.7C126.49,-206.28 138.56,-194.53 148.86,-184.53\"/><polygon fill=\"black\" stroke=\"black\" points=\"151.58,-186.76 156.31,-177.28 146.7,-181.74 151.58,-186.76\"/></g><!-- 7 --><g id=\"node8\" class=\"node\"><title>7</title><ellipse fill=\"#00864b\" stroke=\"black\" cx=\"27\" cy=\"-90\" rx=\"27\" ry=\"18\"/><text text-anchor=\"middle\" x=\"27\" y=\"-86.9\" font-family=\"Mono\" font-size=\"12.00\" fill=\"white\">a</text></g><!-- 5&#45;&gt;7 --><g id=\"edge7\" class=\"edge\"><title>5&#45;&gt;7</title><path fill=\"none\" stroke=\"black\" d=\"M81.2,-143.7C71.51,-134.28 59.44,-122.53 49.14,-112.53\"/><polygon fill=\"black\" stroke=\"black\" points=\"51.3,-109.74 41.69,-105.28 46.42,-114.76 51.3,-109.74\"/></g><!-- 8 --><g id=\"node9\" class=\"node\"><title>8</title><polygon fill=\"white\" stroke=\"black\" points=\"126,-108 72,-108 72,-72 126,-72 126,-108\"/><text text-anchor=\"middle\" x=\"99\" y=\"-86.9\" font-family=\"Mono\" font-size=\"12.00\">S</text></g><!-- 5&#45;&gt;8 --><g id=\"edge8\" class=\"edge\"><title>5&#45;&gt;8</title><path fill=\"none\" stroke=\"black\" d=\"M99,-143.7C99,-135.98 99,-126.71 99,-118.11\"/><polygon fill=\"black\" stroke=\"black\" points=\"102.5,-118.1 99,-108.1 95.5,-118.1 102.5,-118.1\"/></g><!-- 9 --><g id=\"node10\" class=\"node\"><title>9</title><ellipse fill=\"#00864b\" stroke=\"black\" cx=\"171\" cy=\"-90\" rx=\"27\" ry=\"18\"/><text text-anchor=\"middle\" x=\"171\" y=\"-86.9\" font-family=\"Mono\" font-size=\"12.00\" fill=\"white\">a</text></g><!-- 5&#45;&gt;9 --><g id=\"edge9\" class=\"edge\"><title>5&#45;&gt;9</title><path fill=\"none\" stroke=\"black\" d=\"M116.8,-143.7C126.49,-134.28 138.56,-122.53 148.86,-112.53\"/><polygon fill=\"black\" stroke=\"black\" points=\"151.58,-114.76 156.31,-105.28 146.7,-109.74 151.58,-114.76\"/></g><!-- 10 --><g id=\"node11\" class=\"node\"><title>10</title><ellipse fill=\"#00864b\" stroke=\"black\" cx=\"99\" cy=\"-18\" rx=\"27\" ry=\"18\"/><text text-anchor=\"middle\" x=\"99\" y=\"-14.9\" font-family=\"Mono\" font-size=\"12.00\" fill=\"white\">b</text></g><!-- 8&#45;&gt;10 --><g id=\"edge10\" class=\"edge\"><title>8&#45;&gt;10</title><path fill=\"none\" stroke=\"black\" d=\"M99,-71.7C99,-63.98 99,-54.71 99,-46.11\"/><polygon fill=\"black\" stroke=\"black\" points=\"102.5,-46.1 99,-36.1 95.5,-46.1 102.5,-46.1\"/></g></g></svg>"
      ],
      "text/plain": [
       "<DerivationTreeFigure object at 0x7f659c511480>"
      ]
     },
     "execution_count": 12,
     "metadata": {},
     "output_type": "execute_result"
    }
   ],
   "source": [
    "parse_tree.plot()"
   ]
  }
 ],
 "metadata": {
  "kernelspec": {
   "display_name": "Python 3 (ipykernel)",
   "language": "python",
   "name": "python3"
  },
  "language_info": {
   "codemirror_mode": {
    "name": "ipython",
    "version": 3
   },
   "file_extension": ".py",
   "mimetype": "text/x-python",
   "name": "python",
   "nbconvert_exporter": "python",
   "pygments_lexer": "ipython3",
   "version": "3.10.4"
  }
 },
 "nbformat": 4,
 "nbformat_minor": 2
}
