{
 "cells": [
  {
   "cell_type": "markdown",
   "metadata": {},
   "source": [
    "# Numeric literals in Python 3"
   ]
  },
  {
   "cell_type": "code",
   "execution_count": 1,
   "metadata": {},
   "outputs": [],
   "source": [
    "import alogos as al"
   ]
  },
  {
   "cell_type": "markdown",
   "metadata": {},
   "source": [
    "## 1) Create the grammar"
   ]
  },
  {
   "cell_type": "markdown",
   "metadata": {},
   "source": [
    "### Grammar for Python 3 integer literals\n",
    "\n",
    "- [Python: Integer literals](https://docs.python.org/3/reference/lexical_analysis.html#integer-literals)\n",
    "  \n",
    "Ellipses in the original text need to be replaced by the productions they stand for.\n",
    "\n",
    "Example: `\"1\"...\"9\"` becomes `\"0\" | \"1\" | \"2\" | \"3\" | \"4\" | \"5\" | \"6\" | \"7\" | \"8\" | \"9\"`"
   ]
  },
  {
   "cell_type": "code",
   "execution_count": 2,
   "metadata": {
    "scrolled": false
   },
   "outputs": [],
   "source": [
    "ebnf = \"\"\"\n",
    "integer      ::=  decinteger | bininteger | octinteger | hexinteger\n",
    "decinteger   ::=  nonzerodigit ([\"_\"] digit)* | \"0\"+ ([\"_\"] \"0\")*\n",
    "bininteger   ::=  \"0\" (\"b\" | \"B\") ([\"_\"] bindigit)+\n",
    "octinteger   ::=  \"0\" (\"o\" | \"O\") ([\"_\"] octdigit)+\n",
    "hexinteger   ::=  \"0\" (\"x\" | \"X\") ([\"_\"] hexdigit)+\n",
    "nonzerodigit ::=  \"1\" | \"2\" | \"3\" | \"4\" | \"5\" | \"6\" | \"7\" | \"8\" | \"9\"\n",
    "digit        ::=  \"0\" | \"1\" | \"2\" | \"3\" | \"4\" | \"5\" | \"6\" | \"7\" | \"8\" | \"9\"\n",
    "bindigit     ::=  \"0\" | \"1\"\n",
    "octdigit     ::=  \"0\" | \"1\" | \"2\" | \"3\" | \"4\" | \"5\" | \"6\" | \"7\"\n",
    "hexdigit     ::=  digit | \"a\" | \"b\" | \"c\" | \"d\" | \"e\" | \"f\" | \"A\" | \"B\" | \"C\" | \"D\" | \"E\" | \"F\"\n",
    "\"\"\"\n",
    "\n",
    "grammar_int = al.Grammar(ebnf_text=ebnf, defining_symbol='::=')"
   ]
  },
  {
   "cell_type": "markdown",
   "metadata": {},
   "source": [
    "### Grammar for Python 3 floating point literals\n",
    "\n",
    "- [Python: Floating-point literals](https://docs.python.org/3/reference/lexical_analysis.html#floating-point-literals)\n",
    "\n",
    "The rule for the `digit` nonterminal needs to be copied from the definition of integer literals"
   ]
  },
  {
   "cell_type": "code",
   "execution_count": 3,
   "metadata": {
    "scrolled": false
   },
   "outputs": [],
   "source": [
    "ebnf = \"\"\"\n",
    "floatnumber   ::=  pointfloat | exponentfloat\n",
    "pointfloat    ::=  [digitpart] fraction | digitpart \".\"\n",
    "exponentfloat ::=  (digitpart | pointfloat) exponent\n",
    "digitpart     ::=  digit ([\"_\"] digit)*\n",
    "fraction      ::=  \".\" digitpart\n",
    "exponent      ::=  (\"e\" | \"E\") [\"+\" | \"-\"] digitpart\n",
    "\n",
    "digit         ::=  \"0\" | \"1\" | \"2\" | \"3\" | \"4\" | \"5\" | \"6\" | \"7\" | \"8\" | \"9\"\n",
    "\"\"\"\n",
    "\n",
    "grammar_float = al.Grammar(ebnf_text=ebnf, defining_symbol='::=')"
   ]
  },
  {
   "cell_type": "markdown",
   "metadata": {},
   "source": [
    "## 2) Use the grammar to generate strings\n",
    "\n",
    "### a) Some random strings"
   ]
  },
  {
   "cell_type": "code",
   "execution_count": 4,
   "metadata": {},
   "outputs": [
    {
     "name": "stdout",
     "output_type": "stream",
     "text": [
      "Examples of integer literals   Number when evaluated (with this Python implementation)\n",
      "----------------------------   -------------------------------------------------------\n",
      "0B1_1_1_0                      14\n",
      "0o_5_3                         43\n",
      "0B1_0                          2\n",
      "0B_0                           0\n",
      "0b_1_1                         3\n",
      "00_0                           0\n",
      "0                              0\n",
      "0x_c_bcf_B                     834811\n",
      "0B_0                           0\n",
      "0_00                           0\n",
      "0O3_6_1                        241\n",
      "0                              0\n",
      "0b1_00                         4\n",
      "0x_a_E                         174\n",
      "0o_4_4                         36\n"
     ]
    }
   ],
   "source": [
    "n = 15\n",
    "left = 'Examples of integer literals'\n",
    "right = 'Number when evaluated (with this Python implementation)'\n",
    "print('{:30} {}'.format(left, right))\n",
    "print('{:30} {}'.format('-'*len(left), '-'*len(right)))\n",
    "\n",
    "for i in range(n):\n",
    "    string = grammar_int.generate_string()\n",
    "    number = eval(string)\n",
    "    print('{:30} {}'.format(string, number))"
   ]
  },
  {
   "cell_type": "code",
   "execution_count": 5,
   "metadata": {},
   "outputs": [
    {
     "name": "stdout",
     "output_type": "stream",
     "text": [
      "Examples of float literals     Number when evaluated (with this Python implementation)\n",
      "--------------------------     -------------------------------------------------------\n",
      "7.                             7.0\n",
      "9.                             9.0\n",
      "5.8e+7                         58000000.0\n",
      "6_8.3e1                        683.0\n",
      "9e1                            90.0\n",
      "3_7.                           37.0\n",
      "10597.e8                       1059700000000.0\n",
      "6.                             6.0\n",
      "9.                             9.0\n",
      "0E+6                           0.0\n",
      "6e-6                           6e-06\n",
      "51_7.E9                        517000000000.0\n",
      "1_5e-3_9                       1.5e-38\n",
      "3.2_6e-7                       3.26e-07\n",
      "5.                             5.0\n"
     ]
    }
   ],
   "source": [
    "left = 'Examples of float literals'\n",
    "right = 'Number when evaluated (with this Python implementation)'\n",
    "print('{:30} {}'.format(left, right))\n",
    "print('{:30} {}'.format('-'*len(left), '-'*len(right)))\n",
    "\n",
    "for i in range(n):\n",
    "    string = grammar_float.generate_string()\n",
    "    number = eval(string)\n",
    "    print('{:30} {}'.format(string, number))"
   ]
  },
  {
   "cell_type": "markdown",
   "metadata": {},
   "source": [
    "### b) A subset of the grammar's infinite language\n",
    "\n",
    "- For a **finite language** it is possible to generate all strings.\n",
    "- For an **infinite language**, as it is the case here, the construction process needs to be limited with the parameter `max_steps` to only get simple strings that can be generated with a few derivation steps from the start symbol."
   ]
  },
  {
   "cell_type": "code",
   "execution_count": 6,
   "metadata": {
    "scrolled": false
   },
   "outputs": [
    {
     "name": "stdout",
     "output_type": "stream",
     "text": [
      "6592 strings were generated, a subset of the inifinite language of integer literals.\n",
      "\n",
      "Here are some of these strings:\n",
      "0\n",
      "1\n",
      "00\n",
      "10\n",
      "99\n",
      "000\n",
      "863\n",
      "864\n",
      "0X_Bd\n",
      "0X_Be\n",
      "0xf_2\n",
      "0xf_3\n",
      "0X_A_8\n",
      "0X_A_9\n",
      "000_0_0\n",
      "0000_0_0\n"
     ]
    }
   ],
   "source": [
    "language = grammar_int.generate_language(max_steps=6, sort_order='shortlex') #, verbose=True)\n",
    "\n",
    "print('{} strings were generated, a subset of the inifinite language of integer literals.'.format(len(language)))\n",
    "print()\n",
    "print('Here are some of these strings:')\n",
    "for i in [0, 1, 10, 11, 100, 101, 1000, 1001, 4000, 4001, 5000, 5001, 6000, 6001, -2, -1]:\n",
    "    string = language[i]\n",
    "    print(string)"
   ]
  },
  {
   "cell_type": "code",
   "execution_count": 7,
   "metadata": {
    "scrolled": false
   },
   "outputs": [
    {
     "name": "stdout",
     "output_type": "stream",
     "text": [
      "1520 strings were generated, a subset of the inifinite language of float literals.\n",
      "\n",
      "Here are some of these strings:\n",
      ".0\n",
      ".1\n",
      "0.\n",
      "1.\n",
      "2.0\n",
      "2.1\n",
      "8E+0\n",
      "8E+1\n",
      "2.E+1\n",
      "2.E+2\n",
      "9.e-8\n",
      "9.e-9\n"
     ]
    }
   ],
   "source": [
    "language = grammar_float.generate_language(max_steps=6, sort_order='shortlex')\n",
    "\n",
    "print('{} strings were generated, a subset of the inifinite language of float literals.'.format(len(language)))\n",
    "print()\n",
    "print('Here are some of these strings:')\n",
    "for i in [0, 1, 10, 11, 100, 101, 1000, 1001, 1201, 1202, -2, -1]:\n",
    "    string = language[i]\n",
    "    print(string)"
   ]
  },
  {
   "cell_type": "markdown",
   "metadata": {},
   "source": [
    "## 3) Use the grammar to parse strings\n",
    "\n",
    "### a) Recognize if a string belongs to the language defined by a grammar"
   ]
  },
  {
   "cell_type": "code",
   "execution_count": 8,
   "metadata": {},
   "outputs": [],
   "source": [
    "# Examples from website\n",
    "examples_int = [\n",
    "    '7', '2147483647', '0o177', '0b100110111', '3', '79228162514264337593543950336',\n",
    "    '0o377', '0xdeadbeef', '100_000_000_000', '0b_1110_0101']\n",
    "\n",
    "# Counterexamples by myself\n",
    "counterexamples_int = ['007', '1__0', '0o8', '0xEFG']"
   ]
  },
  {
   "cell_type": "code",
   "execution_count": 9,
   "metadata": {},
   "outputs": [
    {
     "name": "stdout",
     "output_type": "stream",
     "text": [
      "Candidate string               Is it recognized as valid Python integer literal?\n",
      "----------------               -------------------------------------------------\n",
      "7                              True\n",
      "2147483647                     True\n",
      "0o177                          True\n",
      "0b100110111                    True\n",
      "3                              True\n",
      "79228162514264337593543950336  True\n",
      "0o377                          True\n",
      "0xdeadbeef                     True\n",
      "100_000_000_000                True\n",
      "0b_1110_0101                   True\n",
      "007                            False\n",
      "1__0                           False\n",
      "0o8                            False\n",
      "0xEFG                          False\n"
     ]
    }
   ],
   "source": [
    "left = 'Candidate string'\n",
    "right = 'Is it recognized as valid Python integer literal?'\n",
    "print('{:30} {}'.format(left, right))\n",
    "print('{:30} {}'.format('-'*len(left), '-'*len(right)))\n",
    "\n",
    "for string in examples_int + counterexamples_int:\n",
    "    is_recognized = grammar_int.recognize_string(string)\n",
    "    print('{:30} {}'.format(string, is_recognized))"
   ]
  },
  {
   "cell_type": "code",
   "execution_count": 10,
   "metadata": {},
   "outputs": [],
   "source": [
    "# Examples from website\n",
    "examples_float = ['3.14', '10.', '.001', '1e100', '3.14e-10', '0e0', '3.14_15_93']\n",
    "\n",
    "# Counterexamples by myself\n",
    "counterexamples_float = ['3.1.4', '10.0_', '1e_100']"
   ]
  },
  {
   "cell_type": "code",
   "execution_count": 11,
   "metadata": {},
   "outputs": [
    {
     "name": "stdout",
     "output_type": "stream",
     "text": [
      "Candidate string               Is it recognized as valid Python floating-point literal?\n",
      "----------------               --------------------------------------------------------\n",
      "3.14                           True\n",
      "10.                            True\n",
      ".001                           True\n",
      "1e100                          True\n",
      "3.14e-10                       True\n",
      "0e0                            True\n",
      "3.14_15_93                     True\n",
      "3.1.4                          False\n",
      "10.0_                          False\n",
      "1e_100                         False\n"
     ]
    }
   ],
   "source": [
    "left = 'Candidate string'\n",
    "right = 'Is it recognized as valid Python floating-point literal?'\n",
    "print('{:30} {}'.format(left, right))\n",
    "print('{:30} {}'.format('-'*len(left), '-'*len(right)))\n",
    "\n",
    "for string in examples_float + counterexamples_float:\n",
    "    is_recognized = grammar_float.recognize_string(string)\n",
    "    print('{:30} {}'.format(string, is_recognized))"
   ]
  },
  {
   "cell_type": "markdown",
   "metadata": {},
   "source": [
    "### b) Analyze the syntactic structure of a string with its parse tree"
   ]
  },
  {
   "cell_type": "code",
   "execution_count": 12,
   "metadata": {},
   "outputs": [
    {
     "data": {
      "text/html": [
       "<svg width=\"539pt\" height=\"476pt\" viewBox=\"0.00 0.00 538.50 476.00\" xmlns=\"http://www.w3.org/2000/svg\" xmlns:xlink=\"http://www.w3.org/1999/xlink\"><g id=\"graph0\" class=\"graph\" transform=\"scale(1 1) rotate(0) translate(4 472)\"><title>%3</title><polygon fill=\"white\" stroke=\"transparent\" points=\"-4,4 -4,-472 534.5,-472 534.5,4 -4,4\"/><!-- 0 --><g id=\"node1\" class=\"node\"><title>0</title><polygon fill=\"white\" stroke=\"black\" points=\"163.5,-468 94.5,-468 94.5,-432 163.5,-432 163.5,-468\"/><text text-anchor=\"middle\" x=\"129\" y=\"-446.9\" font-family=\"Mono\" font-size=\"12.00\">integer</text></g><!-- 1 --><g id=\"node2\" class=\"node\"><title>1</title><polygon fill=\"white\" stroke=\"black\" points=\"175,-396 83,-396 83,-360 175,-360 175,-396\"/><text text-anchor=\"middle\" x=\"129\" y=\"-374.9\" font-family=\"Mono\" font-size=\"12.00\">hexinteger</text></g><!-- 0&#45;&gt;1 --><g id=\"edge1\" class=\"edge\"><title>0&#45;&gt;1</title><path fill=\"none\" stroke=\"black\" d=\"M129,-431.7C129,-423.98 129,-414.71 129,-406.11\"/><polygon fill=\"black\" stroke=\"black\" points=\"132.5,-406.1 129,-396.1 125.5,-406.1 132.5,-406.1\"/></g><!-- 2 --><g id=\"node3\" class=\"node\"><title>2</title><ellipse fill=\"#00864b\" stroke=\"black\" cx=\"27\" cy=\"-306\" rx=\"27\" ry=\"18\"/><text text-anchor=\"middle\" x=\"27\" y=\"-302.9\" font-family=\"Mono\" font-size=\"12.00\" fill=\"white\">0</text></g><!-- 1&#45;&gt;2 --><g id=\"edge2\" class=\"edge\"><title>1&#45;&gt;2</title><path fill=\"none\" stroke=\"black\" d=\"M104.05,-359.88C88.86,-349.45 69.47,-336.14 53.93,-325.48\"/><polygon fill=\"black\" stroke=\"black\" points=\"55.52,-322.33 45.3,-319.56 51.56,-328.1 55.52,-322.33\"/></g><!-- 3 --><g id=\"node4\" class=\"node\"><title>3</title><polygon fill=\"white\" stroke=\"black\" points=\"186,-324 72,-324 72,-288 186,-288 186,-324\"/><text text-anchor=\"middle\" x=\"129\" y=\"-302.9\" font-family=\"Mono\" font-size=\"12.00\">hexinteger_§0</text></g><!-- 1&#45;&gt;3 --><g id=\"edge3\" class=\"edge\"><title>1&#45;&gt;3</title><path fill=\"none\" stroke=\"black\" d=\"M129,-359.7C129,-351.98 129,-342.71 129,-334.11\"/><polygon fill=\"black\" stroke=\"black\" points=\"132.5,-334.1 129,-324.1 125.5,-334.1 132.5,-334.1\"/></g><!-- 4 --><g id=\"node5\" class=\"node\"><title>4</title><polygon fill=\"white\" stroke=\"black\" points=\"318,-324 204,-324 204,-288 318,-288 318,-324\"/><text text-anchor=\"middle\" x=\"261\" y=\"-302.9\" font-family=\"Mono\" font-size=\"12.00\">hexinteger_§3</text></g><!-- 1&#45;&gt;4 --><g id=\"edge4\" class=\"edge\"><title>1&#45;&gt;4</title><path fill=\"none\" stroke=\"black\" d=\"M161.29,-359.88C178.87,-350.55 200.81,-338.92 219.63,-328.94\"/><polygon fill=\"black\" stroke=\"black\" points=\"221.39,-331.97 228.59,-324.19 218.11,-325.78 221.39,-331.97\"/></g><!-- 5 --><g id=\"node6\" class=\"node\"><title>5</title><ellipse fill=\"#00864b\" stroke=\"black\" cx=\"129\" cy=\"-234\" rx=\"27\" ry=\"18\"/><text text-anchor=\"middle\" x=\"129\" y=\"-230.9\" font-family=\"Mono\" font-size=\"12.00\" fill=\"white\">x</text></g><!-- 3&#45;&gt;5 --><g id=\"edge5\" class=\"edge\"><title>3&#45;&gt;5</title><path fill=\"none\" stroke=\"black\" d=\"M129,-287.7C129,-279.98 129,-270.71 129,-262.11\"/><polygon fill=\"black\" stroke=\"black\" points=\"132.5,-262.1 129,-252.1 125.5,-262.1 132.5,-262.1\"/></g><!-- 6 --><g id=\"node7\" class=\"node\"><title>6</title><polygon fill=\"white\" stroke=\"black\" points=\"303,-252 189,-252 189,-216 303,-216 303,-252\"/><text text-anchor=\"middle\" x=\"246\" y=\"-230.9\" font-family=\"Mono\" font-size=\"12.00\">hexinteger_§3</text></g><!-- 4&#45;&gt;6 --><g id=\"edge6\" class=\"edge\"><title>4&#45;&gt;6</title><path fill=\"none\" stroke=\"black\" d=\"M257.29,-287.7C255.64,-279.98 253.65,-270.71 251.81,-262.11\"/><polygon fill=\"black\" stroke=\"black\" points=\"255.18,-261.15 249.67,-252.1 248.34,-262.62 255.18,-261.15\"/></g><!-- 7 --><g id=\"node8\" class=\"node\"><title>7</title><polygon fill=\"white\" stroke=\"black\" points=\"435,-252 321,-252 321,-216 435,-216 435,-252\"/><text text-anchor=\"middle\" x=\"378\" y=\"-230.9\" font-family=\"Mono\" font-size=\"12.00\">hexinteger_§2</text></g><!-- 4&#45;&gt;7 --><g id=\"edge7\" class=\"edge\"><title>4&#45;&gt;7</title><path fill=\"none\" stroke=\"black\" d=\"M289.62,-287.88C304.92,-278.72 323.94,-267.34 340.42,-257.48\"/><polygon fill=\"black\" stroke=\"black\" points=\"342.48,-260.33 349.27,-252.19 338.89,-254.32 342.48,-260.33\"/></g><!-- 8 --><g id=\"node9\" class=\"node\"><title>8</title><polygon fill=\"white\" stroke=\"black\" points=\"303,-180 189,-180 189,-144 303,-144 303,-180\"/><text text-anchor=\"middle\" x=\"246\" y=\"-158.9\" font-family=\"Mono\" font-size=\"12.00\">hexinteger_§2</text></g><!-- 6&#45;&gt;8 --><g id=\"edge8\" class=\"edge\"><title>6&#45;&gt;8</title><path fill=\"none\" stroke=\"black\" d=\"M246,-215.7C246,-207.98 246,-198.71 246,-190.11\"/><polygon fill=\"black\" stroke=\"black\" points=\"249.5,-190.1 246,-180.1 242.5,-190.1 249.5,-190.1\"/></g><!-- 13 --><g id=\"node14\" class=\"node\"><title>13</title><polygon fill=\"white\" stroke=\"black\" points=\"435,-180 321,-180 321,-144 435,-144 435,-180\"/><text text-anchor=\"middle\" x=\"378\" y=\"-158.9\" font-family=\"Mono\" font-size=\"12.00\">decinteger_§0</text></g><!-- 7&#45;&gt;13 --><g id=\"edge13\" class=\"edge\"><title>7&#45;&gt;13</title><path fill=\"none\" stroke=\"black\" d=\"M378,-215.7C378,-207.98 378,-198.71 378,-190.11\"/><polygon fill=\"black\" stroke=\"black\" points=\"381.5,-190.1 378,-180.1 374.5,-190.1 381.5,-190.1\"/></g><!-- 14 --><g id=\"node15\" class=\"node\"><title>14</title><polygon fill=\"white\" stroke=\"black\" points=\"530.5,-180 453.5,-180 453.5,-144 530.5,-144 530.5,-180\"/><text text-anchor=\"middle\" x=\"492\" y=\"-158.9\" font-family=\"Mono\" font-size=\"12.00\">hexdigit</text></g><!-- 7&#45;&gt;14 --><g id=\"edge14\" class=\"edge\"><title>7&#45;&gt;14</title><path fill=\"none\" stroke=\"black\" d=\"M405.89,-215.88C420.79,-206.72 439.33,-195.34 455.38,-185.48\"/><polygon fill=\"black\" stroke=\"black\" points=\"457.31,-188.41 464.01,-180.19 453.65,-182.44 457.31,-188.41\"/></g><!-- 9 --><g id=\"node10\" class=\"node\"><title>9</title><polygon fill=\"white\" stroke=\"black\" points=\"213,-108 99,-108 99,-72 213,-72 213,-108\"/><text text-anchor=\"middle\" x=\"156\" y=\"-86.9\" font-family=\"Mono\" font-size=\"12.00\">decinteger_§0</text></g><!-- 8&#45;&gt;9 --><g id=\"edge9\" class=\"edge\"><title>8&#45;&gt;9</title><path fill=\"none\" stroke=\"black\" d=\"M223.75,-143.7C212.42,-134.88 198.47,-124.03 186.18,-114.47\"/><polygon fill=\"black\" stroke=\"black\" points=\"188.03,-111.48 177.99,-108.1 183.74,-117.01 188.03,-111.48\"/></g><!-- 10 --><g id=\"node11\" class=\"node\"><title>10</title><polygon fill=\"white\" stroke=\"black\" points=\"308.5,-108 231.5,-108 231.5,-72 308.5,-72 308.5,-108\"/><text text-anchor=\"middle\" x=\"270\" y=\"-86.9\" font-family=\"Mono\" font-size=\"12.00\">hexdigit</text></g><!-- 8&#45;&gt;10 --><g id=\"edge10\" class=\"edge\"><title>8&#45;&gt;10</title><path fill=\"none\" stroke=\"black\" d=\"M251.93,-143.7C254.61,-135.9 257.83,-126.51 260.8,-117.83\"/><polygon fill=\"black\" stroke=\"black\" points=\"264.2,-118.7 264.14,-108.1 257.58,-116.43 264.2,-118.7\"/></g><!-- 11 --><g id=\"node12\" class=\"node\"><title>11</title><ellipse fill=\"#00864b\" stroke=\"black\" cx=\"156\" cy=\"-18\" rx=\"27\" ry=\"18\"/><text text-anchor=\"middle\" x=\"156\" y=\"-14.9\" font-family=\"Mono\" font-size=\"12.00\" fill=\"white\">ɛ</text></g><!-- 9&#45;&gt;11 --><g id=\"edge11\" class=\"edge\"><title>9&#45;&gt;11</title><path fill=\"none\" stroke=\"black\" d=\"M156,-71.7C156,-63.98 156,-54.71 156,-46.11\"/><polygon fill=\"black\" stroke=\"black\" points=\"159.5,-46.1 156,-36.1 152.5,-46.1 159.5,-46.1\"/></g><!-- 12 --><g id=\"node13\" class=\"node\"><title>12</title><ellipse fill=\"#00864b\" stroke=\"black\" cx=\"270\" cy=\"-18\" rx=\"27\" ry=\"18\"/><text text-anchor=\"middle\" x=\"270\" y=\"-14.9\" font-family=\"Mono\" font-size=\"12.00\" fill=\"white\">C</text></g><!-- 10&#45;&gt;12 --><g id=\"edge12\" class=\"edge\"><title>10&#45;&gt;12</title><path fill=\"none\" stroke=\"black\" d=\"M270,-71.7C270,-63.98 270,-54.71 270,-46.11\"/><polygon fill=\"black\" stroke=\"black\" points=\"273.5,-46.1 270,-36.1 266.5,-46.1 273.5,-46.1\"/></g><!-- 15 --><g id=\"node16\" class=\"node\"><title>15</title><ellipse fill=\"#00864b\" stroke=\"black\" cx=\"378\" cy=\"-90\" rx=\"27\" ry=\"18\"/><text text-anchor=\"middle\" x=\"378\" y=\"-86.9\" font-family=\"Mono\" font-size=\"12.00\" fill=\"white\">ɛ</text></g><!-- 13&#45;&gt;15 --><g id=\"edge15\" class=\"edge\"><title>13&#45;&gt;15</title><path fill=\"none\" stroke=\"black\" d=\"M378,-143.7C378,-135.98 378,-126.71 378,-118.11\"/><polygon fill=\"black\" stroke=\"black\" points=\"381.5,-118.1 378,-108.1 374.5,-118.1 381.5,-118.1\"/></g><!-- 16 --><g id=\"node17\" class=\"node\"><title>16</title><polygon fill=\"white\" stroke=\"black\" points=\"519,-108 465,-108 465,-72 519,-72 519,-108\"/><text text-anchor=\"middle\" x=\"492\" y=\"-86.9\" font-family=\"Mono\" font-size=\"12.00\">digit</text></g><!-- 14&#45;&gt;16 --><g id=\"edge16\" class=\"edge\"><title>14&#45;&gt;16</title><path fill=\"none\" stroke=\"black\" d=\"M492,-143.7C492,-135.98 492,-126.71 492,-118.11\"/><polygon fill=\"black\" stroke=\"black\" points=\"495.5,-118.1 492,-108.1 488.5,-118.1 495.5,-118.1\"/></g><!-- 17 --><g id=\"node18\" class=\"node\"><title>17</title><ellipse fill=\"#00864b\" stroke=\"black\" cx=\"492\" cy=\"-18\" rx=\"27\" ry=\"18\"/><text text-anchor=\"middle\" x=\"492\" y=\"-14.9\" font-family=\"Mono\" font-size=\"12.00\" fill=\"white\">3</text></g><!-- 16&#45;&gt;17 --><g id=\"edge17\" class=\"edge\"><title>16&#45;&gt;17</title><path fill=\"none\" stroke=\"black\" d=\"M492,-71.7C492,-63.98 492,-54.71 492,-46.11\"/><polygon fill=\"black\" stroke=\"black\" points=\"495.5,-46.1 492,-36.1 488.5,-46.1 495.5,-46.1\"/></g></g></svg>"
      ],
      "text/plain": [
       "(<integer>(<hexinteger>(0<hexinteger_§0>(x)<hexinteger_§3>(<hexinteger_§3>(<hexinteger_§2>(<decinteger_§0>()<hexdigit>(C)))<hexinteger_§2>(<decinteger_§0>()<hexdigit>(<digit>(3)))))))"
      ]
     },
     "execution_count": 12,
     "metadata": {},
     "output_type": "execute_result"
    }
   ],
   "source": [
    "parse_tree = grammar_int.parse_string('0xC3')\n",
    "parse_tree"
   ]
  },
  {
   "cell_type": "code",
   "execution_count": 13,
   "metadata": {},
   "outputs": [
    {
     "data": {
      "text/html": [
       "<svg width=\"788pt\" height=\"548pt\" viewBox=\"0.00 0.00 787.77 548.00\" xmlns=\"http://www.w3.org/2000/svg\" xmlns:xlink=\"http://www.w3.org/1999/xlink\"><g id=\"graph0\" class=\"graph\" transform=\"scale(1 1) rotate(0) translate(4 544)\"><title>%3</title><polygon fill=\"white\" stroke=\"transparent\" points=\"-4,4 -4,-544 783.77,-544 783.77,4 -4,4\"/><!-- 0 --><g id=\"node1\" class=\"node\"><title>0</title><polygon fill=\"lightblue\" stroke=\"black\" points=\"294.63,-522 259.51,-540 189.26,-540 154.14,-522 189.26,-504 259.51,-504 294.63,-522\"/><text text-anchor=\"middle\" x=\"224.38\" y=\"-518.9\" font-family=\"Mono\" font-size=\"12.00\">floatnumber</text></g><!-- 1 --><g id=\"node2\" class=\"node\"><title>1</title><polygon fill=\"lightblue\" stroke=\"black\" points=\"289.68,-450 257.03,-468 191.74,-468 159.09,-450 191.74,-432 257.03,-432 289.68,-450\"/><text text-anchor=\"middle\" x=\"224.38\" y=\"-446.9\" font-family=\"Mono\" font-size=\"12.00\">pointfloat</text></g><!-- 0&#45;&gt;1 --><g id=\"edge1\" class=\"edge\"><title>0&#45;&gt;1</title><path fill=\"none\" stroke=\"black\" d=\"M224.38,-503.7C224.38,-495.98 224.38,-486.71 224.38,-478.11\"/><polygon fill=\"black\" stroke=\"black\" points=\"227.88,-478.1 224.38,-468.1 220.88,-478.1 227.88,-478.1\"/></g><!-- 2 --><g id=\"node3\" class=\"node\"><title>2</title><polygon fill=\"lightblue\" stroke=\"black\" points=\"228.45,-378 187.92,-396 106.85,-396 66.32,-378 106.85,-360 187.92,-360 228.45,-378\"/><text text-anchor=\"middle\" x=\"147.38\" y=\"-374.9\" font-family=\"Mono\" font-size=\"12.00\">pointfloat_§0</text></g><!-- 1&#45;&gt;2 --><g id=\"edge2\" class=\"edge\"><title>1&#45;&gt;2</title><path fill=\"none\" stroke=\"black\" d=\"M205.35,-431.7C195.84,-423.05 184.18,-412.45 173.81,-403.03\"/><polygon fill=\"black\" stroke=\"black\" points=\"175.95,-400.24 166.2,-396.1 171.24,-405.42 175.95,-400.24\"/></g><!-- 3 --><g id=\"node4\" class=\"node\"><title>3</title><polygon fill=\"lightblue\" stroke=\"black\" points=\"356.35,-378 328.87,-396 273.9,-396 246.42,-378 273.9,-360 328.87,-360 356.35,-378\"/><text text-anchor=\"middle\" x=\"301.38\" y=\"-374.9\" font-family=\"Mono\" font-size=\"12.00\">fraction</text></g><!-- 1&#45;&gt;3 --><g id=\"edge3\" class=\"edge\"><title>1&#45;&gt;3</title><path fill=\"none\" stroke=\"black\" d=\"M243.42,-431.7C252.93,-423.05 264.59,-412.45 274.95,-403.03\"/><polygon fill=\"black\" stroke=\"black\" points=\"277.52,-405.42 282.57,-396.1 272.82,-400.24 277.52,-405.42\"/></g><!-- 4 --><g id=\"node5\" class=\"node\"><title>4</title><polygon fill=\"lightblue\" stroke=\"black\" points=\"207.3,-306 177.34,-324 117.43,-324 87.47,-306 117.43,-288 177.34,-288 207.3,-306\"/><text text-anchor=\"middle\" x=\"147.38\" y=\"-302.9\" font-family=\"Mono\" font-size=\"12.00\">digitpart</text></g><!-- 2&#45;&gt;4 --><g id=\"edge4\" class=\"edge\"><title>2&#45;&gt;4</title><path fill=\"none\" stroke=\"black\" d=\"M147.38,-359.7C147.38,-351.98 147.38,-342.71 147.38,-334.11\"/><polygon fill=\"black\" stroke=\"black\" points=\"150.88,-334.1 147.38,-324.1 143.88,-334.1 150.88,-334.1\"/></g><!-- 9 --><g id=\"node10\" class=\"node\"><title>9</title><ellipse fill=\"black\" stroke=\"black\" cx=\"272.38\" cy=\"-306\" rx=\"18\" ry=\"18\"/><text text-anchor=\"middle\" x=\"272.38\" y=\"-302.9\" font-family=\"Mono\" font-size=\"12.00\" fill=\"white\">.</text></g><!-- 3&#45;&gt;9 --><g id=\"edge9\" class=\"edge\"><title>3&#45;&gt;9</title><path fill=\"none\" stroke=\"black\" d=\"M294.22,-359.7C290.82,-351.49 286.69,-341.52 282.94,-332.48\"/><polygon fill=\"black\" stroke=\"black\" points=\"286.13,-331.04 279.07,-323.14 279.67,-333.72 286.13,-331.04\"/></g><!-- 10 --><g id=\"node11\" class=\"node\"><title>10</title><polygon fill=\"lightblue\" stroke=\"black\" points=\"428.3,-306 398.34,-324 338.43,-324 308.47,-306 338.43,-288 398.34,-288 428.3,-306\"/><text text-anchor=\"middle\" x=\"368.38\" y=\"-302.9\" font-family=\"Mono\" font-size=\"12.00\">digitpart</text></g><!-- 3&#45;&gt;10 --><g id=\"edge10\" class=\"edge\"><title>3&#45;&gt;10</title><path fill=\"none\" stroke=\"black\" d=\"M317.95,-359.7C326.06,-351.22 335.97,-340.86 344.86,-331.58\"/><polygon fill=\"black\" stroke=\"black\" points=\"347.63,-333.75 352.01,-324.1 342.57,-328.91 347.63,-333.75\"/></g><!-- 5 --><g id=\"node6\" class=\"node\"><title>5</title><polygon fill=\"lightblue\" stroke=\"black\" points=\"76.65,-234 57.52,-252 19.25,-252 0.12,-234 19.25,-216 57.52,-216 76.65,-234\"/><text text-anchor=\"middle\" x=\"38.38\" y=\"-230.9\" font-family=\"Mono\" font-size=\"12.00\">digit</text></g><!-- 4&#45;&gt;5 --><g id=\"edge5\" class=\"edge\"><title>4&#45;&gt;5</title><path fill=\"none\" stroke=\"black\" d=\"M120.72,-287.88C105.19,-277.9 85.54,-265.29 69.33,-254.88\"/><polygon fill=\"black\" stroke=\"black\" points=\"71.04,-251.81 60.73,-249.35 67.25,-257.7 71.04,-251.81\"/></g><!-- 6 --><g id=\"node7\" class=\"node\"><title>6</title><polygon fill=\"lightblue\" stroke=\"black\" points=\"246.5,-234 208.44,-252 132.33,-252 94.27,-234 132.33,-216 208.44,-216 246.5,-234\"/><text text-anchor=\"middle\" x=\"170.38\" y=\"-230.9\" font-family=\"Mono\" font-size=\"12.00\">digitpart_§2</text></g><!-- 4&#45;&gt;6 --><g id=\"edge6\" class=\"edge\"><title>4&#45;&gt;6</title><path fill=\"none\" stroke=\"black\" d=\"M153.07,-287.7C155.63,-279.9 158.72,-270.51 161.57,-261.83\"/><polygon fill=\"black\" stroke=\"black\" points=\"164.97,-262.7 164.76,-252.1 158.32,-260.51 164.97,-262.7\"/></g><!-- 7 --><g id=\"node8\" class=\"node\"><title>7</title><ellipse fill=\"black\" stroke=\"black\" cx=\"38.38\" cy=\"-162\" rx=\"18\" ry=\"18\"/><text text-anchor=\"middle\" x=\"38.38\" y=\"-158.9\" font-family=\"Mono\" font-size=\"12.00\" fill=\"white\">3</text></g><!-- 5&#45;&gt;7 --><g id=\"edge7\" class=\"edge\"><title>5&#45;&gt;7</title><path fill=\"none\" stroke=\"black\" d=\"M38.38,-215.7C38.38,-207.98 38.38,-198.71 38.38,-190.11\"/><polygon fill=\"black\" stroke=\"black\" points=\"41.88,-190.1 38.38,-180.1 34.88,-190.1 41.88,-190.1\"/></g><!-- 8 --><g id=\"node9\" class=\"node\"><title>8</title><ellipse fill=\"black\" stroke=\"black\" cx=\"170.38\" cy=\"-162\" rx=\"18\" ry=\"18\"/><text text-anchor=\"middle\" x=\"170.38\" y=\"-158.9\" font-family=\"Mono\" font-size=\"12.00\" fill=\"white\">ɛ</text></g><!-- 6&#45;&gt;8 --><g id=\"edge8\" class=\"edge\"><title>6&#45;&gt;8</title><path fill=\"none\" stroke=\"black\" d=\"M170.38,-215.7C170.38,-207.98 170.38,-198.71 170.38,-190.11\"/><polygon fill=\"black\" stroke=\"black\" points=\"173.88,-190.1 170.38,-180.1 166.88,-190.1 173.88,-190.1\"/></g><!-- 11 --><g id=\"node12\" class=\"node\"><title>11</title><polygon fill=\"lightblue\" stroke=\"black\" points=\"384.65,-234 365.52,-252 327.25,-252 308.12,-234 327.25,-216 365.52,-216 384.65,-234\"/><text text-anchor=\"middle\" x=\"346.38\" y=\"-230.9\" font-family=\"Mono\" font-size=\"12.00\">digit</text></g><!-- 10&#45;&gt;11 --><g id=\"edge11\" class=\"edge\"><title>10&#45;&gt;11</title><path fill=\"none\" stroke=\"black\" d=\"M362.95,-287.7C360.49,-279.9 357.54,-270.51 354.82,-261.83\"/><polygon fill=\"black\" stroke=\"black\" points=\"358.1,-260.59 351.76,-252.1 351.42,-262.69 358.1,-260.59\"/></g><!-- 12 --><g id=\"node13\" class=\"node\"><title>12</title><polygon fill=\"lightblue\" stroke=\"black\" points=\"554.5,-234 516.44,-252 440.33,-252 402.27,-234 440.33,-216 516.44,-216 554.5,-234\"/><text text-anchor=\"middle\" x=\"478.38\" y=\"-230.9\" font-family=\"Mono\" font-size=\"12.00\">digitpart_§2</text></g><!-- 10&#45;&gt;12 --><g id=\"edge12\" class=\"edge\"><title>10&#45;&gt;12</title><path fill=\"none\" stroke=\"black\" d=\"M395.29,-287.88C409.54,-278.81 427.23,-267.55 442.62,-257.76\"/><polygon fill=\"black\" stroke=\"black\" points=\"444.81,-260.51 451.37,-252.19 441.06,-254.61 444.81,-260.51\"/></g><!-- 13 --><g id=\"node14\" class=\"node\"><title>13</title><ellipse fill=\"black\" stroke=\"black\" cx=\"346.38\" cy=\"-162\" rx=\"18\" ry=\"18\"/><text text-anchor=\"middle\" x=\"346.38\" y=\"-158.9\" font-family=\"Mono\" font-size=\"12.00\" fill=\"white\">1</text></g><!-- 11&#45;&gt;13 --><g id=\"edge13\" class=\"edge\"><title>11&#45;&gt;13</title><path fill=\"none\" stroke=\"black\" d=\"M346.38,-215.7C346.38,-207.98 346.38,-198.71 346.38,-190.11\"/><polygon fill=\"black\" stroke=\"black\" points=\"349.88,-190.1 346.38,-180.1 342.88,-190.1 349.88,-190.1\"/></g><!-- 14 --><g id=\"node15\" class=\"node\"><title>14</title><polygon fill=\"lightblue\" stroke=\"black\" points=\"544.5,-162 506.44,-180 430.33,-180 392.27,-162 430.33,-144 506.44,-144 544.5,-162\"/><text text-anchor=\"middle\" x=\"468.38\" y=\"-158.9\" font-family=\"Mono\" font-size=\"12.00\">digitpart_§2</text></g><!-- 12&#45;&gt;14 --><g id=\"edge14\" class=\"edge\"><title>12&#45;&gt;14</title><path fill=\"none\" stroke=\"black\" d=\"M475.91,-215.7C474.81,-207.98 473.49,-198.71 472.26,-190.11\"/><polygon fill=\"black\" stroke=\"black\" points=\"475.71,-189.51 470.83,-180.1 468.78,-190.5 475.71,-189.51\"/></g><!-- 15 --><g id=\"node16\" class=\"node\"><title>15</title><polygon fill=\"lightblue\" stroke=\"black\" points=\"714.5,-162 676.44,-180 600.33,-180 562.27,-162 600.33,-144 676.44,-144 714.5,-162\"/><text text-anchor=\"middle\" x=\"638.38\" y=\"-158.9\" font-family=\"Mono\" font-size=\"12.00\">digitpart_§1</text></g><!-- 12&#45;&gt;15 --><g id=\"edge15\" class=\"edge\"><title>12&#45;&gt;15</title><path fill=\"none\" stroke=\"black\" d=\"M517.12,-216.05C539.14,-206.42 566.92,-194.26 590.33,-184.02\"/><polygon fill=\"black\" stroke=\"black\" points=\"591.97,-187.12 599.73,-179.91 589.17,-180.71 591.97,-187.12\"/></g><!-- 16 --><g id=\"node17\" class=\"node\"><title>16</title><ellipse fill=\"black\" stroke=\"black\" cx=\"468.38\" cy=\"-90\" rx=\"18\" ry=\"18\"/><text text-anchor=\"middle\" x=\"468.38\" y=\"-86.9\" font-family=\"Mono\" font-size=\"12.00\" fill=\"white\">ɛ</text></g><!-- 14&#45;&gt;16 --><g id=\"edge16\" class=\"edge\"><title>14&#45;&gt;16</title><path fill=\"none\" stroke=\"black\" d=\"M468.38,-143.7C468.38,-135.98 468.38,-126.71 468.38,-118.11\"/><polygon fill=\"black\" stroke=\"black\" points=\"471.88,-118.1 468.38,-108.1 464.88,-118.1 471.88,-118.1\"/></g><!-- 17 --><g id=\"node18\" class=\"node\"><title>17</title><polygon fill=\"lightblue\" stroke=\"black\" points=\"685.5,-90 647.44,-108 571.33,-108 533.27,-90 571.33,-72 647.44,-72 685.5,-90\"/><text text-anchor=\"middle\" x=\"609.38\" y=\"-86.9\" font-family=\"Mono\" font-size=\"12.00\">digitpart_§0</text></g><!-- 15&#45;&gt;17 --><g id=\"edge17\" class=\"edge\"><title>15&#45;&gt;17</title><path fill=\"none\" stroke=\"black\" d=\"M631.22,-143.7C627.95,-135.81 624.01,-126.3 620.38,-117.55\"/><polygon fill=\"black\" stroke=\"black\" points=\"623.53,-116 616.47,-108.1 617.06,-118.68 623.53,-116\"/></g><!-- 18 --><g id=\"node19\" class=\"node\"><title>18</title><polygon fill=\"lightblue\" stroke=\"black\" points=\"779.65,-90 760.52,-108 722.25,-108 703.12,-90 722.25,-72 760.52,-72 779.65,-90\"/><text text-anchor=\"middle\" x=\"741.38\" y=\"-86.9\" font-family=\"Mono\" font-size=\"12.00\">digit</text></g><!-- 15&#45;&gt;18 --><g id=\"edge18\" class=\"edge\"><title>15&#45;&gt;18</title><path fill=\"none\" stroke=\"black\" d=\"M663.58,-143.88C677.92,-134.13 695.98,-121.86 711.08,-111.59\"/><polygon fill=\"black\" stroke=\"black\" points=\"713.28,-114.33 719.59,-105.81 709.35,-108.54 713.28,-114.33\"/></g><!-- 19 --><g id=\"node20\" class=\"node\"><title>19</title><ellipse fill=\"black\" stroke=\"black\" cx=\"609.38\" cy=\"-18\" rx=\"18\" ry=\"18\"/><text text-anchor=\"middle\" x=\"609.38\" y=\"-14.9\" font-family=\"Mono\" font-size=\"12.00\" fill=\"white\">ɛ</text></g><!-- 17&#45;&gt;19 --><g id=\"edge19\" class=\"edge\"><title>17&#45;&gt;19</title><path fill=\"none\" stroke=\"black\" d=\"M609.38,-71.7C609.38,-63.98 609.38,-54.71 609.38,-46.11\"/><polygon fill=\"black\" stroke=\"black\" points=\"612.88,-46.1 609.38,-36.1 605.88,-46.1 612.88,-46.1\"/></g><!-- 20 --><g id=\"node21\" class=\"node\"><title>20</title><ellipse fill=\"black\" stroke=\"black\" cx=\"741.38\" cy=\"-18\" rx=\"18\" ry=\"18\"/><text text-anchor=\"middle\" x=\"741.38\" y=\"-14.9\" font-family=\"Mono\" font-size=\"12.00\" fill=\"white\">4</text></g><!-- 18&#45;&gt;20 --><g id=\"edge20\" class=\"edge\"><title>18&#45;&gt;20</title><path fill=\"none\" stroke=\"black\" d=\"M741.38,-71.7C741.38,-63.98 741.38,-54.71 741.38,-46.11\"/><polygon fill=\"black\" stroke=\"black\" points=\"744.88,-46.1 741.38,-36.1 737.88,-46.1 744.88,-46.1\"/></g></g></svg>"
      ],
      "text/plain": [
       "<DerivationTreeFigure object at 0x7fca6168d990>"
      ]
     },
     "execution_count": 13,
     "metadata": {},
     "output_type": "execute_result"
    }
   ],
   "source": [
    "parse_tree = grammar_float.parse_string('3.14')\n",
    "parse_tree.plot(shape_nt='hexagon', fillcolor_nt='lightblue', shape_t='circle', fillcolor_t='black')"
   ]
  },
  {
   "cell_type": "markdown",
   "metadata": {},
   "source": [
    "## Optimization\n",
    "\n",
    "Grammar-guided genetic programming allows to search for optimal strings within a finite or infinite language. An objective function defines what is optimal. It takes a string as input (a member of the language) and returns a number as output (the objective value or fitness value of that string).\n",
    "\n",
    "Aim here: Try to find a float literal of length 4 that evaluates to the highest possible number."
   ]
  },
  {
   "cell_type": "code",
   "execution_count": 14,
   "metadata": {
    "scrolled": false
   },
   "outputs": [],
   "source": [
    "def objective_function(string):\n",
    "    if len(string) != 4:\n",
    "        raise ValueError('Undesired string, wrong length.')\n",
    "    number = eval(string)\n",
    "    return number"
   ]
  },
  {
   "cell_type": "code",
   "execution_count": 15,
   "metadata": {},
   "outputs": [
    {
     "name": "stdout",
     "output_type": "stream",
     "text": [
      "1234\n",
      "101\n",
      "30000000.0\n"
     ]
    }
   ],
   "source": [
    "# Test whether the function creates the expected numerical output\n",
    "print(objective_function('1234'))\n",
    "print(objective_function('1_01'))\n",
    "print(objective_function('3.e7'))"
   ]
  },
  {
   "cell_type": "code",
   "execution_count": 16,
   "metadata": {
    "scrolled": false
   },
   "outputs": [
    {
     "data": {
      "text/plain": [
       "'9E99'"
      ]
     },
     "execution_count": 16,
     "metadata": {},
     "output_type": "execute_result"
    }
   ],
   "source": [
    "ea = al.EvolutionaryAlgorithm(grammar_float, objective_function, 'max', max_generations=50)\n",
    "best_individual = ea.run()\n",
    "best_individual.phenotype"
   ]
  }
 ],
 "metadata": {
  "kernelspec": {
   "display_name": "Python 3 (ipykernel)",
   "language": "python",
   "name": "python3"
  },
  "language_info": {
   "codemirror_mode": {
    "name": "ipython",
    "version": 3
   },
   "file_extension": ".py",
   "mimetype": "text/x-python",
   "name": "python",
   "nbconvert_exporter": "python",
   "pygments_lexer": "ipython3",
   "version": "3.10.4"
  }
 },
 "nbformat": 4,
 "nbformat_minor": 4
}
