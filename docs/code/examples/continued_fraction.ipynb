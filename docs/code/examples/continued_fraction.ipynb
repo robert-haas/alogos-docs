{
 "cells": [
  {
   "cell_type": "markdown",
   "id": "ec97c8c0",
   "metadata": {},
   "source": [
    "# Find a continued fraction that approximates Euler's number\n",
    "\n",
    "This notebook is an example of finding an arithmetic expression that evaluates to a given number. In this case the arithmetic expression is chosen to be of the form of a continued fraction and the target number is Euler's number e.\n",
    "\n",
    "## References\n",
    "\n",
    "- [e](https://en.wikipedia.org/wiki/E_(mathematical_constant))\n",
    "- [Continued fraction](https://en.wikipedia.org/wiki/Continued_fraction)\n",
    "- [Continued fraction for e](https://oeis.org/A003417)\n",
    "\n",
    "  - `2, 1, 2, 1, 1, 4, 1, 1, 6, 1, 1, 8, 1, 1, 10, 1, 1, 12, 1, 1, 14, ...`"
   ]
  },
  {
   "cell_type": "code",
   "execution_count": 1,
   "id": "07658be3",
   "metadata": {},
   "outputs": [],
   "source": [
    "from math import e\n",
    "\n",
    "import alogos as al"
   ]
  },
  {
   "cell_type": "markdown",
   "id": "438054de",
   "metadata": {},
   "source": [
    "## Search space\n",
    "\n",
    "A recursive grammar that describes an infinite language for continued fractions that can be evaluated in Python."
   ]
  },
  {
   "cell_type": "code",
   "execution_count": 2,
   "id": "148c0b91",
   "metadata": {},
   "outputs": [],
   "source": [
    "ebnf_text = \"\"\"\n",
    "S = CONST \"+1/(\" S \")\" | CONST\n",
    "CONST = DIGIT | DIGIT DIGIT\n",
    "DIGIT = \"1\" | \"2\" | \"3\" | \"4\" | \"5\" | \"6\" | \"7\" | \"8\" | \"9\"\n",
    "\"\"\"\n",
    "\n",
    "grammar = al.Grammar(ebnf_text=ebnf_text)"
   ]
  },
  {
   "cell_type": "markdown",
   "id": "02436e27",
   "metadata": {},
   "source": [
    "## Search goal\n",
    "\n",
    "An objective function that evaluates the string, which represents a continued fraction, in order to get a number and returns the deviation from the target number e."
   ]
  },
  {
   "cell_type": "code",
   "execution_count": 3,
   "id": "51d05d4c",
   "metadata": {},
   "outputs": [],
   "source": [
    "def objective_function(string):\n",
    "    number = eval(string)\n",
    "    return abs(number-e)"
   ]
  },
  {
   "cell_type": "markdown",
   "id": "1d52b215",
   "metadata": {},
   "source": [
    "## Search an optimal string\n"
   ]
  },
  {
   "cell_type": "code",
   "execution_count": 4,
   "id": "784cebc4",
   "metadata": {},
   "outputs": [
    {
     "name": "stdout",
     "output_type": "stream",
     "text": [
      "Progress         Generations      Evaluations      Runtime (sec)    Best fitness    \n",
      "..... .....      10               1990             1.4              0.2917181715409547\n",
      "..... .....      20               3871             1.7              0.13886102868381212\n",
      "..... .....      30               5179             1.9              0.13886102868381212\n",
      "..... .....      40               6668             2.0              0.004345236760967985\n",
      "..... .....      50               8513             2.2              0.0003331105103270282\n",
      "..... .....      60               10378            2.3              7.716783918088055e-06\n",
      "..... .....      70               12318            2.6              8.319676370049933e-08\n",
      "..... .....      80               14285            2.9              3.6071940989756968e-09\n",
      "..... .....      90               16263            3.2              8.222178493610954e-11\n",
      "..... .....      100              18251            3.6              1.4412027127264082e-11\n",
      "..... .....      110              20234            3.9              1.3921752639589613e-11\n",
      "..... .....      120              22216            4.5              1.3919532193540363e-11\n",
      "..... .....      130              24172            4.8              1.3916867658281262e-11\n",
      "..... .....      140              26160            5.2              1.3916867658281262e-11\n",
      "..... .....      150              28142            5.7              1.3916867658281262e-11\n",
      "..... .....      160              30130            6.4              1.1538769939534177e-11\n",
      "..... .....      170              32102            7.0              1.1538769939534177e-11\n",
      "..... .....      180              34000            7.3              1.1538769939534177e-11\n",
      "..... .....      190              35876            7.5              1.1538769939534177e-11\n",
      "..... .....      200              37727            7.8              1.1538769939534177e-11\n",
      "\n",
      "\n",
      "Finished         200              37727            7.8              1.1538769939534177e-11\n"
     ]
    }
   ],
   "source": [
    "ea = al.EvolutionaryAlgorithm(\n",
    "    grammar, objective_function, 'min', verbose=True,\n",
    "    max_generations=200, population_size=200, offspring_size=200)\n",
    "best_ind = ea.run()"
   ]
  },
  {
   "cell_type": "code",
   "execution_count": 5,
   "id": "9b2038af",
   "metadata": {},
   "outputs": [
    {
     "name": "stdout",
     "output_type": "stream",
     "text": [
      "2+1/(1+1/(2+1/(1+1/(1+1/(4+1/(1+1/(1+1/(6+1/(1+1/(1+1/(8+1/(1+1/(1+1/(11))))))))))))))\n"
     ]
    }
   ],
   "source": [
    "best_str = best_ind.phenotype\n",
    "print(best_str)"
   ]
  },
  {
   "cell_type": "code",
   "execution_count": 6,
   "id": "9833f046",
   "metadata": {},
   "outputs": [
    {
     "name": "stdout",
     "output_type": "stream",
     "text": [
      "Target: 2.718281828459045\n",
      "Found:  2.718281828470584\n"
     ]
    }
   ],
   "source": [
    "print('Target:', e)\n",
    "print('Found: ', eval(best_str))"
   ]
  }
 ],
 "metadata": {
  "kernelspec": {
   "display_name": "Python 3 (ipykernel)",
   "language": "python",
   "name": "python3"
  },
  "language_info": {
   "codemirror_mode": {
    "name": "ipython",
    "version": 3
   },
   "file_extension": ".py",
   "mimetype": "text/x-python",
   "name": "python",
   "nbconvert_exporter": "python",
   "pygments_lexer": "ipython3",
   "version": "3.10.4"
  }
 },
 "nbformat": 4,
 "nbformat_minor": 5
}
